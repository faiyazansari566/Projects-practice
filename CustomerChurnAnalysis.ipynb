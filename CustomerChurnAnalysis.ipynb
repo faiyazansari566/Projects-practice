{
  "nbformat": 4,
  "nbformat_minor": 0,
  "metadata": {
    "colab": {
      "name": "CustomerChurnAnalysis.ipynb",
      "provenance": [],
      "collapsed_sections": [],
      "authorship_tag": "ABX9TyNDOS5yXJWg0DD0XLqFHQ+x",
      "include_colab_link": true
    },
    "kernelspec": {
      "display_name": "Python 3",
      "name": "python3"
    },
    "language_info": {
      "name": "python"
    }
  },
  "cells": [
    {
      "cell_type": "markdown",
      "metadata": {
        "id": "view-in-github",
        "colab_type": "text"
      },
      "source": [
        "<a href=\"https://colab.research.google.com/github/faiyazansari566/Projects-practice/blob/main/CustomerChurnAnalysis.ipynb\" target=\"_parent\"><img src=\"https://colab.research.google.com/assets/colab-badge.svg\" alt=\"Open In Colab\"/></a>"
      ]
    },
    {
      "cell_type": "code",
      "metadata": {
        "id": "_IsDBwlgXO62"
      },
      "source": [
        "import pandas as pd\n",
        "import numpy as np\n",
        "import matplotlib.pyplot as plt\n",
        "import seaborn as sns\n",
        "import warnings\n",
        "warnings.filterwarnings('ignore')"
      ],
      "execution_count": 58,
      "outputs": []
    },
    {
      "cell_type": "code",
      "metadata": {
        "colab": {
          "base_uri": "https://localhost:8080/",
          "height": 309
        },
        "id": "z5lMNNXaZh0W",
        "outputId": "bf555e83-497b-479e-edfa-190038d63733"
      },
      "source": [
        "df = pd.read_csv('https://raw.githubusercontent.com/dsrscientist/DSData/master/Telecom_customer_churn.csv')\n",
        "df.head()"
      ],
      "execution_count": 59,
      "outputs": [
        {
          "output_type": "execute_result",
          "data": {
            "text/html": [
              "<div>\n",
              "<style scoped>\n",
              "    .dataframe tbody tr th:only-of-type {\n",
              "        vertical-align: middle;\n",
              "    }\n",
              "\n",
              "    .dataframe tbody tr th {\n",
              "        vertical-align: top;\n",
              "    }\n",
              "\n",
              "    .dataframe thead th {\n",
              "        text-align: right;\n",
              "    }\n",
              "</style>\n",
              "<table border=\"1\" class=\"dataframe\">\n",
              "  <thead>\n",
              "    <tr style=\"text-align: right;\">\n",
              "      <th></th>\n",
              "      <th>customerID</th>\n",
              "      <th>gender</th>\n",
              "      <th>SeniorCitizen</th>\n",
              "      <th>Partner</th>\n",
              "      <th>Dependents</th>\n",
              "      <th>tenure</th>\n",
              "      <th>PhoneService</th>\n",
              "      <th>MultipleLines</th>\n",
              "      <th>InternetService</th>\n",
              "      <th>OnlineSecurity</th>\n",
              "      <th>OnlineBackup</th>\n",
              "      <th>DeviceProtection</th>\n",
              "      <th>TechSupport</th>\n",
              "      <th>StreamingTV</th>\n",
              "      <th>StreamingMovies</th>\n",
              "      <th>Contract</th>\n",
              "      <th>PaperlessBilling</th>\n",
              "      <th>PaymentMethod</th>\n",
              "      <th>MonthlyCharges</th>\n",
              "      <th>TotalCharges</th>\n",
              "      <th>Churn</th>\n",
              "    </tr>\n",
              "  </thead>\n",
              "  <tbody>\n",
              "    <tr>\n",
              "      <th>0</th>\n",
              "      <td>7590-VHVEG</td>\n",
              "      <td>Female</td>\n",
              "      <td>0</td>\n",
              "      <td>Yes</td>\n",
              "      <td>No</td>\n",
              "      <td>1</td>\n",
              "      <td>No</td>\n",
              "      <td>No phone service</td>\n",
              "      <td>DSL</td>\n",
              "      <td>No</td>\n",
              "      <td>Yes</td>\n",
              "      <td>No</td>\n",
              "      <td>No</td>\n",
              "      <td>No</td>\n",
              "      <td>No</td>\n",
              "      <td>Month-to-month</td>\n",
              "      <td>Yes</td>\n",
              "      <td>Electronic check</td>\n",
              "      <td>29.85</td>\n",
              "      <td>29.85</td>\n",
              "      <td>No</td>\n",
              "    </tr>\n",
              "    <tr>\n",
              "      <th>1</th>\n",
              "      <td>5575-GNVDE</td>\n",
              "      <td>Male</td>\n",
              "      <td>0</td>\n",
              "      <td>No</td>\n",
              "      <td>No</td>\n",
              "      <td>34</td>\n",
              "      <td>Yes</td>\n",
              "      <td>No</td>\n",
              "      <td>DSL</td>\n",
              "      <td>Yes</td>\n",
              "      <td>No</td>\n",
              "      <td>Yes</td>\n",
              "      <td>No</td>\n",
              "      <td>No</td>\n",
              "      <td>No</td>\n",
              "      <td>One year</td>\n",
              "      <td>No</td>\n",
              "      <td>Mailed check</td>\n",
              "      <td>56.95</td>\n",
              "      <td>1889.5</td>\n",
              "      <td>No</td>\n",
              "    </tr>\n",
              "    <tr>\n",
              "      <th>2</th>\n",
              "      <td>3668-QPYBK</td>\n",
              "      <td>Male</td>\n",
              "      <td>0</td>\n",
              "      <td>No</td>\n",
              "      <td>No</td>\n",
              "      <td>2</td>\n",
              "      <td>Yes</td>\n",
              "      <td>No</td>\n",
              "      <td>DSL</td>\n",
              "      <td>Yes</td>\n",
              "      <td>Yes</td>\n",
              "      <td>No</td>\n",
              "      <td>No</td>\n",
              "      <td>No</td>\n",
              "      <td>No</td>\n",
              "      <td>Month-to-month</td>\n",
              "      <td>Yes</td>\n",
              "      <td>Mailed check</td>\n",
              "      <td>53.85</td>\n",
              "      <td>108.15</td>\n",
              "      <td>Yes</td>\n",
              "    </tr>\n",
              "    <tr>\n",
              "      <th>3</th>\n",
              "      <td>7795-CFOCW</td>\n",
              "      <td>Male</td>\n",
              "      <td>0</td>\n",
              "      <td>No</td>\n",
              "      <td>No</td>\n",
              "      <td>45</td>\n",
              "      <td>No</td>\n",
              "      <td>No phone service</td>\n",
              "      <td>DSL</td>\n",
              "      <td>Yes</td>\n",
              "      <td>No</td>\n",
              "      <td>Yes</td>\n",
              "      <td>Yes</td>\n",
              "      <td>No</td>\n",
              "      <td>No</td>\n",
              "      <td>One year</td>\n",
              "      <td>No</td>\n",
              "      <td>Bank transfer (automatic)</td>\n",
              "      <td>42.30</td>\n",
              "      <td>1840.75</td>\n",
              "      <td>No</td>\n",
              "    </tr>\n",
              "    <tr>\n",
              "      <th>4</th>\n",
              "      <td>9237-HQITU</td>\n",
              "      <td>Female</td>\n",
              "      <td>0</td>\n",
              "      <td>No</td>\n",
              "      <td>No</td>\n",
              "      <td>2</td>\n",
              "      <td>Yes</td>\n",
              "      <td>No</td>\n",
              "      <td>Fiber optic</td>\n",
              "      <td>No</td>\n",
              "      <td>No</td>\n",
              "      <td>No</td>\n",
              "      <td>No</td>\n",
              "      <td>No</td>\n",
              "      <td>No</td>\n",
              "      <td>Month-to-month</td>\n",
              "      <td>Yes</td>\n",
              "      <td>Electronic check</td>\n",
              "      <td>70.70</td>\n",
              "      <td>151.65</td>\n",
              "      <td>Yes</td>\n",
              "    </tr>\n",
              "  </tbody>\n",
              "</table>\n",
              "</div>"
            ],
            "text/plain": [
              "   customerID  gender  SeniorCitizen  ... MonthlyCharges TotalCharges  Churn\n",
              "0  7590-VHVEG  Female              0  ...          29.85        29.85     No\n",
              "1  5575-GNVDE    Male              0  ...          56.95       1889.5     No\n",
              "2  3668-QPYBK    Male              0  ...          53.85       108.15    Yes\n",
              "3  7795-CFOCW    Male              0  ...          42.30      1840.75     No\n",
              "4  9237-HQITU  Female              0  ...          70.70       151.65    Yes\n",
              "\n",
              "[5 rows x 21 columns]"
            ]
          },
          "metadata": {
            "tags": []
          },
          "execution_count": 59
        }
      ]
    },
    {
      "cell_type": "code",
      "metadata": {
        "colab": {
          "base_uri": "https://localhost:8080/"
        },
        "id": "oVZ-k0agZlOv",
        "outputId": "ce5900d4-8f8a-4db6-8ad5-a7388f60c719"
      },
      "source": [
        "df.shape"
      ],
      "execution_count": 60,
      "outputs": [
        {
          "output_type": "execute_result",
          "data": {
            "text/plain": [
              "(7043, 21)"
            ]
          },
          "metadata": {
            "tags": []
          },
          "execution_count": 60
        }
      ]
    },
    {
      "cell_type": "code",
      "metadata": {
        "colab": {
          "base_uri": "https://localhost:8080/"
        },
        "id": "5LDA0hxTzcNU",
        "outputId": "4580c9d8-665c-41e7-83d1-51a959a94a11"
      },
      "source": [
        "df.info()"
      ],
      "execution_count": 61,
      "outputs": [
        {
          "output_type": "stream",
          "text": [
            "<class 'pandas.core.frame.DataFrame'>\n",
            "RangeIndex: 7043 entries, 0 to 7042\n",
            "Data columns (total 21 columns):\n",
            " #   Column            Non-Null Count  Dtype  \n",
            "---  ------            --------------  -----  \n",
            " 0   customerID        7043 non-null   object \n",
            " 1   gender            7043 non-null   object \n",
            " 2   SeniorCitizen     7043 non-null   int64  \n",
            " 3   Partner           7043 non-null   object \n",
            " 4   Dependents        7043 non-null   object \n",
            " 5   tenure            7043 non-null   int64  \n",
            " 6   PhoneService      7043 non-null   object \n",
            " 7   MultipleLines     7043 non-null   object \n",
            " 8   InternetService   7043 non-null   object \n",
            " 9   OnlineSecurity    7043 non-null   object \n",
            " 10  OnlineBackup      7043 non-null   object \n",
            " 11  DeviceProtection  7043 non-null   object \n",
            " 12  TechSupport       7043 non-null   object \n",
            " 13  StreamingTV       7043 non-null   object \n",
            " 14  StreamingMovies   7043 non-null   object \n",
            " 15  Contract          7043 non-null   object \n",
            " 16  PaperlessBilling  7043 non-null   object \n",
            " 17  PaymentMethod     7043 non-null   object \n",
            " 18  MonthlyCharges    7043 non-null   float64\n",
            " 19  TotalCharges      7043 non-null   object \n",
            " 20  Churn             7043 non-null   object \n",
            "dtypes: float64(1), int64(2), object(18)\n",
            "memory usage: 1.1+ MB\n"
          ],
          "name": "stdout"
        }
      ]
    },
    {
      "cell_type": "code",
      "metadata": {
        "colab": {
          "base_uri": "https://localhost:8080/",
          "height": 297
        },
        "id": "aj4RuK8Qzeyk",
        "outputId": "0b9194da-0e8b-4bdf-fea8-cf1114bd42a1"
      },
      "source": [
        "df.describe()"
      ],
      "execution_count": 62,
      "outputs": [
        {
          "output_type": "execute_result",
          "data": {
            "text/html": [
              "<div>\n",
              "<style scoped>\n",
              "    .dataframe tbody tr th:only-of-type {\n",
              "        vertical-align: middle;\n",
              "    }\n",
              "\n",
              "    .dataframe tbody tr th {\n",
              "        vertical-align: top;\n",
              "    }\n",
              "\n",
              "    .dataframe thead th {\n",
              "        text-align: right;\n",
              "    }\n",
              "</style>\n",
              "<table border=\"1\" class=\"dataframe\">\n",
              "  <thead>\n",
              "    <tr style=\"text-align: right;\">\n",
              "      <th></th>\n",
              "      <th>SeniorCitizen</th>\n",
              "      <th>tenure</th>\n",
              "      <th>MonthlyCharges</th>\n",
              "    </tr>\n",
              "  </thead>\n",
              "  <tbody>\n",
              "    <tr>\n",
              "      <th>count</th>\n",
              "      <td>7043.000000</td>\n",
              "      <td>7043.000000</td>\n",
              "      <td>7043.000000</td>\n",
              "    </tr>\n",
              "    <tr>\n",
              "      <th>mean</th>\n",
              "      <td>0.162147</td>\n",
              "      <td>32.371149</td>\n",
              "      <td>64.761692</td>\n",
              "    </tr>\n",
              "    <tr>\n",
              "      <th>std</th>\n",
              "      <td>0.368612</td>\n",
              "      <td>24.559481</td>\n",
              "      <td>30.090047</td>\n",
              "    </tr>\n",
              "    <tr>\n",
              "      <th>min</th>\n",
              "      <td>0.000000</td>\n",
              "      <td>0.000000</td>\n",
              "      <td>18.250000</td>\n",
              "    </tr>\n",
              "    <tr>\n",
              "      <th>25%</th>\n",
              "      <td>0.000000</td>\n",
              "      <td>9.000000</td>\n",
              "      <td>35.500000</td>\n",
              "    </tr>\n",
              "    <tr>\n",
              "      <th>50%</th>\n",
              "      <td>0.000000</td>\n",
              "      <td>29.000000</td>\n",
              "      <td>70.350000</td>\n",
              "    </tr>\n",
              "    <tr>\n",
              "      <th>75%</th>\n",
              "      <td>0.000000</td>\n",
              "      <td>55.000000</td>\n",
              "      <td>89.850000</td>\n",
              "    </tr>\n",
              "    <tr>\n",
              "      <th>max</th>\n",
              "      <td>1.000000</td>\n",
              "      <td>72.000000</td>\n",
              "      <td>118.750000</td>\n",
              "    </tr>\n",
              "  </tbody>\n",
              "</table>\n",
              "</div>"
            ],
            "text/plain": [
              "       SeniorCitizen       tenure  MonthlyCharges\n",
              "count    7043.000000  7043.000000     7043.000000\n",
              "mean        0.162147    32.371149       64.761692\n",
              "std         0.368612    24.559481       30.090047\n",
              "min         0.000000     0.000000       18.250000\n",
              "25%         0.000000     9.000000       35.500000\n",
              "50%         0.000000    29.000000       70.350000\n",
              "75%         0.000000    55.000000       89.850000\n",
              "max         1.000000    72.000000      118.750000"
            ]
          },
          "metadata": {
            "tags": []
          },
          "execution_count": 62
        }
      ]
    },
    {
      "cell_type": "code",
      "metadata": {
        "id": "7RNgA5QpzjSb"
      },
      "source": [
        "##checking null values"
      ],
      "execution_count": 63,
      "outputs": []
    },
    {
      "cell_type": "code",
      "metadata": {
        "colab": {
          "base_uri": "https://localhost:8080/"
        },
        "id": "Ojlwd-FN0Db1",
        "outputId": "3b6ca74e-7b20-4118-ac96-2852274b4ab7"
      },
      "source": [
        "df.isnull().sum()"
      ],
      "execution_count": 64,
      "outputs": [
        {
          "output_type": "execute_result",
          "data": {
            "text/plain": [
              "customerID          0\n",
              "gender              0\n",
              "SeniorCitizen       0\n",
              "Partner             0\n",
              "Dependents          0\n",
              "                   ..\n",
              "PaperlessBilling    0\n",
              "PaymentMethod       0\n",
              "MonthlyCharges      0\n",
              "TotalCharges        0\n",
              "Churn               0\n",
              "Length: 21, dtype: int64"
            ]
          },
          "metadata": {
            "tags": []
          },
          "execution_count": 64
        }
      ]
    },
    {
      "cell_type": "code",
      "metadata": {
        "id": "W4J40Unk0Q2C"
      },
      "source": [
        "##no null values"
      ],
      "execution_count": 65,
      "outputs": []
    },
    {
      "cell_type": "code",
      "metadata": {
        "colab": {
          "base_uri": "https://localhost:8080/"
        },
        "id": "O1dwQgLt0WhU",
        "outputId": "31cf1c50-247d-47ae-afa9-d1eea738faa3"
      },
      "source": [
        "for i in df.columns:\n",
        "  print(i)\n",
        "  print(df[i].value_counts())\n",
        "  print('\\n')"
      ],
      "execution_count": 66,
      "outputs": [
        {
          "output_type": "stream",
          "text": [
            "customerID\n",
            "4418-LZMSV    1\n",
            "7442-YGZFK    1\n",
            "3635-QQRQD    1\n",
            "8231-BSWXX    1\n",
            "7814-LEEVE    1\n",
            "             ..\n",
            "8587-XYZSF    1\n",
            "2039-JONDJ    1\n",
            "4957-TREIR    1\n",
            "5628-RKIFK    1\n",
            "1589-AGTLK    1\n",
            "Name: customerID, Length: 7043, dtype: int64\n",
            "\n",
            "\n",
            "gender\n",
            "Male      3555\n",
            "Female    3488\n",
            "Name: gender, dtype: int64\n",
            "\n",
            "\n",
            "SeniorCitizen\n",
            "0    5901\n",
            "1    1142\n",
            "Name: SeniorCitizen, dtype: int64\n",
            "\n",
            "\n",
            "Partner\n",
            "No     3641\n",
            "Yes    3402\n",
            "Name: Partner, dtype: int64\n",
            "\n",
            "\n",
            "Dependents\n",
            "No     4933\n",
            "Yes    2110\n",
            "Name: Dependents, dtype: int64\n",
            "\n",
            "\n",
            "tenure\n",
            "1     613\n",
            "72    362\n",
            "2     238\n",
            "3     200\n",
            "4     176\n",
            "     ... \n",
            "28     57\n",
            "39     56\n",
            "44     51\n",
            "36     50\n",
            "0      11\n",
            "Name: tenure, Length: 73, dtype: int64\n",
            "\n",
            "\n",
            "PhoneService\n",
            "Yes    6361\n",
            "No      682\n",
            "Name: PhoneService, dtype: int64\n",
            "\n",
            "\n",
            "MultipleLines\n",
            "No                  3390\n",
            "Yes                 2971\n",
            "No phone service     682\n",
            "Name: MultipleLines, dtype: int64\n",
            "\n",
            "\n",
            "InternetService\n",
            "Fiber optic    3096\n",
            "DSL            2421\n",
            "No             1526\n",
            "Name: InternetService, dtype: int64\n",
            "\n",
            "\n",
            "OnlineSecurity\n",
            "No                     3498\n",
            "Yes                    2019\n",
            "No internet service    1526\n",
            "Name: OnlineSecurity, dtype: int64\n",
            "\n",
            "\n",
            "OnlineBackup\n",
            "No                     3088\n",
            "Yes                    2429\n",
            "No internet service    1526\n",
            "Name: OnlineBackup, dtype: int64\n",
            "\n",
            "\n",
            "DeviceProtection\n",
            "No                     3095\n",
            "Yes                    2422\n",
            "No internet service    1526\n",
            "Name: DeviceProtection, dtype: int64\n",
            "\n",
            "\n",
            "TechSupport\n",
            "No                     3473\n",
            "Yes                    2044\n",
            "No internet service    1526\n",
            "Name: TechSupport, dtype: int64\n",
            "\n",
            "\n",
            "StreamingTV\n",
            "No                     2810\n",
            "Yes                    2707\n",
            "No internet service    1526\n",
            "Name: StreamingTV, dtype: int64\n",
            "\n",
            "\n",
            "StreamingMovies\n",
            "No                     2785\n",
            "Yes                    2732\n",
            "No internet service    1526\n",
            "Name: StreamingMovies, dtype: int64\n",
            "\n",
            "\n",
            "Contract\n",
            "Month-to-month    3875\n",
            "Two year          1695\n",
            "One year          1473\n",
            "Name: Contract, dtype: int64\n",
            "\n",
            "\n",
            "PaperlessBilling\n",
            "Yes    4171\n",
            "No     2872\n",
            "Name: PaperlessBilling, dtype: int64\n",
            "\n",
            "\n",
            "PaymentMethod\n",
            "Electronic check             2365\n",
            "Mailed check                 1612\n",
            "Bank transfer (automatic)    1544\n",
            "Credit card (automatic)      1522\n",
            "Name: PaymentMethod, dtype: int64\n",
            "\n",
            "\n",
            "MonthlyCharges\n",
            "20.05     61\n",
            "19.85     45\n",
            "19.95     44\n",
            "19.90     44\n",
            "20.00     43\n",
            "          ..\n",
            "114.75     1\n",
            "103.60     1\n",
            "113.40     1\n",
            "57.65      1\n",
            "113.30     1\n",
            "Name: MonthlyCharges, Length: 1585, dtype: int64\n",
            "\n",
            "\n",
            "TotalCharges\n",
            "           11\n",
            "20.2       11\n",
            "19.75       9\n",
            "19.65       8\n",
            "19.9        8\n",
            "           ..\n",
            "360.35      1\n",
            "3198.6      1\n",
            "3540.65     1\n",
            "1054.6      1\n",
            "3177.25     1\n",
            "Name: TotalCharges, Length: 6531, dtype: int64\n",
            "\n",
            "\n",
            "Churn\n",
            "No     5174\n",
            "Yes    1869\n",
            "Name: Churn, dtype: int64\n",
            "\n",
            "\n"
          ],
          "name": "stdout"
        }
      ]
    },
    {
      "cell_type": "code",
      "metadata": {
        "colab": {
          "base_uri": "https://localhost:8080/"
        },
        "id": "8RpSOZno0afB",
        "outputId": "d1ac0911-6464-4e10-de54-66cd34918e6e"
      },
      "source": [
        "df['Churn'].value_counts()"
      ],
      "execution_count": 67,
      "outputs": [
        {
          "output_type": "execute_result",
          "data": {
            "text/plain": [
              "No     5174\n",
              "Yes    1869\n",
              "Name: Churn, dtype: int64"
            ]
          },
          "metadata": {
            "tags": []
          },
          "execution_count": 67
        }
      ]
    },
    {
      "cell_type": "code",
      "metadata": {
        "id": "PdbueGBK8DeE"
      },
      "source": [
        "##the data is imbalanced"
      ],
      "execution_count": 68,
      "outputs": []
    },
    {
      "cell_type": "code",
      "metadata": {
        "colab": {
          "base_uri": "https://localhost:8080/"
        },
        "id": "a4C2y2kF8GsN",
        "outputId": "4aad63e0-a017-445b-8d02-f9981488755a"
      },
      "source": [
        "print('% of Yes ',df['Churn'].value_counts()[0] / df.shape[0])\n",
        "print('% of No ',df['Churn'].value_counts()[1] / df.shape[0])"
      ],
      "execution_count": 69,
      "outputs": [
        {
          "output_type": "stream",
          "text": [
            "% of Yes  0.7346301292063041\n",
            "% of No  0.2653698707936959\n"
          ],
          "name": "stdout"
        }
      ]
    },
    {
      "cell_type": "code",
      "metadata": {
        "id": "fhmlpEF1-ATC"
      },
      "source": [
        "x = df.iloc[:,0:-1]\n",
        "y = df.iloc[:,-1]"
      ],
      "execution_count": 70,
      "outputs": []
    },
    {
      "cell_type": "code",
      "metadata": {
        "id": "Cl_dMZRJ9LmW"
      },
      "source": [
        "from imblearn.over_sampling import RandomOverSampler\n",
        "ros = RandomOverSampler()"
      ],
      "execution_count": 71,
      "outputs": []
    },
    {
      "cell_type": "code",
      "metadata": {
        "id": "mH3ajOUf9ylX"
      },
      "source": [
        "x2 , y2 = ros.fit_resample(x,y)\n",
        "x2 = pd.DataFrame(x2,columns=df.columns[0:-1])\n",
        "y2 = pd.DataFrame(y2,columns=['Churn'])"
      ],
      "execution_count": 72,
      "outputs": []
    },
    {
      "cell_type": "code",
      "metadata": {
        "id": "Td64TA2s951k"
      },
      "source": [
        "df2 = pd.concat((x2,y2),axis=1)"
      ],
      "execution_count": 73,
      "outputs": []
    },
    {
      "cell_type": "code",
      "metadata": {
        "colab": {
          "base_uri": "https://localhost:8080/",
          "height": 296
        },
        "id": "wyqzn5Ao-E1Z",
        "outputId": "7bbcb0ad-b44b-4955-d8c4-770781ebd620"
      },
      "source": [
        "sns.countplot(df2['Churn'],hue=df2['Churn'])"
      ],
      "execution_count": 74,
      "outputs": [
        {
          "output_type": "execute_result",
          "data": {
            "text/plain": [
              "<matplotlib.axes._subplots.AxesSubplot at 0x7fdb7fa72f50>"
            ]
          },
          "metadata": {
            "tags": []
          },
          "execution_count": 74
        },
        {
          "output_type": "display_data",
          "data": {
            "image/png": "[encoded data removed]",
            "text/plain": [
              "<Figure size 432x288 with 1 Axes>"
            ]
          },
          "metadata": {
            "tags": [],
            "needs_background": "light"
          }
        }
      ]
    },
    {
      "cell_type": "code",
      "metadata": {
        "colab": {
          "base_uri": "https://localhost:8080/"
        },
        "id": "OcG_Gx81-Jj5",
        "outputId": "15b98a4a-f078-4333-94bf-597290ecb20d"
      },
      "source": [
        "df2.shape"
      ],
      "execution_count": 75,
      "outputs": [
        {
          "output_type": "execute_result",
          "data": {
            "text/plain": [
              "(10348, 21)"
            ]
          },
          "metadata": {
            "tags": []
          },
          "execution_count": 75
        }
      ]
    },
    {
      "cell_type": "code",
      "metadata": {
        "id": "bGL9GHUQ-Nbm"
      },
      "source": [
        "## now the data is balanced"
      ],
      "execution_count": 76,
      "outputs": []
    },
    {
      "cell_type": "code",
      "metadata": {
        "id": "F-6BRbD9-REc"
      },
      "source": [
        "pd.set_option(\"display.max_rows\",20)"
      ],
      "execution_count": 77,
      "outputs": []
    },
    {
      "cell_type": "code",
      "metadata": {
        "id": "3fEvMaN8BME4"
      },
      "source": [
        "## total charges are empty at some cells...changing it to NaN"
      ],
      "execution_count": 78,
      "outputs": []
    },
    {
      "cell_type": "code",
      "metadata": {
        "colab": {
          "base_uri": "https://localhost:8080/"
        },
        "id": "h5kxZWcvBfaY",
        "outputId": "512edb7a-8a96-41f7-d135-042a97e8a6c2"
      },
      "source": [
        "df2['TotalCharges']= pd.to_numeric(df2['TotalCharges'], errors='coerce') #errors='coerce'. This will convert the blank spaces to NaN\n",
        "df2['TotalCharges'].isnull().sum()"
      ],
      "execution_count": 79,
      "outputs": [
        {
          "output_type": "execute_result",
          "data": {
            "text/plain": [
              "11"
            ]
          },
          "metadata": {
            "tags": []
          },
          "execution_count": 79
        }
      ]
    },
    {
      "cell_type": "code",
      "metadata": {
        "id": "QXUtNepeB82S"
      },
      "source": [
        "df2['TotalCharges'] = df2['TotalCharges'].fillna(df2['TotalCharges'].mean())"
      ],
      "execution_count": 80,
      "outputs": []
    },
    {
      "cell_type": "code",
      "metadata": {
        "colab": {
          "base_uri": "https://localhost:8080/"
        },
        "id": "ecI70dBpCNjy",
        "outputId": "18544db2-16f2-4e64-86f3-6c74f09616c3"
      },
      "source": [
        "df2['TotalCharges'].isnull().sum()"
      ],
      "execution_count": 81,
      "outputs": [
        {
          "output_type": "execute_result",
          "data": {
            "text/plain": [
              "0"
            ]
          },
          "metadata": {
            "tags": []
          },
          "execution_count": 81
        }
      ]
    },
    {
      "cell_type": "code",
      "metadata": {
        "colab": {
          "base_uri": "https://localhost:8080/"
        },
        "id": "RJMg0LFjCRb7",
        "outputId": "1cbaf871-0cc2-4772-ab29-baa855457a8f"
      },
      "source": [
        "for i in df2.columns:\n",
        "  print(i,'-->' ,df2[i].nunique())\n",
        "  print('\\n')"
      ],
      "execution_count": 82,
      "outputs": [
        {
          "output_type": "stream",
          "text": [
            "customerID --> 7043\n",
            "\n",
            "\n",
            "gender --> 2\n",
            "\n",
            "\n",
            "SeniorCitizen --> 2\n",
            "\n",
            "\n",
            "Partner --> 2\n",
            "\n",
            "\n",
            "Dependents --> 2\n",
            "\n",
            "\n",
            "tenure --> 73\n",
            "\n",
            "\n",
            "PhoneService --> 2\n",
            "\n",
            "\n",
            "MultipleLines --> 3\n",
            "\n",
            "\n",
            "InternetService --> 3\n",
            "\n",
            "\n",
            "OnlineSecurity --> 3\n",
            "\n",
            "\n",
            "OnlineBackup --> 3\n",
            "\n",
            "\n",
            "DeviceProtection --> 3\n",
            "\n",
            "\n",
            "TechSupport --> 3\n",
            "\n",
            "\n",
            "StreamingTV --> 3\n",
            "\n",
            "\n",
            "StreamingMovies --> 3\n",
            "\n",
            "\n",
            "Contract --> 3\n",
            "\n",
            "\n",
            "PaperlessBilling --> 2\n",
            "\n",
            "\n",
            "PaymentMethod --> 4\n",
            "\n",
            "\n",
            "MonthlyCharges --> 1585\n",
            "\n",
            "\n",
            "TotalCharges --> 6531\n",
            "\n",
            "\n",
            "Churn --> 2\n",
            "\n",
            "\n"
          ],
          "name": "stdout"
        }
      ]
    },
    {
      "cell_type": "code",
      "metadata": {
        "colab": {
          "base_uri": "https://localhost:8080/"
        },
        "id": "2ALH6gpZDD6w",
        "outputId": "edf0fd9c-7842-49d7-b2e1-f250a199c7db"
      },
      "source": [
        "for i in df2.columns:\n",
        "  print(i)\n",
        "  print(df2[i].value_counts())\n",
        "  print('\\n')"
      ],
      "execution_count": 83,
      "outputs": [
        {
          "output_type": "stream",
          "text": [
            "customerID\n",
            "3571-RFHAR    9\n",
            "2660-EMUBI    8\n",
            "7409-KIUTL    8\n",
            "6618-RYATB    7\n",
            "1029-QFBEN    7\n",
            "             ..\n",
            "0582-AVCLN    1\n",
            "5012-YSPJJ    1\n",
            "9308-ANMVE    1\n",
            "1730-ZMAME    1\n",
            "4412-YLTKF    1\n",
            "Name: customerID, Length: 7043, dtype: int64\n",
            "\n",
            "\n",
            "gender\n",
            "Male      5184\n",
            "Female    5164\n",
            "Name: gender, dtype: int64\n",
            "\n",
            "\n",
            "SeniorCitizen\n",
            "0    8325\n",
            "1    2023\n",
            "Name: SeniorCitizen, dtype: int64\n",
            "\n",
            "\n",
            "Partner\n",
            "No     5773\n",
            "Yes    4575\n",
            "Name: Partner, dtype: int64\n",
            "\n",
            "\n",
            "Dependents\n",
            "No     7639\n",
            "Yes    2709\n",
            "Name: Dependents, dtype: int64\n",
            "\n",
            "\n",
            "tenure\n",
            "1     1283\n",
            "2      424\n",
            "3      391\n",
            "72     375\n",
            "4      318\n",
            "      ... \n",
            "36      74\n",
            "59      70\n",
            "45      64\n",
            "44      61\n",
            "0       11\n",
            "Name: tenure, Length: 73, dtype: int64\n",
            "\n",
            "\n",
            "PhoneService\n",
            "Yes    9371\n",
            "No      977\n",
            "Name: PhoneService, dtype: int64\n",
            "\n",
            "\n",
            "MultipleLines\n",
            "No                  4894\n",
            "Yes                 4477\n",
            "No phone service     977\n",
            "Name: MultipleLines, dtype: int64\n",
            "\n",
            "\n",
            "InternetService\n",
            "Fiber optic    5420\n",
            "DSL            3193\n",
            "No             1735\n",
            "Name: InternetService, dtype: int64\n",
            "\n",
            "\n",
            "OnlineSecurity\n",
            "No                     6103\n",
            "Yes                    2510\n",
            "No internet service    1735\n",
            "Name: OnlineSecurity, dtype: int64\n",
            "\n",
            "\n",
            "OnlineBackup\n",
            "No                     5256\n",
            "Yes                    3357\n",
            "No internet service    1735\n",
            "Name: OnlineBackup, dtype: int64\n",
            "\n",
            "\n",
            "DeviceProtection\n",
            "No                     5245\n",
            "Yes                    3368\n",
            "No internet service    1735\n",
            "Name: DeviceProtection, dtype: int64\n",
            "\n",
            "\n",
            "TechSupport\n",
            "No                     6015\n",
            "Yes                    2598\n",
            "No internet service    1735\n",
            "Name: TechSupport, dtype: int64\n",
            "\n",
            "\n",
            "StreamingTV\n",
            "No                     4457\n",
            "Yes                    4156\n",
            "No internet service    1735\n",
            "Name: StreamingTV, dtype: int64\n",
            "\n",
            "\n",
            "StreamingMovies\n",
            "No                     4432\n",
            "Yes                    4181\n",
            "No internet service    1735\n",
            "Name: StreamingMovies, dtype: int64\n",
            "\n",
            "\n",
            "Contract\n",
            "Month-to-month    6791\n",
            "Two year          1784\n",
            "One year          1773\n",
            "Name: Contract, dtype: int64\n",
            "\n",
            "\n",
            "PaperlessBilling\n",
            "Yes    6653\n",
            "No     3695\n",
            "Name: PaperlessBilling, dtype: int64\n",
            "\n",
            "\n",
            "PaymentMethod\n",
            "Electronic check             4261\n",
            "Mailed check                 2151\n",
            "Bank transfer (automatic)    1983\n",
            "Credit card (automatic)      1953\n",
            "Name: PaymentMethod, dtype: int64\n",
            "\n",
            "\n",
            "MonthlyCharges\n",
            "20.05     66\n",
            "19.85     58\n",
            "19.95     50\n",
            "19.55     50\n",
            "19.90     49\n",
            "          ..\n",
            "93.45      1\n",
            "57.75      1\n",
            "118.20     1\n",
            "108.80     1\n",
            "114.70     1\n",
            "Name: MonthlyCharges, Length: 1585, dtype: int64\n",
            "\n",
            "\n",
            "TotalCharges\n",
            "20.20      25\n",
            "19.45      18\n",
            "69.60      15\n",
            "69.95      15\n",
            "74.70      15\n",
            "           ..\n",
            "1769.60     1\n",
            "7576.70     1\n",
            "4487.30     1\n",
            "116.60      1\n",
            "1024.00     1\n",
            "Name: TotalCharges, Length: 6531, dtype: int64\n",
            "\n",
            "\n",
            "Churn\n",
            "No     5174\n",
            "Yes    5174\n",
            "Name: Churn, dtype: int64\n",
            "\n",
            "\n"
          ],
          "name": "stdout"
        }
      ]
    },
    {
      "cell_type": "code",
      "metadata": {
        "id": "JEREiFE7Diph"
      },
      "source": [
        "df2.drop('customerID',axis=1,inplace=True)"
      ],
      "execution_count": 84,
      "outputs": []
    },
    {
      "cell_type": "code",
      "metadata": {
        "colab": {
          "base_uri": "https://localhost:8080/",
          "height": 1000
        },
        "id": "aDxpSdKdERVr",
        "outputId": "4c3797e1-4494-45b0-8f4a-e436c0224bcd"
      },
      "source": [
        "for i in df2.columns:\n",
        "  plt.figure()\n",
        "  sns.countplot(df2[i])\n",
        "  plt.show()"
      ],
      "execution_count": 85,
      "outputs": [
        {
          "output_type": "display_data",
          "data": {
            "image/png": "[encoded data removed]",
            "text/plain": [
              "<Figure size 432x288 with 1 Axes>"
            ]
          },
          "metadata": {
            "tags": [],
            "needs_background": "light"
          }
        },
        {
          "output_type": "display_data",
          "data": {
            "image/png": "[encoded data removed]",
            "text/plain": [
              "<Figure size 432x288 with 1 Axes>"
            ]
          },
          "metadata": {
            "tags": [],
            "needs_background": "light"
          }
        },
        {
          "output_type": "display_data",
          "data": {
            "image/png": "[encoded data removed]",
            "text/plain": [
              "<Figure size 432x288 with 1 Axes>"
            ]
          },
          "metadata": {
            "tags": [],
            "needs_background": "light"
          }
        },
        {
          "output_type": "display_data",
          "data": {
            "image/png": "[encoded data removed]",
            "text/plain": [
              "<Figure size 432x288 with 1 Axes>"
            ]
          },
          "metadata": {
            "tags": [],
            "needs_background": "light"
          }
        },
        {
          "output_type": "display_data",
          "data": {
            "image/png": "[encoded data removed]",
            "text/plain": [
              "<Figure size 432x288 with 1 Axes>"
            ]
          },
          "metadata": {
            "tags": [],
            "needs_background": "light"
          }
        },
        {
          "output_type": "display_data",
          "data": {
            "image/png": "[encoded data removed]",
            "text/plain": [
              "<Figure size 432x288 with 1 Axes>"
            ]
          },
          "metadata": {
            "tags": [],
            "needs_background": "light"
          }
        },
        {
          "output_type": "display_data",
          "data": {
            "image/png": "[encoded data removed]",
            "text/plain": [
              "<Figure size 432x288 with 1 Axes>"
            ]
          },
          "metadata": {
            "tags": [],
            "needs_background": "light"
          }
        },
        {
          "output_type": "display_data",
          "data": {
            "image/png": "[encoded data removed]",
            "text/plain": [
              "<Figure size 432x288 with 1 Axes>"
            ]
          },
          "metadata": {
            "tags": [],
            "needs_background": "light"
          }
        },
        {
          "output_type": "display_data",
          "data": {
            "image/png": "[encoded data removed]",
            "text/plain": [
              "<Figure size 432x288 with 1 Axes>"
            ]
          },
          "metadata": {
            "tags": [],
            "needs_background": "light"
          }
        },
        {
          "output_type": "display_data",
          "data": {
            "image/png": "[encoded data removed]",
            "text/plain": [
              "<Figure size 432x288 with 1 Axes>"
            ]
          },
          "metadata": {
            "tags": [],
            "needs_background": "light"
          }
        },
        {
          "output_type": "display_data",
          "data": {
            "image/png": "[encoded data removed]",
            "text/plain": [
              "<Figure size 432x288 with 1 Axes>"
            ]
          },
          "metadata": {
            "tags": [],
            "needs_background": "light"
          }
        },
        {
          "output_type": "display_data",
          "data": {
            "image/png": "[encoded data removed]",
            "text/plain": [
              "<Figure size 432x288 with 1 Axes>"
            ]
          },
          "metadata": {
            "tags": [],
            "needs_background": "light"
          }
        },
        {
          "output_type": "display_data",
          "data": {
            "image/png": "[encoded data removed]",
            "text/plain": [
              "<Figure size 432x288 with 1 Axes>"
            ]
          },
          "metadata": {
            "tags": [],
            "needs_background": "light"
          }
        },
        {
          "output_type": "display_data",
          "data": {
            "image/png": "[encoded data removed]",
            "text/plain": [
              "<Figure size 432x288 with 1 Axes>"
            ]
          },
          "metadata": {
            "tags": [],
            "needs_background": "light"
          }
        },
        {
          "output_type": "display_data",
          "data": {
            "image/png": "[encoded data removed]",
            "text/plain": [
              "<Figure size 432x288 with 1 Axes>"
            ]
          },
          "metadata": {
            "tags": [],
            "needs_background": "light"
          }
        },
        {
          "output_type": "display_data",
          "data": {
            "image/png": "[encoded data removed]",
            "text/plain": [
              "<Figure size 432x288 with 1 Axes>"
            ]
          },
          "metadata": {
            "tags": [],
            "needs_background": "light"
          }
        },
        {
          "output_type": "display_data",
          "data": {
            "image/png": "[encoded data removed]",
            "text/plain": [
              "<Figure size 432x288 with 1 Axes>"
            ]
          },
          "metadata": {
            "tags": [],
            "needs_background": "light"
          }
        },
        {
          "output_type": "display_data",
          "data": {
            "image/png": "[encoded data removed]",
            "text/plain": [
              "<Figure size 432x288 with 1 Axes>"
            ]
          },
          "metadata": {
            "tags": [],
            "needs_background": "light"
          }
        },
        {
          "output_type": "display_data",
          "data": {
            "image/png": "[encoded data removed]",
            "text/plain": [
              "<Figure size 432x288 with 1 Axes>"
            ]
          },
          "metadata": {
            "tags": [],
            "needs_background": "light"
          }
        },
        {
          "output_type": "display_data",
          "data": {
            "image/png": "[encoded data removed]",
            "text/plain": [
              "<Figure size 432x288 with 1 Axes>"
            ]
          },
          "metadata": {
            "tags": [],
            "needs_background": "light"
          }
        }
      ]
    },
    {
      "cell_type": "code",
      "metadata": {
        "colab": {
          "base_uri": "https://localhost:8080/",
          "height": 1000
        },
        "id": "XYOzuhqaEdqF",
        "outputId": "084924f5-78c6-45d5-e35f-0f54e40b81f2"
      },
      "source": [
        "for i in df2.columns:\n",
        "        plt.figure(figsize=(5,5))\n",
        "        plt.subplot(3,1,3)\n",
        "        sns.distplot(df2[i])"
      ],
      "execution_count": 104,
      "outputs": [
        {
          "output_type": "display_data",
          "data": {
            "image/png": "[encoded data removed]",
            "text/plain": [
              "<Figure size 360x360 with 1 Axes>"
            ]
          },
          "metadata": {
            "tags": [],
            "needs_background": "light"
          }
        },
        {
          "output_type": "display_data",
          "data": {
            "image/png": "[encoded data removed]",
            "text/plain": [
              "<Figure size 360x360 with 1 Axes>"
            ]
          },
          "metadata": {
            "tags": [],
            "needs_background": "light"
          }
        },
        {
          "output_type": "display_data",
          "data": {
            "image/png": "[encoded data removed]",
            "text/plain": [
              "<Figure size 360x360 with 1 Axes>"
            ]
          },
          "metadata": {
            "tags": [],
            "needs_background": "light"
          }
        },
        {
          "output_type": "display_data",
          "data": {
            "image/png": "[encoded data removed]",
            "text/plain": [
              "<Figure size 360x360 with 1 Axes>"
            ]
          },
          "metadata": {
            "tags": [],
            "needs_background": "light"
          }
        },
        {
          "output_type": "display_data",
          "data": {
            "image/png": "[encoded data removed]",
            "text/plain": [
              "<Figure size 360x360 with 1 Axes>"
            ]
          },
          "metadata": {
            "tags": [],
            "needs_background": "light"
          }
        },
        {
          "output_type": "display_data",
          "data": {
            "image/png": "[encoded data removed]",
            "text/plain": [
              "<Figure size 360x360 with 1 Axes>"
            ]
          },
          "metadata": {
            "tags": [],
            "needs_background": "light"
          }
        },
        {
          "output_type": "display_data",
          "data": {
            "image/png": "[encoded data removed]",
            "text/plain": [
              "<Figure size 360x360 with 1 Axes>"
            ]
          },
          "metadata": {
            "tags": [],
            "needs_background": "light"
          }
        },
        {
          "output_type": "display_data",
          "data": {
            "image/png": "[encoded data removed]",
            "text/plain": [
              "<Figure size 360x360 with 1 Axes>"
            ]
          },
          "metadata": {
            "tags": [],
            "needs_background": "light"
          }
        },
        {
          "output_type": "display_data",
          "data": {
            "image/png": "[encoded data removed]",
            "text/plain": [
              "<Figure size 360x360 with 1 Axes>"
            ]
          },
          "metadata": {
            "tags": [],
            "needs_background": "light"
          }
        },
        {
          "output_type": "display_data",
          "data": {
            "image/png": "[encoded data removed]",
            "text/plain": [
              "<Figure size 360x360 with 1 Axes>"
            ]
          },
          "metadata": {
            "tags": [],
            "needs_background": "light"
          }
        },
        {
          "output_type": "display_data",
          "data": {
            "image/png": "[encoded data removed]",
            "text/plain": [
              "<Figure size 360x360 with 1 Axes>"
            ]
          },
          "metadata": {
            "tags": [],
            "needs_background": "light"
          }
        },
        {
          "output_type": "display_data",
          "data": {
            "image/png": "[encoded data removed]",
            "text/plain": [
              "<Figure size 360x360 with 1 Axes>"
            ]
          },
          "metadata": {
            "tags": [],
            "needs_background": "light"
          }
        },
        {
          "output_type": "display_data",
          "data": {
            "image/png": "[encoded data removed]",
            "text/plain": [
              "<Figure size 360x360 with 1 Axes>"
            ]
          },
          "metadata": {
            "tags": [],
            "needs_background": "light"
          }
        },
        {
          "output_type": "display_data",
          "data": {
            "image/png": "[encoded data removed]",
            "text/plain": [
              "<Figure size 360x360 with 1 Axes>"
            ]
          },
          "metadata": {
            "tags": [],
            "needs_background": "light"
          }
        },
        {
          "output_type": "display_data",
          "data": {
            "image/png": "[encoded data removed]",
            "text/plain": [
              "<Figure size 360x360 with 1 Axes>"
            ]
          },
          "metadata": {
            "tags": [],
            "needs_background": "light"
          }
        },
        {
          "output_type": "display_data",
          "data": {
            "image/png": "[encoded data removed]",
            "text/plain": [
              "<Figure size 360x360 with 1 Axes>"
            ]
          },
          "metadata": {
            "tags": [],
            "needs_background": "light"
          }
        },
        {
          "output_type": "display_data",
          "data": {
            "image/png": "[encoded data removed]",
            "text/plain": [
              "<Figure size 360x360 with 1 Axes>"
            ]
          },
          "metadata": {
            "tags": [],
            "needs_background": "light"
          }
        },
        {
          "output_type": "display_data",
          "data": {
            "image/png": "[encoded data removed]",
            "text/plain": [
              "<Figure size 360x360 with 1 Axes>"
            ]
          },
          "metadata": {
            "tags": [],
            "needs_background": "light"
          }
        },
        {
          "output_type": "display_data",
          "data": {
            "image/png": "[encoded data removed]",
            "text/plain": [
              "<Figure size 360x360 with 1 Axes>"
            ]
          },
          "metadata": {
            "tags": [],
            "needs_background": "light"
          }
        },
        {
          "output_type": "display_data",
          "data": {
            "image/png": "[encoded data removed]",
            "text/plain": [
              "<Figure size 360x360 with 1 Axes>"
            ]
          },
          "metadata": {
            "tags": [],
            "needs_background": "light"
          }
        }
      ]
    },
    {
      "cell_type": "code",
      "metadata": {
        "colab": {
          "base_uri": "https://localhost:8080/",
          "height": 1000
        },
        "id": "R_TIsQBTlPBN",
        "outputId": "12cb884a-500e-47f7-cfdd-6d5f2ed54f42"
      },
      "source": [
        "for i in df2.columns:\n",
        "        plt.figure(figsize=(5,5))\n",
        "        plt.subplot(3,1,3)\n",
        "        sns.boxplot(df2[i])"
      ],
      "execution_count": 105,
      "outputs": [
        {
          "output_type": "display_data",
          "data": {
            "image/png": "[encoded data removed]",
            "text/plain": [
              "<Figure size 360x360 with 1 Axes>"
            ]
          },
          "metadata": {
            "tags": [],
            "needs_background": "light"
          }
        },
        {
          "output_type": "display_data",
          "data": {
            "image/png": "[encoded data removed]",
            "text/plain": [
              "<Figure size 360x360 with 1 Axes>"
            ]
          },
          "metadata": {
            "tags": [],
            "needs_background": "light"
          }
        },
        {
          "output_type": "display_data",
          "data": {
            "image/png": "[encoded data removed]",
            "text/plain": [
              "<Figure size 360x360 with 1 Axes>"
            ]
          },
          "metadata": {
            "tags": [],
            "needs_background": "light"
          }
        },
        {
          "output_type": "display_data",
          "data": {
            "image/png": "[encoded data removed]",
            "text/plain": [
              "<Figure size 360x360 with 1 Axes>"
            ]
          },
          "metadata": {
            "tags": [],
            "needs_background": "light"
          }
        },
        {
          "output_type": "display_data",
          "data": {
            "image/png": "[encoded data removed]",
            "text/plain": [
              "<Figure size 360x360 with 1 Axes>"
            ]
          },
          "metadata": {
            "tags": [],
            "needs_background": "light"
          }
        },
        {
          "output_type": "display_data",
          "data": {
            "image/png": "[encoded data removed]",
            "text/plain": [
              "<Figure size 360x360 with 1 Axes>"
            ]
          },
          "metadata": {
            "tags": [],
            "needs_background": "light"
          }
        },
        {
          "output_type": "display_data",
          "data": {
            "image/png": "[encoded data removed]",
            "text/plain": [
              "<Figure size 360x360 with 1 Axes>"
            ]
          },
          "metadata": {
            "tags": [],
            "needs_background": "light"
          }
        },
        {
          "output_type": "display_data",
          "data": {
            "image/png": "[encoded data removed]",
            "text/plain": [
              "<Figure size 360x360 with 1 Axes>"
            ]
          },
          "metadata": {
            "tags": [],
            "needs_background": "light"
          }
        },
        {
          "output_type": "display_data",
          "data": {
            "image/png": "[encoded data removed]",
            "text/plain": [
              "<Figure size 360x360 with 1 Axes>"
            ]
          },
          "metadata": {
            "tags": [],
            "needs_background": "light"
          }
        },
        {
          "output_type": "display_data",
          "data": {
            "image/png": "[encoded data removed]",
            "text/plain": [
              "<Figure size 360x360 with 1 Axes>"
            ]
          },
          "metadata": {
            "tags": [],
            "needs_background": "light"
          }
        },
        {
          "output_type": "display_data",
          "data": {
            "image/png": "[encoded data removed]",
            "text/plain": [
              "<Figure size 360x360 with 1 Axes>"
            ]
          },
          "metadata": {
            "tags": [],
            "needs_background": "light"
          }
        },
        {
          "output_type": "display_data",
          "data": {
            "image/png": "[encoded data removed]",
            "text/plain": [
              "<Figure size 360x360 with 1 Axes>"
            ]
          },
          "metadata": {
            "tags": [],
            "needs_background": "light"
          }
        },
        {
          "output_type": "display_data",
          "data": {
            "image/png": "[encoded data removed]",
            "text/plain": [
              "<Figure size 360x360 with 1 Axes>"
            ]
          },
          "metadata": {
            "tags": [],
            "needs_background": "light"
          }
        },
        {
          "output_type": "display_data",
          "data": {
            "image/png": "[encoded data removed]",
            "text/plain": [
              "<Figure size 360x360 with 1 Axes>"
            ]
          },
          "metadata": {
            "tags": [],
            "needs_background": "light"
          }
        },
        {
          "output_type": "display_data",
          "data": {
            "image/png": "[encoded data removed]",
            "text/plain": [
              "<Figure size 360x360 with 1 Axes>"
            ]
          },
          "metadata": {
            "tags": [],
            "needs_background": "light"
          }
        },
        {
          "output_type": "display_data",
          "data": {
            "image/png": "[encoded data removed]",
            "text/plain": [
              "<Figure size 360x360 with 1 Axes>"
            ]
          },
          "metadata": {
            "tags": [],
            "needs_background": "light"
          }
        },
        {
          "output_type": "display_data",
          "data": {
            "image/png": "[encoded data removed]",
            "text/plain": [
              "<Figure size 360x360 with 1 Axes>"
            ]
          },
          "metadata": {
            "tags": [],
            "needs_background": "light"
          }
        },
        {
          "output_type": "display_data",
          "data": {
            "image/png": "[encoded data removed]",
            "text/plain": [
              "<Figure size 360x360 with 1 Axes>"
            ]
          },
          "metadata": {
            "tags": [],
            "needs_background": "light"
          }
        },
        {
          "output_type": "display_data",
          "data": {
            "image/png": "[encoded data removed]",
            "text/plain": [
              "<Figure size 360x360 with 1 Axes>"
            ]
          },
          "metadata": {
            "tags": [],
            "needs_background": "light"
          }
        },
        {
          "output_type": "display_data",
          "data": {
            "image/png": "[encoded data removed]",
            "text/plain": [
              "<Figure size 360x360 with 1 Axes>"
            ]
          },
          "metadata": {
            "tags": [],
            "needs_background": "light"
          }
        }
      ]
    },
    {
      "cell_type": "code",
      "metadata": {
        "id": "JtZrQLAHpuX4"
      },
      "source": [
        "## outliers present only in totalcharges"
      ],
      "execution_count": 106,
      "outputs": []
    },
    {
      "cell_type": "code",
      "metadata": {
        "colab": {
          "base_uri": "https://localhost:8080/",
          "height": 142
        },
        "id": "TOSrDhu2p16n",
        "outputId": "32ce0bc7-cf11-441c-a86e-749abdc67c2d"
      },
      "source": [
        "df2.groupby('Churn').mean()"
      ],
      "execution_count": 89,
      "outputs": [
        {
          "output_type": "execute_result",
          "data": {
            "text/html": [
              "<div>\n",
              "<style scoped>\n",
              "    .dataframe tbody tr th:only-of-type {\n",
              "        vertical-align: middle;\n",
              "    }\n",
              "\n",
              "    .dataframe tbody tr th {\n",
              "        vertical-align: top;\n",
              "    }\n",
              "\n",
              "    .dataframe thead th {\n",
              "        text-align: right;\n",
              "    }\n",
              "</style>\n",
              "<table border=\"1\" class=\"dataframe\">\n",
              "  <thead>\n",
              "    <tr style=\"text-align: right;\">\n",
              "      <th></th>\n",
              "      <th>TotalCharges</th>\n",
              "    </tr>\n",
              "    <tr>\n",
              "      <th>Churn</th>\n",
              "      <th></th>\n",
              "    </tr>\n",
              "  </thead>\n",
              "  <tbody>\n",
              "    <tr>\n",
              "      <th>No</th>\n",
              "      <td>2554.272629</td>\n",
              "    </tr>\n",
              "    <tr>\n",
              "      <th>Yes</th>\n",
              "      <td>1548.415124</td>\n",
              "    </tr>\n",
              "  </tbody>\n",
              "</table>\n",
              "</div>"
            ],
            "text/plain": [
              "       TotalCharges\n",
              "Churn              \n",
              "No      2554.272629\n",
              "Yes     1548.415124"
            ]
          },
          "metadata": {
            "tags": []
          },
          "execution_count": 89
        }
      ]
    },
    {
      "cell_type": "code",
      "metadata": {
        "colab": {
          "base_uri": "https://localhost:8080/",
          "height": 148
        },
        "id": "GJE_nCSxqi1k",
        "outputId": "9749d78b-4fe2-4e39-e8ad-a4f0250660c1"
      },
      "source": [
        "df2.head(2)"
      ],
      "execution_count": 92,
      "outputs": [
        {
          "output_type": "execute_result",
          "data": {
            "text/html": [
              "<div>\n",
              "<style scoped>\n",
              "    .dataframe tbody tr th:only-of-type {\n",
              "        vertical-align: middle;\n",
              "    }\n",
              "\n",
              "    .dataframe tbody tr th {\n",
              "        vertical-align: top;\n",
              "    }\n",
              "\n",
              "    .dataframe thead th {\n",
              "        text-align: right;\n",
              "    }\n",
              "</style>\n",
              "<table border=\"1\" class=\"dataframe\">\n",
              "  <thead>\n",
              "    <tr style=\"text-align: right;\">\n",
              "      <th></th>\n",
              "      <th>gender</th>\n",
              "      <th>SeniorCitizen</th>\n",
              "      <th>Partner</th>\n",
              "      <th>Dependents</th>\n",
              "      <th>tenure</th>\n",
              "      <th>PhoneService</th>\n",
              "      <th>MultipleLines</th>\n",
              "      <th>InternetService</th>\n",
              "      <th>OnlineSecurity</th>\n",
              "      <th>OnlineBackup</th>\n",
              "      <th>DeviceProtection</th>\n",
              "      <th>TechSupport</th>\n",
              "      <th>StreamingTV</th>\n",
              "      <th>StreamingMovies</th>\n",
              "      <th>Contract</th>\n",
              "      <th>PaperlessBilling</th>\n",
              "      <th>PaymentMethod</th>\n",
              "      <th>MonthlyCharges</th>\n",
              "      <th>TotalCharges</th>\n",
              "      <th>Churn</th>\n",
              "    </tr>\n",
              "  </thead>\n",
              "  <tbody>\n",
              "    <tr>\n",
              "      <th>0</th>\n",
              "      <td>Female</td>\n",
              "      <td>0</td>\n",
              "      <td>Yes</td>\n",
              "      <td>No</td>\n",
              "      <td>1</td>\n",
              "      <td>No</td>\n",
              "      <td>No phone service</td>\n",
              "      <td>DSL</td>\n",
              "      <td>No</td>\n",
              "      <td>Yes</td>\n",
              "      <td>No</td>\n",
              "      <td>No</td>\n",
              "      <td>No</td>\n",
              "      <td>No</td>\n",
              "      <td>Month-to-month</td>\n",
              "      <td>Yes</td>\n",
              "      <td>Electronic check</td>\n",
              "      <td>29.85</td>\n",
              "      <td>29.85</td>\n",
              "      <td>No</td>\n",
              "    </tr>\n",
              "    <tr>\n",
              "      <th>1</th>\n",
              "      <td>Male</td>\n",
              "      <td>0</td>\n",
              "      <td>No</td>\n",
              "      <td>No</td>\n",
              "      <td>34</td>\n",
              "      <td>Yes</td>\n",
              "      <td>No</td>\n",
              "      <td>DSL</td>\n",
              "      <td>Yes</td>\n",
              "      <td>No</td>\n",
              "      <td>Yes</td>\n",
              "      <td>No</td>\n",
              "      <td>No</td>\n",
              "      <td>No</td>\n",
              "      <td>One year</td>\n",
              "      <td>No</td>\n",
              "      <td>Mailed check</td>\n",
              "      <td>56.95</td>\n",
              "      <td>1889.50</td>\n",
              "      <td>No</td>\n",
              "    </tr>\n",
              "  </tbody>\n",
              "</table>\n",
              "</div>"
            ],
            "text/plain": [
              "   gender SeniorCitizen Partner  ... MonthlyCharges TotalCharges Churn\n",
              "0  Female             0     Yes  ...          29.85        29.85    No\n",
              "1    Male             0      No  ...          56.95      1889.50    No\n",
              "\n",
              "[2 rows x 20 columns]"
            ]
          },
          "metadata": {
            "tags": []
          },
          "execution_count": 92
        }
      ]
    },
    {
      "cell_type": "code",
      "metadata": {
        "colab": {
          "base_uri": "https://localhost:8080/"
        },
        "id": "Q-aIklFIqubm",
        "outputId": "0f1f9bc6-4cf9-4142-d01f-a695343affe0"
      },
      "source": [
        "df2.dtypes"
      ],
      "execution_count": 93,
      "outputs": [
        {
          "output_type": "execute_result",
          "data": {
            "text/plain": [
              "gender               object\n",
              "SeniorCitizen        object\n",
              "Partner              object\n",
              "Dependents           object\n",
              "tenure               object\n",
              "PhoneService         object\n",
              "MultipleLines        object\n",
              "InternetService      object\n",
              "OnlineSecurity       object\n",
              "OnlineBackup         object\n",
              "DeviceProtection     object\n",
              "TechSupport          object\n",
              "StreamingTV          object\n",
              "StreamingMovies      object\n",
              "Contract             object\n",
              "PaperlessBilling     object\n",
              "PaymentMethod        object\n",
              "MonthlyCharges       object\n",
              "TotalCharges        float64\n",
              "Churn                object\n",
              "dtype: object"
            ]
          },
          "metadata": {
            "tags": []
          },
          "execution_count": 93
        }
      ]
    },
    {
      "cell_type": "code",
      "metadata": {
        "id": "CpP_H11FqygR"
      },
      "source": [
        "from sklearn.preprocessing import LabelEncoder\n",
        "le = LabelEncoder()"
      ],
      "execution_count": 94,
      "outputs": []
    },
    {
      "cell_type": "code",
      "metadata": {
        "id": "u6pD1uO5q81l"
      },
      "source": [
        "def encode(df,col):\n",
        "  df[col] = le.fit_transform(df[col])"
      ],
      "execution_count": 95,
      "outputs": []
    },
    {
      "cell_type": "code",
      "metadata": {
        "id": "P7LUW-tErFaF"
      },
      "source": [
        "encode(df2,'gender')\n",
        "encode(df2,'Partner')\n",
        "encode(df2,'Dependents')\n",
        "encode(df2,'PhoneService')\n",
        "encode(df2,'MultipleLines')\n",
        "encode(df2,'InternetService')\n",
        "encode(df2,'OnlineSecurity')\n",
        "encode(df2,'OnlineBackup')\n",
        "encode(df2,'DeviceProtection')\n",
        "encode(df2,'TechSupport')\n",
        "encode(df2,'StreamingTV')\n",
        "encode(df2,'StreamingMovies')\n",
        "encode(df2,'Contract')\n",
        "encode(df2,'PaperlessBilling')\n",
        "encode(df2,'PaymentMethod')\n",
        "encode(df2,'Churn')"
      ],
      "execution_count": 96,
      "outputs": []
    },
    {
      "cell_type": "code",
      "metadata": {
        "colab": {
          "base_uri": "https://localhost:8080/",
          "height": 131
        },
        "id": "ocwBqwvSrKkT",
        "outputId": "03864b4f-3d3d-47cf-e34e-43b05ea4427b"
      },
      "source": [
        "df2.head(2)"
      ],
      "execution_count": 97,
      "outputs": [
        {
          "output_type": "execute_result",
          "data": {
            "text/html": [
              "<div>\n",
              "<style scoped>\n",
              "    .dataframe tbody tr th:only-of-type {\n",
              "        vertical-align: middle;\n",
              "    }\n",
              "\n",
              "    .dataframe tbody tr th {\n",
              "        vertical-align: top;\n",
              "    }\n",
              "\n",
              "    .dataframe thead th {\n",
              "        text-align: right;\n",
              "    }\n",
              "</style>\n",
              "<table border=\"1\" class=\"dataframe\">\n",
              "  <thead>\n",
              "    <tr style=\"text-align: right;\">\n",
              "      <th></th>\n",
              "      <th>gender</th>\n",
              "      <th>SeniorCitizen</th>\n",
              "      <th>Partner</th>\n",
              "      <th>Dependents</th>\n",
              "      <th>tenure</th>\n",
              "      <th>PhoneService</th>\n",
              "      <th>MultipleLines</th>\n",
              "      <th>InternetService</th>\n",
              "      <th>OnlineSecurity</th>\n",
              "      <th>OnlineBackup</th>\n",
              "      <th>DeviceProtection</th>\n",
              "      <th>TechSupport</th>\n",
              "      <th>StreamingTV</th>\n",
              "      <th>StreamingMovies</th>\n",
              "      <th>Contract</th>\n",
              "      <th>PaperlessBilling</th>\n",
              "      <th>PaymentMethod</th>\n",
              "      <th>MonthlyCharges</th>\n",
              "      <th>TotalCharges</th>\n",
              "      <th>Churn</th>\n",
              "    </tr>\n",
              "  </thead>\n",
              "  <tbody>\n",
              "    <tr>\n",
              "      <th>0</th>\n",
              "      <td>0</td>\n",
              "      <td>0</td>\n",
              "      <td>1</td>\n",
              "      <td>0</td>\n",
              "      <td>1</td>\n",
              "      <td>0</td>\n",
              "      <td>1</td>\n",
              "      <td>0</td>\n",
              "      <td>0</td>\n",
              "      <td>2</td>\n",
              "      <td>0</td>\n",
              "      <td>0</td>\n",
              "      <td>0</td>\n",
              "      <td>0</td>\n",
              "      <td>0</td>\n",
              "      <td>1</td>\n",
              "      <td>2</td>\n",
              "      <td>29.85</td>\n",
              "      <td>29.85</td>\n",
              "      <td>0</td>\n",
              "    </tr>\n",
              "    <tr>\n",
              "      <th>1</th>\n",
              "      <td>1</td>\n",
              "      <td>0</td>\n",
              "      <td>0</td>\n",
              "      <td>0</td>\n",
              "      <td>34</td>\n",
              "      <td>1</td>\n",
              "      <td>0</td>\n",
              "      <td>0</td>\n",
              "      <td>2</td>\n",
              "      <td>0</td>\n",
              "      <td>2</td>\n",
              "      <td>0</td>\n",
              "      <td>0</td>\n",
              "      <td>0</td>\n",
              "      <td>1</td>\n",
              "      <td>0</td>\n",
              "      <td>3</td>\n",
              "      <td>56.95</td>\n",
              "      <td>1889.50</td>\n",
              "      <td>0</td>\n",
              "    </tr>\n",
              "  </tbody>\n",
              "</table>\n",
              "</div>"
            ],
            "text/plain": [
              "   gender SeniorCitizen  Partner  ...  MonthlyCharges TotalCharges  Churn\n",
              "0       0             0        1  ...           29.85        29.85      0\n",
              "1       1             0        0  ...           56.95      1889.50      0\n",
              "\n",
              "[2 rows x 20 columns]"
            ]
          },
          "metadata": {
            "tags": []
          },
          "execution_count": 97
        }
      ]
    },
    {
      "cell_type": "code",
      "metadata": {
        "colab": {
          "base_uri": "https://localhost:8080/"
        },
        "id": "zeigTRbLrLpi",
        "outputId": "69eca0f8-f5aa-4fc2-c482-d3dbe9219d02"
      },
      "source": [
        "df2.dtypes"
      ],
      "execution_count": 98,
      "outputs": [
        {
          "output_type": "execute_result",
          "data": {
            "text/plain": [
              "gender                int64\n",
              "SeniorCitizen        object\n",
              "Partner               int64\n",
              "Dependents            int64\n",
              "tenure               object\n",
              "PhoneService          int64\n",
              "MultipleLines         int64\n",
              "InternetService       int64\n",
              "OnlineSecurity        int64\n",
              "OnlineBackup          int64\n",
              "DeviceProtection      int64\n",
              "TechSupport           int64\n",
              "StreamingTV           int64\n",
              "StreamingMovies       int64\n",
              "Contract              int64\n",
              "PaperlessBilling      int64\n",
              "PaymentMethod         int64\n",
              "MonthlyCharges       object\n",
              "TotalCharges        float64\n",
              "Churn                 int64\n",
              "dtype: object"
            ]
          },
          "metadata": {
            "tags": []
          },
          "execution_count": 98
        }
      ]
    },
    {
      "cell_type": "code",
      "metadata": {
        "id": "0xE0EG-rtCrM"
      },
      "source": [
        "df2['TotalCharges'] = df2['TotalCharges'].astype(float)\n",
        "df2['SeniorCitizen'] = df2['SeniorCitizen'].astype(float)"
      ],
      "execution_count": 99,
      "outputs": []
    },
    {
      "cell_type": "code",
      "metadata": {
        "colab": {
          "base_uri": "https://localhost:8080/"
        },
        "id": "Ub5o5pQZtK3D",
        "outputId": "6c0b6af7-874e-495a-c365-4439f1cd0af3"
      },
      "source": [
        "df2['TotalCharges'].value_counts()"
      ],
      "execution_count": 100,
      "outputs": [
        {
          "output_type": "execute_result",
          "data": {
            "text/plain": [
              "20.20      25\n",
              "19.45      18\n",
              "69.60      15\n",
              "69.95      15\n",
              "74.70      15\n",
              "           ..\n",
              "1769.60     1\n",
              "7576.70     1\n",
              "4487.30     1\n",
              "116.60      1\n",
              "1024.00     1\n",
              "Name: TotalCharges, Length: 6531, dtype: int64"
            ]
          },
          "metadata": {
            "tags": []
          },
          "execution_count": 100
        }
      ]
    },
    {
      "cell_type": "code",
      "metadata": {
        "id": "d5OH-Dkeuayh"
      },
      "source": [
        "# removing outliers"
      ],
      "execution_count": 101,
      "outputs": []
    },
    {
      "cell_type": "code",
      "metadata": {
        "colab": {
          "base_uri": "https://localhost:8080/"
        },
        "id": "7r2hy29furTF",
        "outputId": "9f3b674b-6859-49bb-ec43-46b5fe86a19a"
      },
      "source": [
        "df2.dtypes"
      ],
      "execution_count": 102,
      "outputs": [
        {
          "output_type": "execute_result",
          "data": {
            "text/plain": [
              "gender                int64\n",
              "SeniorCitizen       float64\n",
              "Partner               int64\n",
              "Dependents            int64\n",
              "tenure               object\n",
              "PhoneService          int64\n",
              "MultipleLines         int64\n",
              "InternetService       int64\n",
              "OnlineSecurity        int64\n",
              "OnlineBackup          int64\n",
              "DeviceProtection      int64\n",
              "TechSupport           int64\n",
              "StreamingTV           int64\n",
              "StreamingMovies       int64\n",
              "Contract              int64\n",
              "PaperlessBilling      int64\n",
              "PaymentMethod         int64\n",
              "MonthlyCharges       object\n",
              "TotalCharges        float64\n",
              "Churn                 int64\n",
              "dtype: object"
            ]
          },
          "metadata": {
            "tags": []
          },
          "execution_count": 102
        }
      ]
    },
    {
      "cell_type": "code",
      "metadata": {
        "id": "Z6Nbngzuzlf-"
      },
      "source": [
        "df3 = df2[df2['TotalCharges']<8000] ## outliers are present only in totalcharges"
      ],
      "execution_count": 110,
      "outputs": []
    },
    {
      "cell_type": "code",
      "metadata": {
        "colab": {
          "base_uri": "https://localhost:8080/"
        },
        "id": "DT_iU2Av1aP-",
        "outputId": "24c78219-a701-4ee0-9cee-1b7e2c8e4ec8"
      },
      "source": [
        "df3.shape, df2.shape"
      ],
      "execution_count": 111,
      "outputs": [
        {
          "output_type": "execute_result",
          "data": {
            "text/plain": [
              "((10262, 20), (10348, 20))"
            ]
          },
          "metadata": {
            "tags": []
          },
          "execution_count": 111
        }
      ]
    },
    {
      "cell_type": "code",
      "metadata": {
        "colab": {
          "base_uri": "https://localhost:8080/"
        },
        "id": "BOEiRZk31vX4",
        "outputId": "e92c1c34-630b-478f-bdce-0690ebb7caad"
      },
      "source": [
        "df3.skew()"
      ],
      "execution_count": 112,
      "outputs": [
        {
          "output_type": "execute_result",
          "data": {
            "text/plain": [
              "gender             -0.004678\n",
              "SeniorCitizen       1.533665\n",
              "Partner             0.247076\n",
              "Dependents          1.088196\n",
              "tenure              0.510243\n",
              "PhoneService       -2.758810\n",
              "MultipleLines       0.097378\n",
              "InternetService     0.182294\n",
              "OnlineSecurity      0.748970\n",
              "OnlineBackup        0.386462\n",
              "DeviceProtection    0.383629\n",
              "TechSupport         0.710435\n",
              "StreamingTV         0.074384\n",
              "StreamingMovies     0.064764\n",
              "Contract            1.105042\n",
              "PaperlessBilling   -0.590178\n",
              "PaymentMethod      -0.334628\n",
              "MonthlyCharges     -0.407699\n",
              "TotalCharges        1.096137\n",
              "Churn              -0.012475\n",
              "dtype: float64"
            ]
          },
          "metadata": {
            "tags": []
          },
          "execution_count": 112
        }
      ]
    },
    {
      "cell_type": "code",
      "metadata": {
        "id": "SLvEfGxv18fC"
      },
      "source": [
        "df4 = df3.copy()"
      ],
      "execution_count": 113,
      "outputs": []
    },
    {
      "cell_type": "code",
      "metadata": {
        "id": "jyQUS7UV2HLV"
      },
      "source": [
        "#for i in df4.columns:\n",
        "  #if (df4[i].skew() > 0.5):\n",
        "    #df4[i] = np.sqrt(df4[i])"
      ],
      "execution_count": 119,
      "outputs": []
    },
    {
      "cell_type": "code",
      "metadata": {
        "colab": {
          "base_uri": "https://localhost:8080/"
        },
        "id": "TtA7opHY2UJV",
        "outputId": "68b8695d-2ab6-4c80-bc93-e4461852ea3e"
      },
      "source": [
        "x=df4.iloc[:,0:-1]\n",
        "y=pd.DataFrame(df4.iloc[:,-1])\n",
        "x.shape , y.shape"
      ],
      "execution_count": 122,
      "outputs": [
        {
          "output_type": "execute_result",
          "data": {
            "text/plain": [
              "((10262, 19), (10262, 1))"
            ]
          },
          "metadata": {
            "tags": []
          },
          "execution_count": 122
        }
      ]
    },
    {
      "cell_type": "code",
      "metadata": {
        "colab": {
          "base_uri": "https://localhost:8080/",
          "height": 224
        },
        "id": "HwEmuokI3tRB",
        "outputId": "6a5a5f79-7841-4427-c3bb-6b6e08f7480b"
      },
      "source": [
        "from sklearn.preprocessing import StandardScaler\n",
        "scaler=StandardScaler()\n",
        "x=pd.DataFrame(scaler.fit_transform(x))\n",
        "x.head()"
      ],
      "execution_count": 124,
      "outputs": [
        {
          "output_type": "execute_result",
          "data": {
            "text/html": [
              "<div>\n",
              "<style scoped>\n",
              "    .dataframe tbody tr th:only-of-type {\n",
              "        vertical-align: middle;\n",
              "    }\n",
              "\n",
              "    .dataframe tbody tr th {\n",
              "        vertical-align: top;\n",
              "    }\n",
              "\n",
              "    .dataframe thead th {\n",
              "        text-align: right;\n",
              "    }\n",
              "</style>\n",
              "<table border=\"1\" class=\"dataframe\">\n",
              "  <thead>\n",
              "    <tr style=\"text-align: right;\">\n",
              "      <th></th>\n",
              "      <th>0</th>\n",
              "      <th>1</th>\n",
              "      <th>2</th>\n",
              "      <th>3</th>\n",
              "      <th>4</th>\n",
              "      <th>5</th>\n",
              "      <th>6</th>\n",
              "      <th>7</th>\n",
              "      <th>8</th>\n",
              "      <th>9</th>\n",
              "      <th>10</th>\n",
              "      <th>11</th>\n",
              "      <th>12</th>\n",
              "      <th>13</th>\n",
              "      <th>14</th>\n",
              "      <th>15</th>\n",
              "      <th>16</th>\n",
              "      <th>17</th>\n",
              "      <th>18</th>\n",
              "    </tr>\n",
              "  </thead>\n",
              "  <tbody>\n",
              "    <tr>\n",
              "      <th>0</th>\n",
              "      <td>-1.002341</td>\n",
              "      <td>-0.493383</td>\n",
              "      <td>1.13112</td>\n",
              "      <td>-0.594382</td>\n",
              "      <td>-1.115346</td>\n",
              "      <td>-3.082788</td>\n",
              "      <td>0.051393</td>\n",
              "      <td>-1.264893</td>\n",
              "      <td>-0.766670</td>\n",
              "      <td>1.338611</td>\n",
              "      <td>-0.907384</td>\n",
              "      <td>-0.779884</td>\n",
              "      <td>-1.056562</td>\n",
              "      <td>-1.061692</td>\n",
              "      <td>-0.661265</td>\n",
              "      <td>0.747572</td>\n",
              "      <td>0.352267</td>\n",
              "      <td>-1.313795</td>\n",
              "      <td>-0.931300</td>\n",
              "    </tr>\n",
              "    <tr>\n",
              "      <th>1</th>\n",
              "      <td>0.997664</td>\n",
              "      <td>-0.493383</td>\n",
              "      <td>-0.88408</td>\n",
              "      <td>-0.594382</td>\n",
              "      <td>0.271775</td>\n",
              "      <td>0.324382</td>\n",
              "      <td>-1.001291</td>\n",
              "      <td>-1.264893</td>\n",
              "      <td>1.617803</td>\n",
              "      <td>-0.906152</td>\n",
              "      <td>1.336639</td>\n",
              "      <td>-0.779884</td>\n",
              "      <td>-1.056562</td>\n",
              "      <td>-1.061692</td>\n",
              "      <td>0.647491</td>\n",
              "      <td>-1.337664</td>\n",
              "      <td>1.338613</td>\n",
              "      <td>-0.368647</td>\n",
              "      <td>-0.051849</td>\n",
              "    </tr>\n",
              "    <tr>\n",
              "      <th>2</th>\n",
              "      <td>0.997664</td>\n",
              "      <td>-0.493383</td>\n",
              "      <td>-0.88408</td>\n",
              "      <td>-0.594382</td>\n",
              "      <td>-1.073312</td>\n",
              "      <td>0.324382</td>\n",
              "      <td>-1.001291</td>\n",
              "      <td>-1.264893</td>\n",
              "      <td>1.617803</td>\n",
              "      <td>1.338611</td>\n",
              "      <td>-0.907384</td>\n",
              "      <td>-0.779884</td>\n",
              "      <td>-1.056562</td>\n",
              "      <td>-1.061692</td>\n",
              "      <td>-0.661265</td>\n",
              "      <td>0.747572</td>\n",
              "      <td>1.338613</td>\n",
              "      <td>-0.476764</td>\n",
              "      <td>-0.894271</td>\n",
              "    </tr>\n",
              "    <tr>\n",
              "      <th>3</th>\n",
              "      <td>0.997664</td>\n",
              "      <td>-0.493383</td>\n",
              "      <td>-0.88408</td>\n",
              "      <td>-0.594382</td>\n",
              "      <td>0.734149</td>\n",
              "      <td>-3.082788</td>\n",
              "      <td>0.051393</td>\n",
              "      <td>-1.264893</td>\n",
              "      <td>1.617803</td>\n",
              "      <td>-0.906152</td>\n",
              "      <td>1.336639</td>\n",
              "      <td>1.585469</td>\n",
              "      <td>-1.056562</td>\n",
              "      <td>-1.061692</td>\n",
              "      <td>0.647491</td>\n",
              "      <td>-1.337664</td>\n",
              "      <td>-1.620426</td>\n",
              "      <td>-0.879585</td>\n",
              "      <td>-0.074904</td>\n",
              "    </tr>\n",
              "    <tr>\n",
              "      <th>4</th>\n",
              "      <td>-1.002341</td>\n",
              "      <td>-0.493383</td>\n",
              "      <td>-0.88408</td>\n",
              "      <td>-0.594382</td>\n",
              "      <td>-1.073312</td>\n",
              "      <td>0.324382</td>\n",
              "      <td>-1.001291</td>\n",
              "      <td>0.209475</td>\n",
              "      <td>-0.766670</td>\n",
              "      <td>-0.906152</td>\n",
              "      <td>-0.907384</td>\n",
              "      <td>-0.779884</td>\n",
              "      <td>-1.056562</td>\n",
              "      <td>-1.061692</td>\n",
              "      <td>-0.661265</td>\n",
              "      <td>0.747572</td>\n",
              "      <td>0.352267</td>\n",
              "      <td>0.110901</td>\n",
              "      <td>-0.873700</td>\n",
              "    </tr>\n",
              "  </tbody>\n",
              "</table>\n",
              "</div>"
            ],
            "text/plain": [
              "         0         1        2   ...        16        17        18\n",
              "0 -1.002341 -0.493383  1.13112  ...  0.352267 -1.313795 -0.931300\n",
              "1  0.997664 -0.493383 -0.88408  ...  1.338613 -0.368647 -0.051849\n",
              "2  0.997664 -0.493383 -0.88408  ...  1.338613 -0.476764 -0.894271\n",
              "3  0.997664 -0.493383 -0.88408  ... -1.620426 -0.879585 -0.074904\n",
              "4 -1.002341 -0.493383 -0.88408  ...  0.352267  0.110901 -0.873700\n",
              "\n",
              "[5 rows x 19 columns]"
            ]
          },
          "metadata": {
            "tags": []
          },
          "execution_count": 124
        }
      ]
    },
    {
      "cell_type": "code",
      "metadata": {
        "id": "6s3VI06R34jt"
      },
      "source": [
        "from sklearn.model_selection import train_test_split\n",
        "from sklearn.metrics import accuracy_score\n",
        "\n",
        "def max_acc_score(reg,x1,y1):\n",
        "    max_acc_score=0\n",
        "    for r_state in range(42,101):\n",
        "        train_x,test_x,train_y,test_y=train_test_split(x,y,random_state=r_state,test_size=0.20)\n",
        "        reg.fit(train_x,train_y)\n",
        "        pred=reg.predict(test_x)\n",
        "        acc_score=accuracy_score(test_y,pred)\n",
        "        if acc_score>max_acc_score:\n",
        "            max_acc_score=acc_score\n",
        "            final_r_state=r_state\n",
        "    print(\"The max accuracy score \", max_acc_score, \"is achieved at\", final_r_state)\n",
        "    return final_r_state"
      ],
      "execution_count": 125,
      "outputs": []
    },
    {
      "cell_type": "code",
      "metadata": {
        "colab": {
          "base_uri": "https://localhost:8080/"
        },
        "id": "g7bh51J838hn",
        "outputId": "2ea274ea-677d-45ef-db1e-e34f82fde5aa"
      },
      "source": [
        "from sklearn.linear_model import LogisticRegression\n",
        "lg=LogisticRegression()\n",
        "\n",
        "max_acc_score(lg,x,y)"
      ],
      "execution_count": 126,
      "outputs": [
        {
          "output_type": "stream",
          "text": [
            "The max accuracy score  0.7920116902094496 is achieved at 68\n"
          ],
          "name": "stdout"
        },
        {
          "output_type": "execute_result",
          "data": {
            "text/plain": [
              "68"
            ]
          },
          "metadata": {
            "tags": []
          },
          "execution_count": 126
        }
      ]
    },
    {
      "cell_type": "code",
      "metadata": {
        "id": "BHQi8gOq3_Mc"
      },
      "source": [
        "train_x,test_x,train_y,test_y=train_test_split(x,y,random_state=68,test_size=0.20)"
      ],
      "execution_count": 127,
      "outputs": []
    },
    {
      "cell_type": "code",
      "metadata": {
        "colab": {
          "base_uri": "https://localhost:8080/"
        },
        "id": "79Ig1YRH4GZp",
        "outputId": "5c9f3233-7459-49de-a530-ab7fe9e3a863"
      },
      "source": [
        "from sklearn.model_selection import GridSearchCV\n",
        "from sklearn.neighbors import KNeighborsClassifier\n",
        "kn=KNeighborsClassifier()\n",
        "parameters={'n_neighbors':(5,10,15,20),'weights':('uniform','distance'),'algorithm':('auto','ball_tree','kd_tree','brute')}\n",
        "gdkn=GridSearchCV(kn,parameters)\n",
        "gdkn.fit(train_x,train_y)\n",
        "gdkn.best_params_"
      ],
      "execution_count": 128,
      "outputs": [
        {
          "output_type": "execute_result",
          "data": {
            "text/plain": [
              "{'algorithm': 'brute', 'n_neighbors': 10, 'weights': 'distance'}"
            ]
          },
          "metadata": {
            "tags": []
          },
          "execution_count": 128
        }
      ]
    },
    {
      "cell_type": "code",
      "metadata": {
        "colab": {
          "base_uri": "https://localhost:8080/"
        },
        "id": "nS-O8oYJ4Jgj",
        "outputId": "7884cc08-0904-409c-9f5f-23c344f05f5c"
      },
      "source": [
        "from sklearn.tree import DecisionTreeClassifier\n",
        "dt=DecisionTreeClassifier()\n",
        "parameters={'criterion':('gini','entropy'), 'splitter':('best','random')}\n",
        "gddt=GridSearchCV(dt,parameters)\n",
        "gddt.fit(train_x,train_y)\n",
        "gddt.best_params_"
      ],
      "execution_count": 129,
      "outputs": [
        {
          "output_type": "execute_result",
          "data": {
            "text/plain": [
              "{'criterion': 'gini', 'splitter': 'best'}"
            ]
          },
          "metadata": {
            "tags": []
          },
          "execution_count": 129
        }
      ]
    },
    {
      "cell_type": "code",
      "metadata": {
        "colab": {
          "base_uri": "https://localhost:8080/"
        },
        "id": "-dM7DcaL4aSw",
        "outputId": "66b72d0e-00ed-49b9-f973-9a8b91270bca"
      },
      "source": [
        "from sklearn.svm import SVC\n",
        "sv=SVC()\n",
        "parameters={'C':(1,10),'kernel':('linear','poly','rbf')}\n",
        "gdsv=GridSearchCV(sv,parameters)\n",
        "gdsv.fit(train_x,train_y)\n",
        "gdsv.best_params_"
      ],
      "execution_count": 130,
      "outputs": [
        {
          "output_type": "execute_result",
          "data": {
            "text/plain": [
              "{'C': 10, 'kernel': 'rbf'}"
            ]
          },
          "metadata": {
            "tags": []
          },
          "execution_count": 130
        }
      ]
    },
    {
      "cell_type": "code",
      "metadata": {
        "colab": {
          "base_uri": "https://localhost:8080/",
          "height": 1000
        },
        "id": "WiBkIveG4hSY",
        "outputId": "20480f93-ec50-4423-8759-df8d33ebe502"
      },
      "source": [
        "from sklearn.metrics import accuracy_score, classification_report, confusion_matrix, roc_auc_score, roc_curve, auc\n",
        "from sklearn.model_selection import cross_val_score\n",
        "from sklearn.naive_bayes import GaussianNB\n",
        "\n",
        "score=[]\n",
        "cv=[]\n",
        "rocscore=[]\n",
        "\n",
        "\n",
        "algorithms=[lg,KNeighborsClassifier(algorithm='brute', n_neighbors= 10, weights='distance'), DecisionTreeClassifier(criterion= 'gini', splitter= 'best'), SVC(C=10, kernel='rbf'), GaussianNB()]\n",
        "\n",
        "for i in algorithms:\n",
        "    print(i)\n",
        "    i.fit(train_x,train_y)\n",
        "    pred=i.predict(test_x)\n",
        "    accscore=accuracy_score(test_y,pred)\n",
        "    score.append(accscore)\n",
        "    print(\"\")\n",
        "    print(\"The accuracy score is \", accscore)\n",
        "    print(\"\")\n",
        "    cvscore=cross_val_score(i,x,y,cv=5,scoring='accuracy').mean()\n",
        "    cv.append(cvscore)\n",
        "    print(\"The cross val score is\", cvscore)\n",
        "    print()\n",
        "    print(classification_report(test_y,pred))\n",
        "    print()\n",
        "    cm=confusion_matrix(test_y,pred)\n",
        "    print(cm)\n",
        "    print()\n",
        "    false_positive_rate,true_positive_rate,thresholds=roc_curve(test_y,pred)\n",
        "    roc_auc=auc(false_positive_rate,true_positive_rate)\n",
        "    print('roc_auc_score',roc_auc)\n",
        "    rocscore.append(roc_auc)\n",
        "    print(\"\\n\")\n",
        "    plt.figure(figsize=(10,40))\n",
        "    plt.subplot(911)\n",
        "    print(sns.heatmap(cm,annot=True))\n",
        "    plt.subplot(912)\n",
        "    plt.title(i)\n",
        "    plt.plot(false_positive_rate,true_positive_rate,label='AUC = %0.2f'%roc_auc)\n",
        "    plt.plot([0,1],[0,1],'r--')\n",
        "    plt.legend(loc='lower right')\n",
        "    plt.ylabel('True Positive Rate')\n",
        "    plt.xlabel('False Positive Rate')\n",
        "    print(\"\\n\")\n",
        "    print(\"\\n\")"
      ],
      "execution_count": 131,
      "outputs": [
        {
          "output_type": "stream",
          "text": [
            "LogisticRegression(C=1.0, class_weight=None, dual=False, fit_intercept=True,\n",
            "                   intercept_scaling=1, l1_ratio=None, max_iter=100,\n",
            "                   multi_class='auto', n_jobs=None, penalty='l2',\n",
            "                   random_state=None, solver='lbfgs', tol=0.0001, verbose=0,\n",
            "                   warm_start=False)\n",
            "\n",
            "The accuracy score is  0.7920116902094496\n",
            "\n",
            "The cross val score is 0.7634962480618389\n",
            "\n",
            "              precision    recall  f1-score   support\n",
            "\n",
            "           0       0.82      0.75      0.78      1030\n",
            "           1       0.77      0.83      0.80      1023\n",
            "\n",
            "    accuracy                           0.79      2053\n",
            "   macro avg       0.79      0.79      0.79      2053\n",
            "weighted avg       0.79      0.79      0.79      2053\n",
            "\n",
            "\n",
            "[[775 255]\n",
            " [172 851]]\n",
            "\n",
            "roc_auc_score 0.7921471210697645\n",
            "\n",
            "\n",
            "AxesSubplot(0.125,0.808774;0.62x0.0712264)\n",
            "\n",
            "\n",
            "\n",
            "\n",
            "KNeighborsClassifier(algorithm='brute', leaf_size=30, metric='minkowski',\n",
            "                     metric_params=None, n_jobs=None, n_neighbors=10, p=2,\n",
            "                     weights='distance')\n",
            "\n",
            "The accuracy score is  0.8329274232830005\n",
            "\n",
            "The cross val score is 0.8285925887946037\n",
            "\n",
            "              precision    recall  f1-score   support\n",
            "\n",
            "           0       0.96      0.69      0.81      1030\n",
            "           1       0.76      0.97      0.85      1023\n",
            "\n",
            "    accuracy                           0.83      2053\n",
            "   macro avg       0.86      0.83      0.83      2053\n",
            "weighted avg       0.86      0.83      0.83      2053\n",
            "\n",
            "\n",
            "[[714 316]\n",
            " [ 27 996]]\n",
            "\n",
            "roc_auc_score 0.8334054608091565\n",
            "\n",
            "\n",
            "AxesSubplot(0.125,0.808774;0.62x0.0712264)\n",
            "\n",
            "\n",
            "\n",
            "\n",
            "DecisionTreeClassifier(ccp_alpha=0.0, class_weight=None, criterion='gini',\n",
            "                       max_depth=None, max_features=None, max_leaf_nodes=None,\n",
            "                       min_impurity_decrease=0.0, min_impurity_split=None,\n",
            "                       min_samples_leaf=1, min_samples_split=2,\n",
            "                       min_weight_fraction_leaf=0.0, presort='deprecated',\n",
            "                       random_state=None, splitter='best')\n",
            "\n",
            "The accuracy score is  0.8918655625913298\n",
            "\n",
            "The cross val score is 0.8817039486739798\n",
            "\n",
            "              precision    recall  f1-score   support\n",
            "\n",
            "           0       0.95      0.82      0.88      1030\n",
            "           1       0.84      0.96      0.90      1023\n",
            "\n",
            "    accuracy                           0.89      2053\n",
            "   macro avg       0.90      0.89      0.89      2053\n",
            "weighted avg       0.90      0.89      0.89      2053\n",
            "\n",
            "\n",
            "[[848 182]\n",
            " [ 40 983]]\n",
            "\n",
            "roc_auc_score 0.8921001433059059\n",
            "\n",
            "\n",
            "AxesSubplot(0.125,0.808774;0.62x0.0712264)\n",
            "\n",
            "\n",
            "\n",
            "\n",
            "SVC(C=10, break_ties=False, cache_size=200, class_weight=None, coef0=0.0,\n",
            "    decision_function_shape='ovr', degree=3, gamma='scale', kernel='rbf',\n",
            "    max_iter=-1, probability=False, random_state=None, shrinking=True,\n",
            "    tol=0.001, verbose=False)\n",
            "\n",
            "The accuracy score is  0.8163662932294203\n",
            "\n",
            "The cross val score is 0.8141698688459528\n",
            "\n",
            "              precision    recall  f1-score   support\n",
            "\n",
            "           0       0.88      0.74      0.80      1030\n",
            "           1       0.77      0.89      0.83      1023\n",
            "\n",
            "    accuracy                           0.82      2053\n",
            "   macro avg       0.82      0.82      0.82      2053\n",
            "weighted avg       0.82      0.82      0.82      2053\n",
            "\n",
            "\n",
            "[[761 269]\n",
            " [108 915]]\n",
            "\n",
            "roc_auc_score 0.8166315519744897\n",
            "\n",
            "\n",
            "AxesSubplot(0.125,0.808774;0.62x0.0712264)\n",
            "\n",
            "\n",
            "\n",
            "\n",
            "GaussianNB(priors=None, var_smoothing=1e-09)\n",
            "\n",
            "The accuracy score is  0.76668290306868\n",
            "\n",
            "The cross val score is 0.7474169878340925\n",
            "\n",
            "              precision    recall  f1-score   support\n",
            "\n",
            "           0       0.79      0.73      0.76      1030\n",
            "           1       0.75      0.81      0.78      1023\n",
            "\n",
            "    accuracy                           0.77      2053\n",
            "   macro avg       0.77      0.77      0.77      2053\n",
            "weighted avg       0.77      0.77      0.77      2053\n",
            "\n",
            "\n",
            "[[747 283]\n",
            " [196 827]]\n",
            "\n",
            "roc_auc_score 0.7668246827814631\n",
            "\n",
            "\n",
            "AxesSubplot(0.125,0.808774;0.62x0.0712264)\n",
            "\n",
            "\n",
            "\n",
            "\n"
          ],
          "name": "stdout"
        },
        {
          "output_type": "display_data",
          "data": {
            "image/png": "[encoded data removed]",
            "text/plain": [
              "<Figure size 720x2880 with 3 Axes>"
            ]
          },
          "metadata": {
            "tags": [],
            "needs_background": "light"
          }
        },
        {
          "output_type": "display_data",
          "data": {
            "image/png": "[encoded data removed]",
            "text/plain": [
              "<Figure size 720x2880 with 3 Axes>"
            ]
          },
          "metadata": {
            "tags": [],
            "needs_background": "light"
          }
        },
        {
          "output_type": "display_data",
          "data": {
            "image/png": "[encoded data removed]",
            "text/plain": [
              "<Figure size 720x2880 with 3 Axes>"
            ]
          },
          "metadata": {
            "tags": [],
            "needs_background": "light"
          }
        },
        {
          "output_type": "display_data",
          "data": {
            "image/png": "[encoded data removed]",
            "text/plain": [
              "<Figure size 720x2880 with 3 Axes>"
            ]
          },
          "metadata": {
            "tags": [],
            "needs_background": "light"
          }
        },
        {
          "output_type": "display_data",
          "data": {
            "image/png": "[encoded data removed]",
            "text/plain": [
              "<Figure size 720x2880 with 3 Axes>"
            ]
          },
          "metadata": {
            "tags": [],
            "needs_background": "light"
          }
        }
      ]
    },
    {
      "cell_type": "code",
      "metadata": {
        "colab": {
          "base_uri": "https://localhost:8080/",
          "height": 204
        },
        "id": "-zRfs49f5crY",
        "outputId": "4456f366-54dc-4608-e90f-4576284fe7be"
      },
      "source": [
        "result=pd.DataFrame({'Model':[LogisticRegression,KNeighborsClassifier, DecisionTreeClassifier, SVC,GaussianNB],'Accuracy_Score':score,'Cross_val_score':cv, 'AUC_ROC':rocscore})\n",
        "result"
      ],
      "execution_count": 132,
      "outputs": [
        {
          "output_type": "execute_result",
          "data": {
            "text/html": [
              "<div>\n",
              "<style scoped>\n",
              "    .dataframe tbody tr th:only-of-type {\n",
              "        vertical-align: middle;\n",
              "    }\n",
              "\n",
              "    .dataframe tbody tr th {\n",
              "        vertical-align: top;\n",
              "    }\n",
              "\n",
              "    .dataframe thead th {\n",
              "        text-align: right;\n",
              "    }\n",
              "</style>\n",
              "<table border=\"1\" class=\"dataframe\">\n",
              "  <thead>\n",
              "    <tr style=\"text-align: right;\">\n",
              "      <th></th>\n",
              "      <th>Model</th>\n",
              "      <th>Accuracy_Score</th>\n",
              "      <th>Cross_val_score</th>\n",
              "      <th>AUC_ROC</th>\n",
              "    </tr>\n",
              "  </thead>\n",
              "  <tbody>\n",
              "    <tr>\n",
              "      <th>0</th>\n",
              "      <td>&lt;class 'sklearn.linear_model._logistic.Logisti...</td>\n",
              "      <td>0.792012</td>\n",
              "      <td>0.763496</td>\n",
              "      <td>0.792147</td>\n",
              "    </tr>\n",
              "    <tr>\n",
              "      <th>1</th>\n",
              "      <td>&lt;class 'sklearn.neighbors._classification.KNei...</td>\n",
              "      <td>0.832927</td>\n",
              "      <td>0.828593</td>\n",
              "      <td>0.833405</td>\n",
              "    </tr>\n",
              "    <tr>\n",
              "      <th>2</th>\n",
              "      <td>&lt;class 'sklearn.tree._classes.DecisionTreeClas...</td>\n",
              "      <td>0.891866</td>\n",
              "      <td>0.881704</td>\n",
              "      <td>0.892100</td>\n",
              "    </tr>\n",
              "    <tr>\n",
              "      <th>3</th>\n",
              "      <td>&lt;class 'sklearn.svm._classes.SVC'&gt;</td>\n",
              "      <td>0.816366</td>\n",
              "      <td>0.814170</td>\n",
              "      <td>0.816632</td>\n",
              "    </tr>\n",
              "    <tr>\n",
              "      <th>4</th>\n",
              "      <td>&lt;class 'sklearn.naive_bayes.GaussianNB'&gt;</td>\n",
              "      <td>0.766683</td>\n",
              "      <td>0.747417</td>\n",
              "      <td>0.766825</td>\n",
              "    </tr>\n",
              "  </tbody>\n",
              "</table>\n",
              "</div>"
            ],
            "text/plain": [
              "                                               Model  ...   AUC_ROC\n",
              "0  <class 'sklearn.linear_model._logistic.Logisti...  ...  0.792147\n",
              "1  <class 'sklearn.neighbors._classification.KNei...  ...  0.833405\n",
              "2  <class 'sklearn.tree._classes.DecisionTreeClas...  ...  0.892100\n",
              "3                 <class 'sklearn.svm._classes.SVC'>  ...  0.816632\n",
              "4           <class 'sklearn.naive_bayes.GaussianNB'>  ...  0.766825\n",
              "\n",
              "[5 rows x 4 columns]"
            ]
          },
          "metadata": {
            "tags": []
          },
          "execution_count": 132
        }
      ]
    },
    {
      "cell_type": "code",
      "metadata": {
        "id": "cPUZnIBU5sNI"
      },
      "source": [
        "## decision tree is working best"
      ],
      "execution_count": 133,
      "outputs": []
    },
    {
      "cell_type": "code",
      "metadata": {
        "colab": {
          "base_uri": "https://localhost:8080/",
          "height": 129
        },
        "id": "mMYQ-IO35x3O",
        "outputId": "cb15e9c0-e2aa-468e-d6ab-b22a81922842"
      },
      "source": [
        "#trying with algorithms"
      ],
      "execution_count": 139,
      "outputs": [
        {
          "output_type": "error",
          "ename": "SyntaxError",
          "evalue": "ignored",
          "traceback": [
            "\u001b[0;36m  File \u001b[0;32m\"<ipython-input-139-d0e1fc8ebef7>\"\u001b[0;36m, line \u001b[0;32m1\u001b[0m\n\u001b[0;31m    trying with algorithms\u001b[0m\n\u001b[0m              ^\u001b[0m\n\u001b[0;31mSyntaxError\u001b[0m\u001b[0;31m:\u001b[0m invalid syntax\n"
          ]
        }
      ]
    },
    {
      "cell_type": "code",
      "metadata": {
        "colab": {
          "base_uri": "https://localhost:8080/"
        },
        "id": "up0LhO3b56-t",
        "outputId": "b1cb3fe7-f2f4-47fc-fd4d-7e8d6ceb6697"
      },
      "source": [
        "from sklearn.ensemble import RandomForestClassifier\n",
        "rf=RandomForestClassifier()\n",
        "parameters={'n_estimators':(10,50,100,200,500)}\n",
        "gdrf=GridSearchCV(rf,parameters)\n",
        "gdrf.fit(train_x,train_y)\n",
        "gdrf.best_params_"
      ],
      "execution_count": 135,
      "outputs": [
        {
          "output_type": "execute_result",
          "data": {
            "text/plain": [
              "{'n_estimators': 100}"
            ]
          },
          "metadata": {
            "tags": []
          },
          "execution_count": 135
        }
      ]
    },
    {
      "cell_type": "code",
      "metadata": {
        "colab": {
          "base_uri": "https://localhost:8080/"
        },
        "id": "VzZF-GX86CQk",
        "outputId": "9ca92582-df1a-4982-bd37-021dbd43e958"
      },
      "source": [
        "rf=RandomForestClassifier(n_estimators=100)\n",
        "max_acc_score(rf,x,y)"
      ],
      "execution_count": 142,
      "outputs": [
        {
          "output_type": "stream",
          "text": [
            "The max accuracy score  0.9074525085241111 is achieved at 83\n"
          ],
          "name": "stdout"
        },
        {
          "output_type": "execute_result",
          "data": {
            "text/plain": [
              "83"
            ]
          },
          "metadata": {
            "tags": []
          },
          "execution_count": 142
        }
      ]
    },
    {
      "cell_type": "code",
      "metadata": {
        "colab": {
          "base_uri": "https://localhost:8080/"
        },
        "id": "JDaC6QRj6O1l",
        "outputId": "fde042a8-1332-48b1-a564-5f90f10a0916"
      },
      "source": [
        "cs=cross_val_score(rf,x,y,cv=5,scoring='accuracy').mean()\n",
        "print(\"The cross val score of Random forest classifier is\", cs)"
      ],
      "execution_count": 143,
      "outputs": [
        {
          "output_type": "stream",
          "text": [
            "The cross val score of Random forest classifier is 0.9041149784131814\n"
          ],
          "name": "stdout"
        }
      ]
    },
    {
      "cell_type": "code",
      "metadata": {
        "colab": {
          "base_uri": "https://localhost:8080/"
        },
        "id": "FntaTYjt62HS",
        "outputId": "f121a8b4-25d9-4049-a2c0-2180aa6e02fe"
      },
      "source": [
        "from sklearn.ensemble import GradientBoostingClassifier\n",
        "gc=GradientBoostingClassifier()\n",
        "parameters={'learning_rate':(0.001,0.01,0.1,1),'n_estimators':(50,100,200,500)}\n",
        "gd=GridSearchCV(gc,parameters)\n",
        "gd.fit(train_x,train_y)\n",
        "gd.best_params_"
      ],
      "execution_count": 138,
      "outputs": [
        {
          "output_type": "execute_result",
          "data": {
            "text/plain": [
              "{'learning_rate': 1, 'n_estimators': 500}"
            ]
          },
          "metadata": {
            "tags": []
          },
          "execution_count": 138
        }
      ]
    },
    {
      "cell_type": "code",
      "metadata": {
        "colab": {
          "base_uri": "https://localhost:8080/"
        },
        "id": "QTRTxQca62ag",
        "outputId": "831b47fa-2af1-4619-d7dc-f55aacc1bb5d"
      },
      "source": [
        "gcd=GradientBoostingClassifier(learning_rate=1, n_estimators= 500)\n",
        "max_acc_score(gcd,x,y)"
      ],
      "execution_count": 141,
      "outputs": [
        {
          "output_type": "stream",
          "text": [
            "The max accuracy score  0.8869946419873356 is achieved at 77\n"
          ],
          "name": "stdout"
        },
        {
          "output_type": "execute_result",
          "data": {
            "text/plain": [
              "77"
            ]
          },
          "metadata": {
            "tags": []
          },
          "execution_count": 141
        }
      ]
    },
    {
      "cell_type": "code",
      "metadata": {
        "colab": {
          "base_uri": "https://localhost:8080/"
        },
        "id": "tc9rQlgT62od",
        "outputId": "1c82a3b4-e8fa-463f-d6a7-299e44f062e9"
      },
      "source": [
        "cs=cross_val_score(gcd,x,y,cv=5,scoring='accuracy').mean()\n",
        "print(\"The cross val score of GradientBoosting classifier is\", cs)"
      ],
      "execution_count": 145,
      "outputs": [
        {
          "output_type": "stream",
          "text": [
            "The cross val score of GradientBoosting classifier is 0.8776115208191502\n"
          ],
          "name": "stdout"
        }
      ]
    },
    {
      "cell_type": "code",
      "metadata": {
        "colab": {
          "base_uri": "https://localhost:8080/"
        },
        "id": "tj6kOCdE622I",
        "outputId": "8fc78b4d-9fff-42b3-bec0-d4e07165a1eb"
      },
      "source": [
        "from sklearn.ensemble import AdaBoostClassifier\n",
        "ad=AdaBoostClassifier()\n",
        "parameters={'learning_rate':(0.001,0.01,0.1,1),'n_estimators':(50,100,200,500)}\n",
        "gd=GridSearchCV(ad,parameters)\n",
        "gd.fit(train_x,train_y)\n",
        "gd.best_params_"
      ],
      "execution_count": 146,
      "outputs": [
        {
          "output_type": "execute_result",
          "data": {
            "text/plain": [
              "{'learning_rate': 1, 'n_estimators': 200}"
            ]
          },
          "metadata": {
            "tags": []
          },
          "execution_count": 146
        }
      ]
    },
    {
      "cell_type": "code",
      "metadata": {
        "colab": {
          "base_uri": "https://localhost:8080/"
        },
        "id": "8os37e5G7UvY",
        "outputId": "9576f062-7b19-42f8-ce1c-60b947ca8923"
      },
      "source": [
        "ada=AdaBoostClassifier(learning_rate= 1, n_estimators= 200)\n",
        "max_acc_score(ada,x,y)"
      ],
      "execution_count": 147,
      "outputs": [
        {
          "output_type": "stream",
          "text": [
            "The max accuracy score  0.7968826108134437 is achieved at 46\n"
          ],
          "name": "stdout"
        },
        {
          "output_type": "execute_result",
          "data": {
            "text/plain": [
              "46"
            ]
          },
          "metadata": {
            "tags": []
          },
          "execution_count": 147
        }
      ]
    },
    {
      "cell_type": "code",
      "metadata": {
        "colab": {
          "base_uri": "https://localhost:8080/"
        },
        "id": "5_IDy0KL7W2S",
        "outputId": "4776bea6-5d6c-4482-9393-e7a68117ec76"
      },
      "source": [
        "cs=cross_val_score(ada,x,y,cv=5,scoring='accuracy').mean()\n",
        "print(\"The cross val score of AdaBoost classifier is\", cs)"
      ],
      "execution_count": 148,
      "outputs": [
        {
          "output_type": "stream",
          "text": [
            "The cross val score of AdaBoost classifier is 0.7729495845475028\n"
          ],
          "name": "stdout"
        }
      ]
    },
    {
      "cell_type": "code",
      "metadata": {
        "colab": {
          "base_uri": "https://localhost:8080/",
          "height": 142
        },
        "id": "v06GarlY7Z-L",
        "outputId": "c0c7934e-707b-42c2-8aa1-942189a00f31"
      },
      "source": [
        "results_booster=pd.DataFrame({'Boosters':['RandomForestClassifier','GradientBoostClassifier','AdaBoostRegressor'],'Accuracy Score':[0.9,0.88,0.79],'Cross_val_score':[0.9,0.87,0.77]})\n",
        "results_booster"
      ],
      "execution_count": 150,
      "outputs": [
        {
          "output_type": "execute_result",
          "data": {
            "text/html": [
              "<div>\n",
              "<style scoped>\n",
              "    .dataframe tbody tr th:only-of-type {\n",
              "        vertical-align: middle;\n",
              "    }\n",
              "\n",
              "    .dataframe tbody tr th {\n",
              "        vertical-align: top;\n",
              "    }\n",
              "\n",
              "    .dataframe thead th {\n",
              "        text-align: right;\n",
              "    }\n",
              "</style>\n",
              "<table border=\"1\" class=\"dataframe\">\n",
              "  <thead>\n",
              "    <tr style=\"text-align: right;\">\n",
              "      <th></th>\n",
              "      <th>Boosters</th>\n",
              "      <th>Accuracy Score</th>\n",
              "      <th>Cross_val_score</th>\n",
              "    </tr>\n",
              "  </thead>\n",
              "  <tbody>\n",
              "    <tr>\n",
              "      <th>0</th>\n",
              "      <td>RandomForestClassifier</td>\n",
              "      <td>0.90</td>\n",
              "      <td>0.90</td>\n",
              "    </tr>\n",
              "    <tr>\n",
              "      <th>1</th>\n",
              "      <td>GradientBoostClassifier</td>\n",
              "      <td>0.88</td>\n",
              "      <td>0.87</td>\n",
              "    </tr>\n",
              "    <tr>\n",
              "      <th>2</th>\n",
              "      <td>AdaBoostRegressor</td>\n",
              "      <td>0.79</td>\n",
              "      <td>0.77</td>\n",
              "    </tr>\n",
              "  </tbody>\n",
              "</table>\n",
              "</div>"
            ],
            "text/plain": [
              "                  Boosters  Accuracy Score  Cross_val_score\n",
              "0   RandomForestClassifier            0.90             0.90\n",
              "1  GradientBoostClassifier            0.88             0.87\n",
              "2        AdaBoostRegressor            0.79             0.77"
            ]
          },
          "metadata": {
            "tags": []
          },
          "execution_count": 150
        }
      ]
    },
    {
      "cell_type": "code",
      "metadata": {
        "id": "Mj96EzB5_XNf"
      },
      "source": [
        "## random forest is performing best "
      ],
      "execution_count": 151,
      "outputs": []
    },
    {
      "cell_type": "code",
      "metadata": {
        "id": "FYNoQXKj_e5Q"
      },
      "source": [
        "## saving the model"
      ],
      "execution_count": 152,
      "outputs": []
    },
    {
      "cell_type": "code",
      "metadata": {
        "colab": {
          "base_uri": "https://localhost:8080/"
        },
        "id": "j_rmLcZo_g99",
        "outputId": "9f80f891-5612-4527-f893-5d7090c816b4"
      },
      "source": [
        "import joblib\n",
        "joblib.dump(rf,'CustomerChurn.pkl')"
      ],
      "execution_count": 153,
      "outputs": [
        {
          "output_type": "execute_result",
          "data": {
            "text/plain": [
              "['CustomerChurn.pkl']"
            ]
          },
          "metadata": {
            "tags": []
          },
          "execution_count": 153
        }
      ]
    },
    {
      "cell_type": "code",
      "metadata": {
        "id": "jj1rozGG_0xA"
      },
      "source": [
        ""
      ],
      "execution_count": null,
      "outputs": []
    }
  ]
}