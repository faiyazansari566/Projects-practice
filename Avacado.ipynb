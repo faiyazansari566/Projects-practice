{
  "nbformat": 4,
  "nbformat_minor": 0,
  "metadata": {
    "colab": {
      "name": "Avacado.ipynb",
      "provenance": [],
      "collapsed_sections": [],
      "authorship_tag": "ABX9TyNAs/6bI25+AUJgIuL+4f1m",
      "include_colab_link": true
    },
    "kernelspec": {
      "name": "python3",
      "display_name": "Python 3"
    },
    "language_info": {
      "name": "python"
    }
  },
  "cells": [
    {
      "cell_type": "markdown",
      "metadata": {
        "id": "view-in-github",
        "colab_type": "text"
      },
      "source": [
        "<a href=\"https://colab.research.google.com/github/faiyazansari566/Projects-practice/blob/main/Avacado.ipynb\" target=\"_parent\"><img src=\"https://colab.research.google.com/assets/colab-badge.svg\" alt=\"Open In Colab\"/></a>"
      ]
    },
    {
      "cell_type": "code",
      "metadata": {
        "id": "7mSbvunb51wY"
      },
      "source": [
        "import numpy as np\n",
        "import pandas as pd\n",
        "import seaborn as sns \n",
        "import matplotlib.pyplot as plt\n",
        "%matplotlib inline\n",
        "import scipy.stats as st\n",
        "import warnings\n",
        "warnings.filterwarnings('ignore')"
      ],
      "execution_count": 22,
      "outputs": []
    },
    {
      "cell_type": "code",
      "metadata": {
        "colab": {
          "base_uri": "https://localhost:8080/",
          "height": 204
        },
        "id": "r1XLqHcIUOQ3",
        "outputId": "195fff07-4afe-4728-8a19-364528d7dbc1"
      },
      "source": [
        "df = pd.read_csv('https://raw.githubusercontent.com/dsrscientist/Data-Science-ML-Capstone-Projects/master/avocado.csv')\n",
        "df.head()"
      ],
      "execution_count": 29,
      "outputs": [
        {
          "output_type": "execute_result",
          "data": {
            "text/html": [
              "<div>\n",
              "<style scoped>\n",
              "    .dataframe tbody tr th:only-of-type {\n",
              "        vertical-align: middle;\n",
              "    }\n",
              "\n",
              "    .dataframe tbody tr th {\n",
              "        vertical-align: top;\n",
              "    }\n",
              "\n",
              "    .dataframe thead th {\n",
              "        text-align: right;\n",
              "    }\n",
              "</style>\n",
              "<table border=\"1\" class=\"dataframe\">\n",
              "  <thead>\n",
              "    <tr style=\"text-align: right;\">\n",
              "      <th></th>\n",
              "      <th>Unnamed: 0</th>\n",
              "      <th>Date</th>\n",
              "      <th>AveragePrice</th>\n",
              "      <th>Total Volume</th>\n",
              "      <th>4046</th>\n",
              "      <th>4225</th>\n",
              "      <th>4770</th>\n",
              "      <th>Total Bags</th>\n",
              "      <th>Small Bags</th>\n",
              "      <th>Large Bags</th>\n",
              "      <th>XLarge Bags</th>\n",
              "      <th>type</th>\n",
              "      <th>year</th>\n",
              "      <th>region</th>\n",
              "    </tr>\n",
              "  </thead>\n",
              "  <tbody>\n",
              "    <tr>\n",
              "      <th>0</th>\n",
              "      <td>0.0</td>\n",
              "      <td>27-12-2015</td>\n",
              "      <td>1.33</td>\n",
              "      <td>64236.62</td>\n",
              "      <td>1036.74</td>\n",
              "      <td>54454.85</td>\n",
              "      <td>48.16</td>\n",
              "      <td>8696.87</td>\n",
              "      <td>8603.62</td>\n",
              "      <td>93.25</td>\n",
              "      <td>0.0</td>\n",
              "      <td>conventional</td>\n",
              "      <td>2015.0</td>\n",
              "      <td>Albany</td>\n",
              "    </tr>\n",
              "    <tr>\n",
              "      <th>1</th>\n",
              "      <td>1.0</td>\n",
              "      <td>20-12-2015</td>\n",
              "      <td>1.35</td>\n",
              "      <td>54876.98</td>\n",
              "      <td>674.28</td>\n",
              "      <td>44638.81</td>\n",
              "      <td>58.33</td>\n",
              "      <td>9505.56</td>\n",
              "      <td>9408.07</td>\n",
              "      <td>97.49</td>\n",
              "      <td>0.0</td>\n",
              "      <td>conventional</td>\n",
              "      <td>2015.0</td>\n",
              "      <td>Albany</td>\n",
              "    </tr>\n",
              "    <tr>\n",
              "      <th>2</th>\n",
              "      <td>2.0</td>\n",
              "      <td>13-12-2015</td>\n",
              "      <td>0.93</td>\n",
              "      <td>118220.22</td>\n",
              "      <td>794.70</td>\n",
              "      <td>109149.67</td>\n",
              "      <td>130.50</td>\n",
              "      <td>8145.35</td>\n",
              "      <td>8042.21</td>\n",
              "      <td>103.14</td>\n",
              "      <td>0.0</td>\n",
              "      <td>conventional</td>\n",
              "      <td>2015.0</td>\n",
              "      <td>Albany</td>\n",
              "    </tr>\n",
              "    <tr>\n",
              "      <th>3</th>\n",
              "      <td>3.0</td>\n",
              "      <td>06-12-2015</td>\n",
              "      <td>1.08</td>\n",
              "      <td>78992.15</td>\n",
              "      <td>1132.00</td>\n",
              "      <td>71976.41</td>\n",
              "      <td>72.58</td>\n",
              "      <td>5811.16</td>\n",
              "      <td>5677.40</td>\n",
              "      <td>133.76</td>\n",
              "      <td>0.0</td>\n",
              "      <td>conventional</td>\n",
              "      <td>2015.0</td>\n",
              "      <td>Albany</td>\n",
              "    </tr>\n",
              "    <tr>\n",
              "      <th>4</th>\n",
              "      <td>4.0</td>\n",
              "      <td>29-11-2015</td>\n",
              "      <td>1.28</td>\n",
              "      <td>51039.60</td>\n",
              "      <td>941.48</td>\n",
              "      <td>43838.39</td>\n",
              "      <td>75.78</td>\n",
              "      <td>6183.95</td>\n",
              "      <td>5986.26</td>\n",
              "      <td>197.69</td>\n",
              "      <td>0.0</td>\n",
              "      <td>conventional</td>\n",
              "      <td>2015.0</td>\n",
              "      <td>Albany</td>\n",
              "    </tr>\n",
              "  </tbody>\n",
              "</table>\n",
              "</div>"
            ],
            "text/plain": [
              "   Unnamed: 0        Date  AveragePrice  ...          type    year  region\n",
              "0         0.0  27-12-2015          1.33  ...  conventional  2015.0  Albany\n",
              "1         1.0  20-12-2015          1.35  ...  conventional  2015.0  Albany\n",
              "2         2.0  13-12-2015          0.93  ...  conventional  2015.0  Albany\n",
              "3         3.0  06-12-2015          1.08  ...  conventional  2015.0  Albany\n",
              "4         4.0  29-11-2015          1.28  ...  conventional  2015.0  Albany\n",
              "\n",
              "[5 rows x 14 columns]"
            ]
          },
          "metadata": {
            "tags": []
          },
          "execution_count": 29
        }
      ]
    },
    {
      "cell_type": "code",
      "metadata": {
        "colab": {
          "base_uri": "https://localhost:8080/"
        },
        "id": "sp0rvVWc1pcY",
        "outputId": "b527389b-842c-412e-fd05-43d2bce62a0f"
      },
      "source": [
        "df.shape"
      ],
      "execution_count": 30,
      "outputs": [
        {
          "output_type": "execute_result",
          "data": {
            "text/plain": [
              "(16468, 14)"
            ]
          },
          "metadata": {
            "tags": []
          },
          "execution_count": 30
        }
      ]
    },
    {
      "cell_type": "code",
      "metadata": {
        "id": "yYJemseNUSYT"
      },
      "source": [
        "df.drop('Unnamed: 0',axis=1,inplace=True)"
      ],
      "execution_count": 25,
      "outputs": []
    },
    {
      "cell_type": "code",
      "metadata": {
        "colab": {
          "base_uri": "https://localhost:8080/"
        },
        "id": "QfzIs3AAcLLg",
        "outputId": "865d8f5b-4d20-4284-bf5d-d998dd76e7c7"
      },
      "source": [
        "df.dtypes"
      ],
      "execution_count": 27,
      "outputs": [
        {
          "output_type": "execute_result",
          "data": {
            "text/plain": [
              "Date             object\n",
              "AveragePrice    float64\n",
              "Total Volume    float64\n",
              "4046            float64\n",
              "4225            float64\n",
              "4770            float64\n",
              "Total Bags      float64\n",
              "Small Bags      float64\n",
              "Large Bags      float64\n",
              "XLarge Bags     float64\n",
              "type             object\n",
              "year            float64\n",
              "region           object\n",
              "dtype: object"
            ]
          },
          "metadata": {
            "tags": []
          },
          "execution_count": 27
        }
      ]
    },
    {
      "cell_type": "code",
      "metadata": {
        "colab": {
          "base_uri": "https://localhost:8080/",
          "height": 297
        },
        "id": "vjMsnaO0cSfF",
        "outputId": "c97dfe28-58ce-4fc9-bf59-888f5be4fc9a"
      },
      "source": [
        "df.describe()"
      ],
      "execution_count": 19,
      "outputs": [
        {
          "output_type": "execute_result",
          "data": {
            "text/html": [
              "<div>\n",
              "<style scoped>\n",
              "    .dataframe tbody tr th:only-of-type {\n",
              "        vertical-align: middle;\n",
              "    }\n",
              "\n",
              "    .dataframe tbody tr th {\n",
              "        vertical-align: top;\n",
              "    }\n",
              "\n",
              "    .dataframe thead th {\n",
              "        text-align: right;\n",
              "    }\n",
              "</style>\n",
              "<table border=\"1\" class=\"dataframe\">\n",
              "  <thead>\n",
              "    <tr style=\"text-align: right;\">\n",
              "      <th></th>\n",
              "      <th>AveragePrice</th>\n",
              "      <th>Total Volume</th>\n",
              "      <th>4046</th>\n",
              "      <th>4225</th>\n",
              "      <th>4770</th>\n",
              "      <th>Total Bags</th>\n",
              "      <th>Small Bags</th>\n",
              "      <th>Large Bags</th>\n",
              "      <th>XLarge Bags</th>\n",
              "      <th>year</th>\n",
              "    </tr>\n",
              "  </thead>\n",
              "  <tbody>\n",
              "    <tr>\n",
              "      <th>count</th>\n",
              "      <td>1517.000000</td>\n",
              "      <td>1.517000e+03</td>\n",
              "      <td>1.517000e+03</td>\n",
              "      <td>1.517000e+03</td>\n",
              "      <td>1.517000e+03</td>\n",
              "      <td>1.517000e+03</td>\n",
              "      <td>1.517000e+03</td>\n",
              "      <td>1.517000e+03</td>\n",
              "      <td>1517.000000</td>\n",
              "      <td>1517.000000</td>\n",
              "    </tr>\n",
              "    <tr>\n",
              "      <th>mean</th>\n",
              "      <td>1.074990</td>\n",
              "      <td>1.601879e+06</td>\n",
              "      <td>6.464387e+05</td>\n",
              "      <td>6.114375e+05</td>\n",
              "      <td>5.040550e+04</td>\n",
              "      <td>2.935974e+05</td>\n",
              "      <td>2.487736e+05</td>\n",
              "      <td>4.264205e+04</td>\n",
              "      <td>2181.771074</td>\n",
              "      <td>2015.162821</td>\n",
              "    </tr>\n",
              "    <tr>\n",
              "      <th>std</th>\n",
              "      <td>0.188891</td>\n",
              "      <td>4.433143e+06</td>\n",
              "      <td>1.947614e+06</td>\n",
              "      <td>1.672906e+06</td>\n",
              "      <td>1.377812e+05</td>\n",
              "      <td>7.579765e+05</td>\n",
              "      <td>6.474765e+05</td>\n",
              "      <td>1.182157e+05</td>\n",
              "      <td>7455.712144</td>\n",
              "      <td>0.369324</td>\n",
              "    </tr>\n",
              "    <tr>\n",
              "      <th>min</th>\n",
              "      <td>0.490000</td>\n",
              "      <td>3.875074e+04</td>\n",
              "      <td>4.677200e+02</td>\n",
              "      <td>1.783770e+03</td>\n",
              "      <td>0.000000e+00</td>\n",
              "      <td>3.311770e+03</td>\n",
              "      <td>3.311770e+03</td>\n",
              "      <td>0.000000e+00</td>\n",
              "      <td>0.000000</td>\n",
              "      <td>2015.000000</td>\n",
              "    </tr>\n",
              "    <tr>\n",
              "      <th>25%</th>\n",
              "      <td>0.980000</td>\n",
              "      <td>1.474700e+05</td>\n",
              "      <td>2.040034e+04</td>\n",
              "      <td>4.147606e+04</td>\n",
              "      <td>9.112500e+02</td>\n",
              "      <td>3.620689e+04</td>\n",
              "      <td>2.972722e+04</td>\n",
              "      <td>5.407400e+02</td>\n",
              "      <td>0.000000</td>\n",
              "      <td>2015.000000</td>\n",
              "    </tr>\n",
              "    <tr>\n",
              "      <th>50%</th>\n",
              "      <td>1.080000</td>\n",
              "      <td>4.027919e+05</td>\n",
              "      <td>8.175117e+04</td>\n",
              "      <td>1.186649e+05</td>\n",
              "      <td>7.688170e+03</td>\n",
              "      <td>7.397906e+04</td>\n",
              "      <td>6.237569e+04</td>\n",
              "      <td>5.044350e+03</td>\n",
              "      <td>0.000000</td>\n",
              "      <td>2015.000000</td>\n",
              "    </tr>\n",
              "    <tr>\n",
              "      <th>75%</th>\n",
              "      <td>1.190000</td>\n",
              "      <td>9.819751e+05</td>\n",
              "      <td>3.775785e+05</td>\n",
              "      <td>4.851503e+05</td>\n",
              "      <td>2.916730e+04</td>\n",
              "      <td>1.576097e+05</td>\n",
              "      <td>1.461994e+05</td>\n",
              "      <td>2.926767e+04</td>\n",
              "      <td>401.480000</td>\n",
              "      <td>2015.000000</td>\n",
              "    </tr>\n",
              "    <tr>\n",
              "      <th>max</th>\n",
              "      <td>1.680000</td>\n",
              "      <td>4.465546e+07</td>\n",
              "      <td>1.893304e+07</td>\n",
              "      <td>1.895648e+07</td>\n",
              "      <td>1.381516e+06</td>\n",
              "      <td>6.736304e+06</td>\n",
              "      <td>5.893642e+06</td>\n",
              "      <td>1.121076e+06</td>\n",
              "      <td>108072.790000</td>\n",
              "      <td>2016.000000</td>\n",
              "    </tr>\n",
              "  </tbody>\n",
              "</table>\n",
              "</div>"
            ],
            "text/plain": [
              "       AveragePrice  Total Volume  ...    XLarge Bags         year\n",
              "count   1517.000000  1.517000e+03  ...    1517.000000  1517.000000\n",
              "mean       1.074990  1.601879e+06  ...    2181.771074  2015.162821\n",
              "std        0.188891  4.433143e+06  ...    7455.712144     0.369324\n",
              "min        0.490000  3.875074e+04  ...       0.000000  2015.000000\n",
              "25%        0.980000  1.474700e+05  ...       0.000000  2015.000000\n",
              "50%        1.080000  4.027919e+05  ...       0.000000  2015.000000\n",
              "75%        1.190000  9.819751e+05  ...     401.480000  2015.000000\n",
              "max        1.680000  4.465546e+07  ...  108072.790000  2016.000000\n",
              "\n",
              "[8 rows x 10 columns]"
            ]
          },
          "metadata": {
            "tags": []
          },
          "execution_count": 19
        }
      ]
    },
    {
      "cell_type": "code",
      "metadata": {
        "colab": {
          "base_uri": "https://localhost:8080/"
        },
        "id": "yvHRfXY1cQIV",
        "outputId": "473a18e7-262c-4215-fc52-a78263a1af8c"
      },
      "source": [
        "df.info()"
      ],
      "execution_count": 20,
      "outputs": [
        {
          "output_type": "stream",
          "text": [
            "<class 'pandas.core.frame.DataFrame'>\n",
            "RangeIndex: 16468 entries, 0 to 16467\n",
            "Data columns (total 13 columns):\n",
            " #   Column        Non-Null Count  Dtype  \n",
            "---  ------        --------------  -----  \n",
            " 0   Date          1517 non-null   object \n",
            " 1   AveragePrice  1517 non-null   float64\n",
            " 2   Total Volume  1517 non-null   float64\n",
            " 3   4046          1517 non-null   float64\n",
            " 4   4225          1517 non-null   float64\n",
            " 5   4770          1517 non-null   float64\n",
            " 6   Total Bags    1517 non-null   float64\n",
            " 7   Small Bags    1517 non-null   float64\n",
            " 8   Large Bags    1517 non-null   float64\n",
            " 9   XLarge Bags   1517 non-null   float64\n",
            " 10  type          1517 non-null   object \n",
            " 11  year          1517 non-null   float64\n",
            " 12  region        1517 non-null   object \n",
            "dtypes: float64(10), object(3)\n",
            "memory usage: 1.6+ MB\n"
          ],
          "name": "stdout"
        }
      ]
    },
    {
      "cell_type": "code",
      "metadata": {
        "colab": {
          "base_uri": "https://localhost:8080/"
        },
        "id": "7abtnwXQcWy0",
        "outputId": "16545add-edb1-47ba-e9ca-46f517406e87"
      },
      "source": [
        "df.isnull().sum() ##checking null values"
      ],
      "execution_count": 28,
      "outputs": [
        {
          "output_type": "execute_result",
          "data": {
            "text/plain": [
              "Date            14951\n",
              "AveragePrice    14951\n",
              "Total Volume    14951\n",
              "4046            14951\n",
              "4225            14951\n",
              "4770            14951\n",
              "Total Bags      14951\n",
              "Small Bags      14951\n",
              "Large Bags      14951\n",
              "XLarge Bags     14951\n",
              "type            14951\n",
              "year            14951\n",
              "region          14951\n",
              "dtype: int64"
            ]
          },
          "metadata": {
            "tags": []
          },
          "execution_count": 28
        }
      ]
    },
    {
      "cell_type": "code",
      "metadata": {
        "id": "k0HzIMgCcW93",
        "colab": {
          "base_uri": "https://localhost:8080/"
        },
        "outputId": "505e9a85-b26b-4829-fcd8-9481e96c5ab4"
      },
      "source": [
        "df2 = df.dropna()\n",
        "df2.shape"
      ],
      "execution_count": 33,
      "outputs": [
        {
          "output_type": "execute_result",
          "data": {
            "text/plain": [
              "(1517, 14)"
            ]
          },
          "metadata": {
            "tags": []
          },
          "execution_count": 33
        }
      ]
    },
    {
      "cell_type": "code",
      "metadata": {
        "colab": {
          "base_uri": "https://localhost:8080/"
        },
        "id": "QU87SQHM3jih",
        "outputId": "00dd3a19-8fa7-4f68-df01-b212489f3afa"
      },
      "source": [
        "df2.isnull().sum()"
      ],
      "execution_count": 34,
      "outputs": [
        {
          "output_type": "execute_result",
          "data": {
            "text/plain": [
              "Unnamed: 0      0\n",
              "Date            0\n",
              "AveragePrice    0\n",
              "Total Volume    0\n",
              "4046            0\n",
              "4225            0\n",
              "4770            0\n",
              "Total Bags      0\n",
              "Small Bags      0\n",
              "Large Bags      0\n",
              "XLarge Bags     0\n",
              "type            0\n",
              "year            0\n",
              "region          0\n",
              "dtype: int64"
            ]
          },
          "metadata": {
            "tags": []
          },
          "execution_count": 34
        }
      ]
    },
    {
      "cell_type": "code",
      "metadata": {
        "id": "6yxScCif3nbF"
      },
      "source": [
        "## no null values"
      ],
      "execution_count": 35,
      "outputs": []
    },
    {
      "cell_type": "code",
      "metadata": {
        "id": "LJQp-dLmclKA"
      },
      "source": [
        "df2['Date'] = pd.to_datetime(df2['Date'])"
      ],
      "execution_count": 36,
      "outputs": []
    },
    {
      "cell_type": "code",
      "metadata": {
        "id": "XUrqqjtYuxEX"
      },
      "source": [
        "df2['dayofweek'] = df2['Date'].dt.dayofweek  ##monday 0 --- sunday 6"
      ],
      "execution_count": 42,
      "outputs": []
    },
    {
      "cell_type": "code",
      "metadata": {
        "id": "rynsD7g0hIVU"
      },
      "source": [
        "##df2['Date'].dt.weekday_name"
      ],
      "execution_count": 41,
      "outputs": []
    },
    {
      "cell_type": "code",
      "metadata": {
        "id": "SlDLMygX1hTc"
      },
      "source": [
        "## trying to find weekends and weekdays"
      ],
      "execution_count": 43,
      "outputs": []
    },
    {
      "cell_type": "code",
      "metadata": {
        "id": "om5J3iW25J0T"
      },
      "source": [
        "df2['is_weekend'] = 0\n",
        "for i in range(0,len(df2)):\n",
        "   if (df2['dayofweek'][i]==5) | (df2['dayofweek'][i]==6):\n",
        "        df2['is_weekend'][i]=1\n",
        "   else:\n",
        "        df2['is_weekend'][i]=0"
      ],
      "execution_count": 53,
      "outputs": []
    },
    {
      "cell_type": "code",
      "metadata": {
        "colab": {
          "base_uri": "https://localhost:8080/",
          "height": 306
        },
        "id": "sphu7l045Yjr",
        "outputId": "bb84d49c-2d51-4f88-ded6-4d54e25ee0e3"
      },
      "source": [
        "df2.head()"
      ],
      "execution_count": 57,
      "outputs": [
        {
          "output_type": "execute_result",
          "data": {
            "text/html": [
              "<div>\n",
              "<style scoped>\n",
              "    .dataframe tbody tr th:only-of-type {\n",
              "        vertical-align: middle;\n",
              "    }\n",
              "\n",
              "    .dataframe tbody tr th {\n",
              "        vertical-align: top;\n",
              "    }\n",
              "\n",
              "    .dataframe thead th {\n",
              "        text-align: right;\n",
              "    }\n",
              "</style>\n",
              "<table border=\"1\" class=\"dataframe\">\n",
              "  <thead>\n",
              "    <tr style=\"text-align: right;\">\n",
              "      <th></th>\n",
              "      <th>Unnamed: 0</th>\n",
              "      <th>Date</th>\n",
              "      <th>AveragePrice</th>\n",
              "      <th>Total Volume</th>\n",
              "      <th>4046</th>\n",
              "      <th>4225</th>\n",
              "      <th>4770</th>\n",
              "      <th>Total Bags</th>\n",
              "      <th>Small Bags</th>\n",
              "      <th>Large Bags</th>\n",
              "      <th>XLarge Bags</th>\n",
              "      <th>type</th>\n",
              "      <th>year</th>\n",
              "      <th>region</th>\n",
              "      <th>dayofweek</th>\n",
              "      <th>is_weekend</th>\n",
              "    </tr>\n",
              "  </thead>\n",
              "  <tbody>\n",
              "    <tr>\n",
              "      <th>0</th>\n",
              "      <td>0.0</td>\n",
              "      <td>2015-12-27</td>\n",
              "      <td>1.33</td>\n",
              "      <td>64236.62</td>\n",
              "      <td>1036.74</td>\n",
              "      <td>54454.85</td>\n",
              "      <td>48.16</td>\n",
              "      <td>8696.87</td>\n",
              "      <td>8603.62</td>\n",
              "      <td>93.25</td>\n",
              "      <td>0.0</td>\n",
              "      <td>conventional</td>\n",
              "      <td>2015.0</td>\n",
              "      <td>Albany</td>\n",
              "      <td>6</td>\n",
              "      <td>1</td>\n",
              "    </tr>\n",
              "    <tr>\n",
              "      <th>1</th>\n",
              "      <td>1.0</td>\n",
              "      <td>2015-12-20</td>\n",
              "      <td>1.35</td>\n",
              "      <td>54876.98</td>\n",
              "      <td>674.28</td>\n",
              "      <td>44638.81</td>\n",
              "      <td>58.33</td>\n",
              "      <td>9505.56</td>\n",
              "      <td>9408.07</td>\n",
              "      <td>97.49</td>\n",
              "      <td>0.0</td>\n",
              "      <td>conventional</td>\n",
              "      <td>2015.0</td>\n",
              "      <td>Albany</td>\n",
              "      <td>6</td>\n",
              "      <td>1</td>\n",
              "    </tr>\n",
              "    <tr>\n",
              "      <th>2</th>\n",
              "      <td>2.0</td>\n",
              "      <td>2015-12-13</td>\n",
              "      <td>0.93</td>\n",
              "      <td>118220.22</td>\n",
              "      <td>794.70</td>\n",
              "      <td>109149.67</td>\n",
              "      <td>130.50</td>\n",
              "      <td>8145.35</td>\n",
              "      <td>8042.21</td>\n",
              "      <td>103.14</td>\n",
              "      <td>0.0</td>\n",
              "      <td>conventional</td>\n",
              "      <td>2015.0</td>\n",
              "      <td>Albany</td>\n",
              "      <td>6</td>\n",
              "      <td>1</td>\n",
              "    </tr>\n",
              "    <tr>\n",
              "      <th>3</th>\n",
              "      <td>3.0</td>\n",
              "      <td>2015-06-12</td>\n",
              "      <td>1.08</td>\n",
              "      <td>78992.15</td>\n",
              "      <td>1132.00</td>\n",
              "      <td>71976.41</td>\n",
              "      <td>72.58</td>\n",
              "      <td>5811.16</td>\n",
              "      <td>5677.40</td>\n",
              "      <td>133.76</td>\n",
              "      <td>0.0</td>\n",
              "      <td>conventional</td>\n",
              "      <td>2015.0</td>\n",
              "      <td>Albany</td>\n",
              "      <td>4</td>\n",
              "      <td>0</td>\n",
              "    </tr>\n",
              "    <tr>\n",
              "      <th>4</th>\n",
              "      <td>4.0</td>\n",
              "      <td>2015-11-29</td>\n",
              "      <td>1.28</td>\n",
              "      <td>51039.60</td>\n",
              "      <td>941.48</td>\n",
              "      <td>43838.39</td>\n",
              "      <td>75.78</td>\n",
              "      <td>6183.95</td>\n",
              "      <td>5986.26</td>\n",
              "      <td>197.69</td>\n",
              "      <td>0.0</td>\n",
              "      <td>conventional</td>\n",
              "      <td>2015.0</td>\n",
              "      <td>Albany</td>\n",
              "      <td>6</td>\n",
              "      <td>1</td>\n",
              "    </tr>\n",
              "  </tbody>\n",
              "</table>\n",
              "</div>"
            ],
            "text/plain": [
              "   Unnamed: 0       Date  AveragePrice  ...  region  dayofweek  is_weekend\n",
              "0         0.0 2015-12-27          1.33  ...  Albany          6           1\n",
              "1         1.0 2015-12-20          1.35  ...  Albany          6           1\n",
              "2         2.0 2015-12-13          0.93  ...  Albany          6           1\n",
              "3         3.0 2015-06-12          1.08  ...  Albany          4           0\n",
              "4         4.0 2015-11-29          1.28  ...  Albany          6           1\n",
              "\n",
              "[5 rows x 16 columns]"
            ]
          },
          "metadata": {
            "tags": []
          },
          "execution_count": 57
        }
      ]
    },
    {
      "cell_type": "code",
      "metadata": {
        "colab": {
          "base_uri": "https://localhost:8080/"
        },
        "id": "pj_z6-9M5dyj",
        "outputId": "0c4b7730-93a2-4d9f-fcb1-8895d46e0904"
      },
      "source": [
        "df2['is_weekend'].value_counts()"
      ],
      "execution_count": 58,
      "outputs": [
        {
          "output_type": "execute_result",
          "data": {
            "text/plain": [
              "1    1051\n",
              "0     466\n",
              "Name: is_weekend, dtype: int64"
            ]
          },
          "metadata": {
            "tags": []
          },
          "execution_count": 58
        }
      ]
    },
    {
      "cell_type": "code",
      "metadata": {
        "colab": {
          "base_uri": "https://localhost:8080/"
        },
        "id": "SaZqYOEf8Mn9",
        "outputId": "9419126a-892b-435b-aacc-ca4465b874cc"
      },
      "source": [
        "df2['dayofweek'].value_counts()"
      ],
      "execution_count": 59,
      "outputs": [
        {
          "output_type": "execute_result",
          "data": {
            "text/plain": [
              "6    992\n",
              "0    149\n",
              "4    128\n",
              "1    111\n",
              "5     59\n",
              "3     54\n",
              "2     24\n",
              "Name: dayofweek, dtype: int64"
            ]
          },
          "metadata": {
            "tags": []
          },
          "execution_count": 59
        }
      ]
    },
    {
      "cell_type": "code",
      "metadata": {
        "colab": {
          "base_uri": "https://localhost:8080/",
          "height": 297
        },
        "id": "2wUlf4mL9jm6",
        "outputId": "45b47976-e885-499f-8257-1d249fa8709e"
      },
      "source": [
        "df2.groupby('dayofweek').mean()[['AveragePrice']]"
      ],
      "execution_count": 63,
      "outputs": [
        {
          "output_type": "execute_result",
          "data": {
            "text/html": [
              "<div>\n",
              "<style scoped>\n",
              "    .dataframe tbody tr th:only-of-type {\n",
              "        vertical-align: middle;\n",
              "    }\n",
              "\n",
              "    .dataframe tbody tr th {\n",
              "        vertical-align: top;\n",
              "    }\n",
              "\n",
              "    .dataframe thead th {\n",
              "        text-align: right;\n",
              "    }\n",
              "</style>\n",
              "<table border=\"1\" class=\"dataframe\">\n",
              "  <thead>\n",
              "    <tr style=\"text-align: right;\">\n",
              "      <th></th>\n",
              "      <th>AveragePrice</th>\n",
              "    </tr>\n",
              "    <tr>\n",
              "      <th>dayofweek</th>\n",
              "      <th></th>\n",
              "    </tr>\n",
              "  </thead>\n",
              "  <tbody>\n",
              "    <tr>\n",
              "      <th>0</th>\n",
              "      <td>1.081208</td>\n",
              "    </tr>\n",
              "    <tr>\n",
              "      <th>1</th>\n",
              "      <td>1.035586</td>\n",
              "    </tr>\n",
              "    <tr>\n",
              "      <th>2</th>\n",
              "      <td>1.052917</td>\n",
              "    </tr>\n",
              "    <tr>\n",
              "      <th>3</th>\n",
              "      <td>1.014259</td>\n",
              "    </tr>\n",
              "    <tr>\n",
              "      <th>4</th>\n",
              "      <td>1.033047</td>\n",
              "    </tr>\n",
              "    <tr>\n",
              "      <th>5</th>\n",
              "      <td>1.120678</td>\n",
              "    </tr>\n",
              "    <tr>\n",
              "      <th>6</th>\n",
              "      <td>1.085000</td>\n",
              "    </tr>\n",
              "  </tbody>\n",
              "</table>\n",
              "</div>"
            ],
            "text/plain": [
              "           AveragePrice\n",
              "dayofweek              \n",
              "0              1.081208\n",
              "1              1.035586\n",
              "2              1.052917\n",
              "3              1.014259\n",
              "4              1.033047\n",
              "5              1.120678\n",
              "6              1.085000"
            ]
          },
          "metadata": {
            "tags": []
          },
          "execution_count": 63
        }
      ]
    },
    {
      "cell_type": "code",
      "metadata": {
        "colab": {
          "base_uri": "https://localhost:8080/",
          "height": 317
        },
        "id": "jLL_Ftxs93Pb",
        "outputId": "c1552661-bc33-4add-da0f-b384a3c0b729"
      },
      "source": [
        "pd.crosstab(df2['dayofweek'],df2['region'])"
      ],
      "execution_count": 65,
      "outputs": [
        {
          "output_type": "execute_result",
          "data": {
            "text/html": [
              "<div>\n",
              "<style scoped>\n",
              "    .dataframe tbody tr th:only-of-type {\n",
              "        vertical-align: middle;\n",
              "    }\n",
              "\n",
              "    .dataframe tbody tr th {\n",
              "        vertical-align: top;\n",
              "    }\n",
              "\n",
              "    .dataframe thead th {\n",
              "        text-align: right;\n",
              "    }\n",
              "</style>\n",
              "<table border=\"1\" class=\"dataframe\">\n",
              "  <thead>\n",
              "    <tr style=\"text-align: right;\">\n",
              "      <th>region</th>\n",
              "      <th>Albany</th>\n",
              "      <th>Atlanta</th>\n",
              "      <th>BaltimoreWashington</th>\n",
              "      <th>Boise</th>\n",
              "      <th>Boston</th>\n",
              "      <th>BuffaloRochester</th>\n",
              "      <th>California</th>\n",
              "      <th>Charlotte</th>\n",
              "      <th>Chicago</th>\n",
              "      <th>Columbus</th>\n",
              "      <th>DallasFtWorth</th>\n",
              "      <th>Denver</th>\n",
              "      <th>Detroit</th>\n",
              "      <th>GrandRapids</th>\n",
              "      <th>GreatLakes</th>\n",
              "      <th>HarrisburgScranton</th>\n",
              "      <th>HartfordSpringfield</th>\n",
              "      <th>Houston</th>\n",
              "      <th>Indianapolis</th>\n",
              "      <th>Jacksonville</th>\n",
              "      <th>LasVegas</th>\n",
              "      <th>LosAngeles</th>\n",
              "      <th>Louisville</th>\n",
              "      <th>MiamiFtLauderdale</th>\n",
              "      <th>Midsouth</th>\n",
              "      <th>Nashville</th>\n",
              "      <th>NewYork</th>\n",
              "      <th>Northeast</th>\n",
              "      <th>NorthernNewEngland</th>\n",
              "      <th>Orlando</th>\n",
              "      <th>Philadelphia</th>\n",
              "      <th>PhoenixTucson</th>\n",
              "      <th>Pittsburgh</th>\n",
              "      <th>Plains</th>\n",
              "      <th>Portland</th>\n",
              "      <th>RaleighGreensboro</th>\n",
              "      <th>RichmondNorfolk</th>\n",
              "      <th>Roanoke</th>\n",
              "      <th>SanDiego</th>\n",
              "      <th>SanFrancisco</th>\n",
              "      <th>Seattle</th>\n",
              "      <th>SouthCarolina</th>\n",
              "      <th>SouthCentral</th>\n",
              "      <th>Southeast</th>\n",
              "      <th>Spokane</th>\n",
              "      <th>StLouis</th>\n",
              "      <th>Syracuse</th>\n",
              "      <th>Tampa</th>\n",
              "      <th>TotalUS</th>\n",
              "      <th>West</th>\n",
              "      <th>WestTexNewMexico</th>\n",
              "    </tr>\n",
              "    <tr>\n",
              "      <th>dayofweek</th>\n",
              "      <th></th>\n",
              "      <th></th>\n",
              "      <th></th>\n",
              "      <th></th>\n",
              "      <th></th>\n",
              "      <th></th>\n",
              "      <th></th>\n",
              "      <th></th>\n",
              "      <th></th>\n",
              "      <th></th>\n",
              "      <th></th>\n",
              "      <th></th>\n",
              "      <th></th>\n",
              "      <th></th>\n",
              "      <th></th>\n",
              "      <th></th>\n",
              "      <th></th>\n",
              "      <th></th>\n",
              "      <th></th>\n",
              "      <th></th>\n",
              "      <th></th>\n",
              "      <th></th>\n",
              "      <th></th>\n",
              "      <th></th>\n",
              "      <th></th>\n",
              "      <th></th>\n",
              "      <th></th>\n",
              "      <th></th>\n",
              "      <th></th>\n",
              "      <th></th>\n",
              "      <th></th>\n",
              "      <th></th>\n",
              "      <th></th>\n",
              "      <th></th>\n",
              "      <th></th>\n",
              "      <th></th>\n",
              "      <th></th>\n",
              "      <th></th>\n",
              "      <th></th>\n",
              "      <th></th>\n",
              "      <th></th>\n",
              "      <th></th>\n",
              "      <th></th>\n",
              "      <th></th>\n",
              "      <th></th>\n",
              "      <th></th>\n",
              "      <th></th>\n",
              "      <th></th>\n",
              "      <th></th>\n",
              "      <th></th>\n",
              "      <th></th>\n",
              "    </tr>\n",
              "  </thead>\n",
              "  <tbody>\n",
              "    <tr>\n",
              "      <th>0</th>\n",
              "      <td>5</td>\n",
              "      <td>4</td>\n",
              "      <td>4</td>\n",
              "      <td>5</td>\n",
              "      <td>3</td>\n",
              "      <td>1</td>\n",
              "      <td>5</td>\n",
              "      <td>4</td>\n",
              "      <td>4</td>\n",
              "      <td>5</td>\n",
              "      <td>3</td>\n",
              "      <td>4</td>\n",
              "      <td>4</td>\n",
              "      <td>5</td>\n",
              "      <td>4</td>\n",
              "      <td>3</td>\n",
              "      <td>0</td>\n",
              "      <td>5</td>\n",
              "      <td>2</td>\n",
              "      <td>4</td>\n",
              "      <td>1</td>\n",
              "      <td>0</td>\n",
              "      <td>3</td>\n",
              "      <td>2</td>\n",
              "      <td>0</td>\n",
              "      <td>4</td>\n",
              "      <td>5</td>\n",
              "      <td>1</td>\n",
              "      <td>1</td>\n",
              "      <td>4</td>\n",
              "      <td>1</td>\n",
              "      <td>5</td>\n",
              "      <td>0</td>\n",
              "      <td>1</td>\n",
              "      <td>2</td>\n",
              "      <td>2</td>\n",
              "      <td>0</td>\n",
              "      <td>4</td>\n",
              "      <td>4</td>\n",
              "      <td>2</td>\n",
              "      <td>0</td>\n",
              "      <td>4</td>\n",
              "      <td>4</td>\n",
              "      <td>0</td>\n",
              "      <td>5</td>\n",
              "      <td>3</td>\n",
              "      <td>3</td>\n",
              "      <td>3</td>\n",
              "      <td>4</td>\n",
              "      <td>3</td>\n",
              "      <td>4</td>\n",
              "    </tr>\n",
              "    <tr>\n",
              "      <th>1</th>\n",
              "      <td>5</td>\n",
              "      <td>6</td>\n",
              "      <td>8</td>\n",
              "      <td>5</td>\n",
              "      <td>5</td>\n",
              "      <td>6</td>\n",
              "      <td>7</td>\n",
              "      <td>1</td>\n",
              "      <td>1</td>\n",
              "      <td>4</td>\n",
              "      <td>0</td>\n",
              "      <td>0</td>\n",
              "      <td>4</td>\n",
              "      <td>0</td>\n",
              "      <td>0</td>\n",
              "      <td>0</td>\n",
              "      <td>2</td>\n",
              "      <td>1</td>\n",
              "      <td>0</td>\n",
              "      <td>4</td>\n",
              "      <td>0</td>\n",
              "      <td>0</td>\n",
              "      <td>4</td>\n",
              "      <td>0</td>\n",
              "      <td>3</td>\n",
              "      <td>0</td>\n",
              "      <td>4</td>\n",
              "      <td>0</td>\n",
              "      <td>4</td>\n",
              "      <td>0</td>\n",
              "      <td>0</td>\n",
              "      <td>4</td>\n",
              "      <td>4</td>\n",
              "      <td>0</td>\n",
              "      <td>4</td>\n",
              "      <td>0</td>\n",
              "      <td>4</td>\n",
              "      <td>0</td>\n",
              "      <td>4</td>\n",
              "      <td>0</td>\n",
              "      <td>1</td>\n",
              "      <td>0</td>\n",
              "      <td>4</td>\n",
              "      <td>0</td>\n",
              "      <td>4</td>\n",
              "      <td>0</td>\n",
              "      <td>0</td>\n",
              "      <td>4</td>\n",
              "      <td>0</td>\n",
              "      <td>4</td>\n",
              "      <td>0</td>\n",
              "    </tr>\n",
              "    <tr>\n",
              "      <th>2</th>\n",
              "      <td>2</td>\n",
              "      <td>0</td>\n",
              "      <td>0</td>\n",
              "      <td>2</td>\n",
              "      <td>1</td>\n",
              "      <td>0</td>\n",
              "      <td>2</td>\n",
              "      <td>1</td>\n",
              "      <td>0</td>\n",
              "      <td>0</td>\n",
              "      <td>0</td>\n",
              "      <td>1</td>\n",
              "      <td>0</td>\n",
              "      <td>0</td>\n",
              "      <td>0</td>\n",
              "      <td>1</td>\n",
              "      <td>0</td>\n",
              "      <td>0</td>\n",
              "      <td>1</td>\n",
              "      <td>0</td>\n",
              "      <td>0</td>\n",
              "      <td>1</td>\n",
              "      <td>0</td>\n",
              "      <td>1</td>\n",
              "      <td>0</td>\n",
              "      <td>0</td>\n",
              "      <td>0</td>\n",
              "      <td>1</td>\n",
              "      <td>0</td>\n",
              "      <td>0</td>\n",
              "      <td>1</td>\n",
              "      <td>1</td>\n",
              "      <td>0</td>\n",
              "      <td>1</td>\n",
              "      <td>0</td>\n",
              "      <td>1</td>\n",
              "      <td>0</td>\n",
              "      <td>0</td>\n",
              "      <td>0</td>\n",
              "      <td>1</td>\n",
              "      <td>0</td>\n",
              "      <td>1</td>\n",
              "      <td>0</td>\n",
              "      <td>1</td>\n",
              "      <td>0</td>\n",
              "      <td>0</td>\n",
              "      <td>1</td>\n",
              "      <td>0</td>\n",
              "      <td>1</td>\n",
              "      <td>0</td>\n",
              "      <td>1</td>\n",
              "    </tr>\n",
              "    <tr>\n",
              "      <th>3</th>\n",
              "      <td>2</td>\n",
              "      <td>2</td>\n",
              "      <td>2</td>\n",
              "      <td>2</td>\n",
              "      <td>1</td>\n",
              "      <td>0</td>\n",
              "      <td>2</td>\n",
              "      <td>1</td>\n",
              "      <td>2</td>\n",
              "      <td>2</td>\n",
              "      <td>1</td>\n",
              "      <td>1</td>\n",
              "      <td>2</td>\n",
              "      <td>2</td>\n",
              "      <td>1</td>\n",
              "      <td>1</td>\n",
              "      <td>0</td>\n",
              "      <td>2</td>\n",
              "      <td>0</td>\n",
              "      <td>2</td>\n",
              "      <td>0</td>\n",
              "      <td>0</td>\n",
              "      <td>1</td>\n",
              "      <td>0</td>\n",
              "      <td>0</td>\n",
              "      <td>2</td>\n",
              "      <td>2</td>\n",
              "      <td>0</td>\n",
              "      <td>1</td>\n",
              "      <td>1</td>\n",
              "      <td>0</td>\n",
              "      <td>2</td>\n",
              "      <td>0</td>\n",
              "      <td>0</td>\n",
              "      <td>1</td>\n",
              "      <td>0</td>\n",
              "      <td>0</td>\n",
              "      <td>1</td>\n",
              "      <td>2</td>\n",
              "      <td>0</td>\n",
              "      <td>0</td>\n",
              "      <td>1</td>\n",
              "      <td>2</td>\n",
              "      <td>0</td>\n",
              "      <td>2</td>\n",
              "      <td>1</td>\n",
              "      <td>1</td>\n",
              "      <td>1</td>\n",
              "      <td>1</td>\n",
              "      <td>2</td>\n",
              "      <td>2</td>\n",
              "    </tr>\n",
              "    <tr>\n",
              "      <th>4</th>\n",
              "      <td>4</td>\n",
              "      <td>6</td>\n",
              "      <td>7</td>\n",
              "      <td>4</td>\n",
              "      <td>8</td>\n",
              "      <td>7</td>\n",
              "      <td>7</td>\n",
              "      <td>1</td>\n",
              "      <td>1</td>\n",
              "      <td>3</td>\n",
              "      <td>2</td>\n",
              "      <td>2</td>\n",
              "      <td>3</td>\n",
              "      <td>1</td>\n",
              "      <td>1</td>\n",
              "      <td>2</td>\n",
              "      <td>2</td>\n",
              "      <td>2</td>\n",
              "      <td>2</td>\n",
              "      <td>3</td>\n",
              "      <td>1</td>\n",
              "      <td>0</td>\n",
              "      <td>2</td>\n",
              "      <td>2</td>\n",
              "      <td>2</td>\n",
              "      <td>2</td>\n",
              "      <td>3</td>\n",
              "      <td>1</td>\n",
              "      <td>2</td>\n",
              "      <td>2</td>\n",
              "      <td>1</td>\n",
              "      <td>4</td>\n",
              "      <td>2</td>\n",
              "      <td>1</td>\n",
              "      <td>2</td>\n",
              "      <td>2</td>\n",
              "      <td>2</td>\n",
              "      <td>1</td>\n",
              "      <td>3</td>\n",
              "      <td>2</td>\n",
              "      <td>1</td>\n",
              "      <td>2</td>\n",
              "      <td>3</td>\n",
              "      <td>1</td>\n",
              "      <td>4</td>\n",
              "      <td>2</td>\n",
              "      <td>2</td>\n",
              "      <td>2</td>\n",
              "      <td>2</td>\n",
              "      <td>2</td>\n",
              "      <td>2</td>\n",
              "    </tr>\n",
              "    <tr>\n",
              "      <th>5</th>\n",
              "      <td>4</td>\n",
              "      <td>1</td>\n",
              "      <td>2</td>\n",
              "      <td>6</td>\n",
              "      <td>6</td>\n",
              "      <td>3</td>\n",
              "      <td>6</td>\n",
              "      <td>4</td>\n",
              "      <td>0</td>\n",
              "      <td>1</td>\n",
              "      <td>1</td>\n",
              "      <td>1</td>\n",
              "      <td>0</td>\n",
              "      <td>1</td>\n",
              "      <td>1</td>\n",
              "      <td>1</td>\n",
              "      <td>0</td>\n",
              "      <td>1</td>\n",
              "      <td>1</td>\n",
              "      <td>0</td>\n",
              "      <td>1</td>\n",
              "      <td>0</td>\n",
              "      <td>0</td>\n",
              "      <td>1</td>\n",
              "      <td>0</td>\n",
              "      <td>1</td>\n",
              "      <td>1</td>\n",
              "      <td>1</td>\n",
              "      <td>0</td>\n",
              "      <td>1</td>\n",
              "      <td>1</td>\n",
              "      <td>1</td>\n",
              "      <td>0</td>\n",
              "      <td>1</td>\n",
              "      <td>0</td>\n",
              "      <td>1</td>\n",
              "      <td>0</td>\n",
              "      <td>1</td>\n",
              "      <td>0</td>\n",
              "      <td>1</td>\n",
              "      <td>0</td>\n",
              "      <td>1</td>\n",
              "      <td>0</td>\n",
              "      <td>1</td>\n",
              "      <td>1</td>\n",
              "      <td>1</td>\n",
              "      <td>1</td>\n",
              "      <td>0</td>\n",
              "      <td>1</td>\n",
              "      <td>0</td>\n",
              "      <td>1</td>\n",
              "    </tr>\n",
              "    <tr>\n",
              "      <th>6</th>\n",
              "      <td>45</td>\n",
              "      <td>35</td>\n",
              "      <td>42</td>\n",
              "      <td>41</td>\n",
              "      <td>38</td>\n",
              "      <td>34</td>\n",
              "      <td>47</td>\n",
              "      <td>19</td>\n",
              "      <td>15</td>\n",
              "      <td>32</td>\n",
              "      <td>10</td>\n",
              "      <td>15</td>\n",
              "      <td>27</td>\n",
              "      <td>14</td>\n",
              "      <td>11</td>\n",
              "      <td>11</td>\n",
              "      <td>9</td>\n",
              "      <td>18</td>\n",
              "      <td>10</td>\n",
              "      <td>28</td>\n",
              "      <td>7</td>\n",
              "      <td>2</td>\n",
              "      <td>24</td>\n",
              "      <td>11</td>\n",
              "      <td>13</td>\n",
              "      <td>16</td>\n",
              "      <td>29</td>\n",
              "      <td>8</td>\n",
              "      <td>21</td>\n",
              "      <td>13</td>\n",
              "      <td>9</td>\n",
              "      <td>35</td>\n",
              "      <td>16</td>\n",
              "      <td>8</td>\n",
              "      <td>21</td>\n",
              "      <td>10</td>\n",
              "      <td>15</td>\n",
              "      <td>10</td>\n",
              "      <td>25</td>\n",
              "      <td>9</td>\n",
              "      <td>7</td>\n",
              "      <td>15</td>\n",
              "      <td>26</td>\n",
              "      <td>6</td>\n",
              "      <td>33</td>\n",
              "      <td>9</td>\n",
              "      <td>11</td>\n",
              "      <td>24</td>\n",
              "      <td>16</td>\n",
              "      <td>25</td>\n",
              "      <td>17</td>\n",
              "    </tr>\n",
              "  </tbody>\n",
              "</table>\n",
              "</div>"
            ],
            "text/plain": [
              "region     Albany  Atlanta  ...  West  WestTexNewMexico\n",
              "dayofweek                   ...                        \n",
              "0               5        4  ...     3                 4\n",
              "1               5        6  ...     4                 0\n",
              "2               2        0  ...     0                 1\n",
              "3               2        2  ...     2                 2\n",
              "4               4        6  ...     2                 2\n",
              "5               4        1  ...     0                 1\n",
              "6              45       35  ...    25                17\n",
              "\n",
              "[7 rows x 51 columns]"
            ]
          },
          "metadata": {
            "tags": []
          },
          "execution_count": 65
        }
      ]
    },
    {
      "cell_type": "code",
      "metadata": {
        "id": "HL6IYRN9-NYu"
      },
      "source": [
        "## more sales on sundays can be seen in all the regions"
      ],
      "execution_count": 67,
      "outputs": []
    },
    {
      "cell_type": "code",
      "metadata": {
        "colab": {
          "base_uri": "https://localhost:8080/",
          "height": 297
        },
        "id": "Ho4WD6Ry-abm",
        "outputId": "4553a66c-85a7-4068-cb30-abe4982a5038"
      },
      "source": [
        "df2.groupby('dayofweek').mean()[['Total Bags']]"
      ],
      "execution_count": 68,
      "outputs": [
        {
          "output_type": "execute_result",
          "data": {
            "text/html": [
              "<div>\n",
              "<style scoped>\n",
              "    .dataframe tbody tr th:only-of-type {\n",
              "        vertical-align: middle;\n",
              "    }\n",
              "\n",
              "    .dataframe tbody tr th {\n",
              "        vertical-align: top;\n",
              "    }\n",
              "\n",
              "    .dataframe thead th {\n",
              "        text-align: right;\n",
              "    }\n",
              "</style>\n",
              "<table border=\"1\" class=\"dataframe\">\n",
              "  <thead>\n",
              "    <tr style=\"text-align: right;\">\n",
              "      <th></th>\n",
              "      <th>Total Bags</th>\n",
              "    </tr>\n",
              "    <tr>\n",
              "      <th>dayofweek</th>\n",
              "      <th></th>\n",
              "    </tr>\n",
              "  </thead>\n",
              "  <tbody>\n",
              "    <tr>\n",
              "      <th>0</th>\n",
              "      <td>316409.810671</td>\n",
              "    </tr>\n",
              "    <tr>\n",
              "      <th>1</th>\n",
              "      <td>243842.005586</td>\n",
              "    </tr>\n",
              "    <tr>\n",
              "      <th>2</th>\n",
              "      <td>440893.894583</td>\n",
              "    </tr>\n",
              "    <tr>\n",
              "      <th>3</th>\n",
              "      <td>282185.857593</td>\n",
              "    </tr>\n",
              "    <tr>\n",
              "      <th>4</th>\n",
              "      <td>317899.742812</td>\n",
              "    </tr>\n",
              "    <tr>\n",
              "      <th>5</th>\n",
              "      <td>371215.203729</td>\n",
              "    </tr>\n",
              "    <tr>\n",
              "      <th>6</th>\n",
              "      <td>285043.751391</td>\n",
              "    </tr>\n",
              "  </tbody>\n",
              "</table>\n",
              "</div>"
            ],
            "text/plain": [
              "              Total Bags\n",
              "dayofweek               \n",
              "0          316409.810671\n",
              "1          243842.005586\n",
              "2          440893.894583\n",
              "3          282185.857593\n",
              "4          317899.742812\n",
              "5          371215.203729\n",
              "6          285043.751391"
            ]
          },
          "metadata": {
            "tags": []
          },
          "execution_count": 68
        }
      ]
    },
    {
      "cell_type": "code",
      "metadata": {
        "id": "2PyURDtq-uJi"
      },
      "source": [
        "## max bag sales is on wed"
      ],
      "execution_count": null,
      "outputs": []
    },
    {
      "cell_type": "code",
      "metadata": {
        "colab": {
          "base_uri": "https://localhost:8080/",
          "height": 297
        },
        "id": "qwJCC814-uXH",
        "outputId": "38793d8c-7261-43a7-d970-8ebf62400897"
      },
      "source": [
        "df2.groupby('dayofweek').mean()[['AveragePrice']]"
      ],
      "execution_count": 70,
      "outputs": [
        {
          "output_type": "execute_result",
          "data": {
            "text/html": [
              "<div>\n",
              "<style scoped>\n",
              "    .dataframe tbody tr th:only-of-type {\n",
              "        vertical-align: middle;\n",
              "    }\n",
              "\n",
              "    .dataframe tbody tr th {\n",
              "        vertical-align: top;\n",
              "    }\n",
              "\n",
              "    .dataframe thead th {\n",
              "        text-align: right;\n",
              "    }\n",
              "</style>\n",
              "<table border=\"1\" class=\"dataframe\">\n",
              "  <thead>\n",
              "    <tr style=\"text-align: right;\">\n",
              "      <th></th>\n",
              "      <th>AveragePrice</th>\n",
              "    </tr>\n",
              "    <tr>\n",
              "      <th>dayofweek</th>\n",
              "      <th></th>\n",
              "    </tr>\n",
              "  </thead>\n",
              "  <tbody>\n",
              "    <tr>\n",
              "      <th>0</th>\n",
              "      <td>1.081208</td>\n",
              "    </tr>\n",
              "    <tr>\n",
              "      <th>1</th>\n",
              "      <td>1.035586</td>\n",
              "    </tr>\n",
              "    <tr>\n",
              "      <th>2</th>\n",
              "      <td>1.052917</td>\n",
              "    </tr>\n",
              "    <tr>\n",
              "      <th>3</th>\n",
              "      <td>1.014259</td>\n",
              "    </tr>\n",
              "    <tr>\n",
              "      <th>4</th>\n",
              "      <td>1.033047</td>\n",
              "    </tr>\n",
              "    <tr>\n",
              "      <th>5</th>\n",
              "      <td>1.120678</td>\n",
              "    </tr>\n",
              "    <tr>\n",
              "      <th>6</th>\n",
              "      <td>1.085000</td>\n",
              "    </tr>\n",
              "  </tbody>\n",
              "</table>\n",
              "</div>"
            ],
            "text/plain": [
              "           AveragePrice\n",
              "dayofweek              \n",
              "0              1.081208\n",
              "1              1.035586\n",
              "2              1.052917\n",
              "3              1.014259\n",
              "4              1.033047\n",
              "5              1.120678\n",
              "6              1.085000"
            ]
          },
          "metadata": {
            "tags": []
          },
          "execution_count": 70
        }
      ]
    },
    {
      "cell_type": "code",
      "metadata": {
        "id": "Jld7EQCH_XKe"
      },
      "source": [
        "#definitely price will approx same on all days"
      ],
      "execution_count": 71,
      "outputs": []
    },
    {
      "cell_type": "code",
      "metadata": {
        "colab": {
          "base_uri": "https://localhost:8080/",
          "height": 142
        },
        "id": "Gegy3I3W_hPX",
        "outputId": "523deb80-8a27-47af-e714-5a1f01a94f96"
      },
      "source": [
        "df2.groupby('is_weekend').mean()[['AveragePrice']]"
      ],
      "execution_count": 73,
      "outputs": [
        {
          "output_type": "execute_result",
          "data": {
            "text/html": [
              "<div>\n",
              "<style scoped>\n",
              "    .dataframe tbody tr th:only-of-type {\n",
              "        vertical-align: middle;\n",
              "    }\n",
              "\n",
              "    .dataframe tbody tr th {\n",
              "        vertical-align: top;\n",
              "    }\n",
              "\n",
              "    .dataframe thead th {\n",
              "        text-align: right;\n",
              "    }\n",
              "</style>\n",
              "<table border=\"1\" class=\"dataframe\">\n",
              "  <thead>\n",
              "    <tr style=\"text-align: right;\">\n",
              "      <th></th>\n",
              "      <th>AveragePrice</th>\n",
              "    </tr>\n",
              "    <tr>\n",
              "      <th>is_weekend</th>\n",
              "      <th></th>\n",
              "    </tr>\n",
              "  </thead>\n",
              "  <tbody>\n",
              "    <tr>\n",
              "      <th>0</th>\n",
              "      <td>1.047897</td>\n",
              "    </tr>\n",
              "    <tr>\n",
              "      <th>1</th>\n",
              "      <td>1.087003</td>\n",
              "    </tr>\n",
              "  </tbody>\n",
              "</table>\n",
              "</div>"
            ],
            "text/plain": [
              "            AveragePrice\n",
              "is_weekend              \n",
              "0               1.047897\n",
              "1               1.087003"
            ]
          },
          "metadata": {
            "tags": []
          },
          "execution_count": 73
        }
      ]
    },
    {
      "cell_type": "code",
      "metadata": {
        "id": "AuN_FmWw_in-"
      },
      "source": [
        "# same conclusions"
      ],
      "execution_count": 74,
      "outputs": []
    },
    {
      "cell_type": "code",
      "metadata": {
        "id": "e2dwRWaQ_iyG"
      },
      "source": [
        "## univariate and bivriate analysis"
      ],
      "execution_count": 95,
      "outputs": []
    },
    {
      "cell_type": "code",
      "metadata": {
        "colab": {
          "base_uri": "https://localhost:8080/",
          "height": 306
        },
        "id": "b1n2qxmuAWiR",
        "outputId": "ba593934-9cdd-4d6e-b2e1-59e00141cb03"
      },
      "source": [
        "df2.head()"
      ],
      "execution_count": 76,
      "outputs": [
        {
          "output_type": "execute_result",
          "data": {
            "text/html": [
              "<div>\n",
              "<style scoped>\n",
              "    .dataframe tbody tr th:only-of-type {\n",
              "        vertical-align: middle;\n",
              "    }\n",
              "\n",
              "    .dataframe tbody tr th {\n",
              "        vertical-align: top;\n",
              "    }\n",
              "\n",
              "    .dataframe thead th {\n",
              "        text-align: right;\n",
              "    }\n",
              "</style>\n",
              "<table border=\"1\" class=\"dataframe\">\n",
              "  <thead>\n",
              "    <tr style=\"text-align: right;\">\n",
              "      <th></th>\n",
              "      <th>Unnamed: 0</th>\n",
              "      <th>Date</th>\n",
              "      <th>AveragePrice</th>\n",
              "      <th>Total Volume</th>\n",
              "      <th>4046</th>\n",
              "      <th>4225</th>\n",
              "      <th>4770</th>\n",
              "      <th>Total Bags</th>\n",
              "      <th>Small Bags</th>\n",
              "      <th>Large Bags</th>\n",
              "      <th>XLarge Bags</th>\n",
              "      <th>type</th>\n",
              "      <th>year</th>\n",
              "      <th>region</th>\n",
              "      <th>dayofweek</th>\n",
              "      <th>is_weekend</th>\n",
              "    </tr>\n",
              "  </thead>\n",
              "  <tbody>\n",
              "    <tr>\n",
              "      <th>0</th>\n",
              "      <td>0.0</td>\n",
              "      <td>2015-12-27</td>\n",
              "      <td>1.33</td>\n",
              "      <td>64236.62</td>\n",
              "      <td>1036.74</td>\n",
              "      <td>54454.85</td>\n",
              "      <td>48.16</td>\n",
              "      <td>8696.87</td>\n",
              "      <td>8603.62</td>\n",
              "      <td>93.25</td>\n",
              "      <td>0.0</td>\n",
              "      <td>conventional</td>\n",
              "      <td>2015.0</td>\n",
              "      <td>Albany</td>\n",
              "      <td>6</td>\n",
              "      <td>1</td>\n",
              "    </tr>\n",
              "    <tr>\n",
              "      <th>1</th>\n",
              "      <td>1.0</td>\n",
              "      <td>2015-12-20</td>\n",
              "      <td>1.35</td>\n",
              "      <td>54876.98</td>\n",
              "      <td>674.28</td>\n",
              "      <td>44638.81</td>\n",
              "      <td>58.33</td>\n",
              "      <td>9505.56</td>\n",
              "      <td>9408.07</td>\n",
              "      <td>97.49</td>\n",
              "      <td>0.0</td>\n",
              "      <td>conventional</td>\n",
              "      <td>2015.0</td>\n",
              "      <td>Albany</td>\n",
              "      <td>6</td>\n",
              "      <td>1</td>\n",
              "    </tr>\n",
              "    <tr>\n",
              "      <th>2</th>\n",
              "      <td>2.0</td>\n",
              "      <td>2015-12-13</td>\n",
              "      <td>0.93</td>\n",
              "      <td>118220.22</td>\n",
              "      <td>794.70</td>\n",
              "      <td>109149.67</td>\n",
              "      <td>130.50</td>\n",
              "      <td>8145.35</td>\n",
              "      <td>8042.21</td>\n",
              "      <td>103.14</td>\n",
              "      <td>0.0</td>\n",
              "      <td>conventional</td>\n",
              "      <td>2015.0</td>\n",
              "      <td>Albany</td>\n",
              "      <td>6</td>\n",
              "      <td>1</td>\n",
              "    </tr>\n",
              "    <tr>\n",
              "      <th>3</th>\n",
              "      <td>3.0</td>\n",
              "      <td>2015-06-12</td>\n",
              "      <td>1.08</td>\n",
              "      <td>78992.15</td>\n",
              "      <td>1132.00</td>\n",
              "      <td>71976.41</td>\n",
              "      <td>72.58</td>\n",
              "      <td>5811.16</td>\n",
              "      <td>5677.40</td>\n",
              "      <td>133.76</td>\n",
              "      <td>0.0</td>\n",
              "      <td>conventional</td>\n",
              "      <td>2015.0</td>\n",
              "      <td>Albany</td>\n",
              "      <td>4</td>\n",
              "      <td>0</td>\n",
              "    </tr>\n",
              "    <tr>\n",
              "      <th>4</th>\n",
              "      <td>4.0</td>\n",
              "      <td>2015-11-29</td>\n",
              "      <td>1.28</td>\n",
              "      <td>51039.60</td>\n",
              "      <td>941.48</td>\n",
              "      <td>43838.39</td>\n",
              "      <td>75.78</td>\n",
              "      <td>6183.95</td>\n",
              "      <td>5986.26</td>\n",
              "      <td>197.69</td>\n",
              "      <td>0.0</td>\n",
              "      <td>conventional</td>\n",
              "      <td>2015.0</td>\n",
              "      <td>Albany</td>\n",
              "      <td>6</td>\n",
              "      <td>1</td>\n",
              "    </tr>\n",
              "  </tbody>\n",
              "</table>\n",
              "</div>"
            ],
            "text/plain": [
              "   Unnamed: 0       Date  AveragePrice  ...  region  dayofweek  is_weekend\n",
              "0         0.0 2015-12-27          1.33  ...  Albany          6           1\n",
              "1         1.0 2015-12-20          1.35  ...  Albany          6           1\n",
              "2         2.0 2015-12-13          0.93  ...  Albany          6           1\n",
              "3         3.0 2015-06-12          1.08  ...  Albany          4           0\n",
              "4         4.0 2015-11-29          1.28  ...  Albany          6           1\n",
              "\n",
              "[5 rows x 16 columns]"
            ]
          },
          "metadata": {
            "tags": []
          },
          "execution_count": 76
        }
      ]
    },
    {
      "cell_type": "code",
      "metadata": {
        "colab": {
          "base_uri": "https://localhost:8080/"
        },
        "id": "CfIhtB9-AYLC",
        "outputId": "b05fe6b0-a03a-4689-a913-dc3aca5075bf"
      },
      "source": [
        "df2['type'].value_counts()"
      ],
      "execution_count": 77,
      "outputs": [
        {
          "output_type": "execute_result",
          "data": {
            "text/plain": [
              "conventional    1517\n",
              "Name: type, dtype: int64"
            ]
          },
          "metadata": {
            "tags": []
          },
          "execution_count": 77
        }
      ]
    },
    {
      "cell_type": "code",
      "metadata": {
        "id": "PIpeNbzhAr0x"
      },
      "source": [
        "df2.drop('type',axis=1,inplace=True)"
      ],
      "execution_count": 78,
      "outputs": []
    },
    {
      "cell_type": "code",
      "metadata": {
        "colab": {
          "base_uri": "https://localhost:8080/"
        },
        "id": "wd3QA0-SAyR-",
        "outputId": "0d6a9b88-58bd-4812-a22b-927f106e9d7c"
      },
      "source": [
        "df2['year'].value_counts()"
      ],
      "execution_count": 79,
      "outputs": [
        {
          "output_type": "execute_result",
          "data": {
            "text/plain": [
              "2015.0    1270\n",
              "2016.0     247\n",
              "Name: year, dtype: int64"
            ]
          },
          "metadata": {
            "tags": []
          },
          "execution_count": 79
        }
      ]
    },
    {
      "cell_type": "code",
      "metadata": {
        "colab": {
          "base_uri": "https://localhost:8080/",
          "height": 296
        },
        "id": "NtNWhINyA4kJ",
        "outputId": "07a5fb25-7793-47a7-a9ea-b27a4bcad573"
      },
      "source": [
        "sns.countplot(df2['year'])"
      ],
      "execution_count": 80,
      "outputs": [
        {
          "output_type": "execute_result",
          "data": {
            "text/plain": [
              "<matplotlib.axes._subplots.AxesSubplot at 0x7f84d9fabf90>"
            ]
          },
          "metadata": {
            "tags": []
          },
          "execution_count": 80
        },
        {
          "output_type": "display_data",
          "data": {
            "image/png": "[encoded data removed]",
            "text/plain": [
              "<Figure size 432x288 with 1 Axes>"
            ]
          },
          "metadata": {
            "tags": [],
            "needs_background": "light"
          }
        }
      ]
    },
    {
      "cell_type": "code",
      "metadata": {
        "colab": {
          "base_uri": "https://localhost:8080/",
          "height": 142
        },
        "id": "G0RWUXoUBKcG",
        "outputId": "9cf86a08-a281-47e3-c1b6-abc8d8b178f6"
      },
      "source": [
        "pd.crosstab(df2['year'],df2['AveragePrice'].mean())"
      ],
      "execution_count": 82,
      "outputs": [
        {
          "output_type": "execute_result",
          "data": {
            "text/html": [
              "<div>\n",
              "<style scoped>\n",
              "    .dataframe tbody tr th:only-of-type {\n",
              "        vertical-align: middle;\n",
              "    }\n",
              "\n",
              "    .dataframe tbody tr th {\n",
              "        vertical-align: top;\n",
              "    }\n",
              "\n",
              "    .dataframe thead th {\n",
              "        text-align: right;\n",
              "    }\n",
              "</style>\n",
              "<table border=\"1\" class=\"dataframe\">\n",
              "  <thead>\n",
              "    <tr style=\"text-align: right;\">\n",
              "      <th>col_0</th>\n",
              "      <th>1.07499</th>\n",
              "    </tr>\n",
              "    <tr>\n",
              "      <th>year</th>\n",
              "      <th></th>\n",
              "    </tr>\n",
              "  </thead>\n",
              "  <tbody>\n",
              "    <tr>\n",
              "      <th>2015.0</th>\n",
              "      <td>1270</td>\n",
              "    </tr>\n",
              "    <tr>\n",
              "      <th>2016.0</th>\n",
              "      <td>247</td>\n",
              "    </tr>\n",
              "  </tbody>\n",
              "</table>\n",
              "</div>"
            ],
            "text/plain": [
              "col_0   1.07499\n",
              "year           \n",
              "2015.0     1270\n",
              "2016.0      247"
            ]
          },
          "metadata": {
            "tags": []
          },
          "execution_count": 82
        }
      ]
    },
    {
      "cell_type": "code",
      "metadata": {
        "colab": {
          "base_uri": "https://localhost:8080/",
          "height": 296
        },
        "id": "brbuimvKCevV",
        "outputId": "74d8488a-eb0b-4d07-86c9-a452126b2f31"
      },
      "source": [
        "sns.scatterplot(df2['year'],df2['AveragePrice'])"
      ],
      "execution_count": 83,
      "outputs": [
        {
          "output_type": "execute_result",
          "data": {
            "text/plain": [
              "<matplotlib.axes._subplots.AxesSubplot at 0x7f84d97d2b90>"
            ]
          },
          "metadata": {
            "tags": []
          },
          "execution_count": 83
        },
        {
          "output_type": "display_data",
          "data": {
            "image/png": "[encoded data removed]",
            "text/plain": [
              "<Figure size 432x288 with 1 Axes>"
            ]
          },
          "metadata": {
            "tags": [],
            "needs_background": "light"
          }
        }
      ]
    },
    {
      "cell_type": "code",
      "metadata": {
        "id": "UWZP6inbDIRo"
      },
      "source": [
        "## year is not showing any significance and also it vil affect the linear model...hence we can drop that"
      ],
      "execution_count": 84,
      "outputs": []
    },
    {
      "cell_type": "code",
      "metadata": {
        "colab": {
          "base_uri": "https://localhost:8080/",
          "height": 306
        },
        "id": "_i9ooK3VDZ8g",
        "outputId": "9cbde8c1-3422-4739-baae-52e105961e70"
      },
      "source": [
        "df2.drop('year',axis=1,inplace=True)"
      ],
      "execution_count": 93,
      "outputs": [
        {
          "output_type": "error",
          "ename": "KeyError",
          "evalue": "ignored",
          "traceback": [
            "\u001b[0;31m---------------------------------------------------------------------------\u001b[0m",
            "\u001b[0;31mKeyError\u001b[0m                                  Traceback (most recent call last)",
            "\u001b[0;32m<ipython-input-93-088bcefb5669>\u001b[0m in \u001b[0;36m<module>\u001b[0;34m()\u001b[0m\n\u001b[0;32m----> 1\u001b[0;31m \u001b[0mdf2\u001b[0m\u001b[0;34m.\u001b[0m\u001b[0mdrop\u001b[0m\u001b[0;34m(\u001b[0m\u001b[0;34m'year'\u001b[0m\u001b[0;34m,\u001b[0m\u001b[0maxis\u001b[0m\u001b[0;34m=\u001b[0m\u001b[0;36m1\u001b[0m\u001b[0;34m,\u001b[0m\u001b[0minplace\u001b[0m\u001b[0;34m=\u001b[0m\u001b[0;32mTrue\u001b[0m\u001b[0;34m)\u001b[0m\u001b[0;34m\u001b[0m\u001b[0;34m\u001b[0m\u001b[0m\n\u001b[0m",
            "\u001b[0;32m/usr/local/lib/python3.7/dist-packages/pandas/core/frame.py\u001b[0m in \u001b[0;36mdrop\u001b[0;34m(self, labels, axis, index, columns, level, inplace, errors)\u001b[0m\n\u001b[1;32m   4172\u001b[0m             \u001b[0mlevel\u001b[0m\u001b[0;34m=\u001b[0m\u001b[0mlevel\u001b[0m\u001b[0;34m,\u001b[0m\u001b[0;34m\u001b[0m\u001b[0;34m\u001b[0m\u001b[0m\n\u001b[1;32m   4173\u001b[0m             \u001b[0minplace\u001b[0m\u001b[0;34m=\u001b[0m\u001b[0minplace\u001b[0m\u001b[0;34m,\u001b[0m\u001b[0;34m\u001b[0m\u001b[0;34m\u001b[0m\u001b[0m\n\u001b[0;32m-> 4174\u001b[0;31m             \u001b[0merrors\u001b[0m\u001b[0;34m=\u001b[0m\u001b[0merrors\u001b[0m\u001b[0;34m,\u001b[0m\u001b[0;34m\u001b[0m\u001b[0;34m\u001b[0m\u001b[0m\n\u001b[0m\u001b[1;32m   4175\u001b[0m         )\n\u001b[1;32m   4176\u001b[0m \u001b[0;34m\u001b[0m\u001b[0m\n",
            "\u001b[0;32m/usr/local/lib/python3.7/dist-packages/pandas/core/generic.py\u001b[0m in \u001b[0;36mdrop\u001b[0;34m(self, labels, axis, index, columns, level, inplace, errors)\u001b[0m\n\u001b[1;32m   3887\u001b[0m         \u001b[0;32mfor\u001b[0m \u001b[0maxis\u001b[0m\u001b[0;34m,\u001b[0m \u001b[0mlabels\u001b[0m \u001b[0;32min\u001b[0m \u001b[0maxes\u001b[0m\u001b[0;34m.\u001b[0m\u001b[0mitems\u001b[0m\u001b[0;34m(\u001b[0m\u001b[0;34m)\u001b[0m\u001b[0;34m:\u001b[0m\u001b[0;34m\u001b[0m\u001b[0;34m\u001b[0m\u001b[0m\n\u001b[1;32m   3888\u001b[0m             \u001b[0;32mif\u001b[0m \u001b[0mlabels\u001b[0m \u001b[0;32mis\u001b[0m \u001b[0;32mnot\u001b[0m \u001b[0;32mNone\u001b[0m\u001b[0;34m:\u001b[0m\u001b[0;34m\u001b[0m\u001b[0;34m\u001b[0m\u001b[0m\n\u001b[0;32m-> 3889\u001b[0;31m                 \u001b[0mobj\u001b[0m \u001b[0;34m=\u001b[0m \u001b[0mobj\u001b[0m\u001b[0;34m.\u001b[0m\u001b[0m_drop_axis\u001b[0m\u001b[0;34m(\u001b[0m\u001b[0mlabels\u001b[0m\u001b[0;34m,\u001b[0m \u001b[0maxis\u001b[0m\u001b[0;34m,\u001b[0m \u001b[0mlevel\u001b[0m\u001b[0;34m=\u001b[0m\u001b[0mlevel\u001b[0m\u001b[0;34m,\u001b[0m \u001b[0merrors\u001b[0m\u001b[0;34m=\u001b[0m\u001b[0merrors\u001b[0m\u001b[0;34m)\u001b[0m\u001b[0;34m\u001b[0m\u001b[0;34m\u001b[0m\u001b[0m\n\u001b[0m\u001b[1;32m   3890\u001b[0m \u001b[0;34m\u001b[0m\u001b[0m\n\u001b[1;32m   3891\u001b[0m         \u001b[0;32mif\u001b[0m \u001b[0minplace\u001b[0m\u001b[0;34m:\u001b[0m\u001b[0;34m\u001b[0m\u001b[0;34m\u001b[0m\u001b[0m\n",
            "\u001b[0;32m/usr/local/lib/python3.7/dist-packages/pandas/core/generic.py\u001b[0m in \u001b[0;36m_drop_axis\u001b[0;34m(self, labels, axis, level, errors)\u001b[0m\n\u001b[1;32m   3921\u001b[0m                 \u001b[0mnew_axis\u001b[0m \u001b[0;34m=\u001b[0m \u001b[0maxis\u001b[0m\u001b[0;34m.\u001b[0m\u001b[0mdrop\u001b[0m\u001b[0;34m(\u001b[0m\u001b[0mlabels\u001b[0m\u001b[0;34m,\u001b[0m \u001b[0mlevel\u001b[0m\u001b[0;34m=\u001b[0m\u001b[0mlevel\u001b[0m\u001b[0;34m,\u001b[0m \u001b[0merrors\u001b[0m\u001b[0;34m=\u001b[0m\u001b[0merrors\u001b[0m\u001b[0;34m)\u001b[0m\u001b[0;34m\u001b[0m\u001b[0;34m\u001b[0m\u001b[0m\n\u001b[1;32m   3922\u001b[0m             \u001b[0;32melse\u001b[0m\u001b[0;34m:\u001b[0m\u001b[0;34m\u001b[0m\u001b[0;34m\u001b[0m\u001b[0m\n\u001b[0;32m-> 3923\u001b[0;31m                 \u001b[0mnew_axis\u001b[0m \u001b[0;34m=\u001b[0m \u001b[0maxis\u001b[0m\u001b[0;34m.\u001b[0m\u001b[0mdrop\u001b[0m\u001b[0;34m(\u001b[0m\u001b[0mlabels\u001b[0m\u001b[0;34m,\u001b[0m \u001b[0merrors\u001b[0m\u001b[0;34m=\u001b[0m\u001b[0merrors\u001b[0m\u001b[0;34m)\u001b[0m\u001b[0;34m\u001b[0m\u001b[0;34m\u001b[0m\u001b[0m\n\u001b[0m\u001b[1;32m   3924\u001b[0m             \u001b[0mresult\u001b[0m \u001b[0;34m=\u001b[0m \u001b[0mself\u001b[0m\u001b[0;34m.\u001b[0m\u001b[0mreindex\u001b[0m\u001b[0;34m(\u001b[0m\u001b[0;34m**\u001b[0m\u001b[0;34m{\u001b[0m\u001b[0maxis_name\u001b[0m\u001b[0;34m:\u001b[0m \u001b[0mnew_axis\u001b[0m\u001b[0;34m}\u001b[0m\u001b[0;34m)\u001b[0m\u001b[0;34m\u001b[0m\u001b[0;34m\u001b[0m\u001b[0m\n\u001b[1;32m   3925\u001b[0m \u001b[0;34m\u001b[0m\u001b[0m\n",
            "\u001b[0;32m/usr/local/lib/python3.7/dist-packages/pandas/core/indexes/base.py\u001b[0m in \u001b[0;36mdrop\u001b[0;34m(self, labels, errors)\u001b[0m\n\u001b[1;32m   5285\u001b[0m         \u001b[0;32mif\u001b[0m \u001b[0mmask\u001b[0m\u001b[0;34m.\u001b[0m\u001b[0many\u001b[0m\u001b[0;34m(\u001b[0m\u001b[0;34m)\u001b[0m\u001b[0;34m:\u001b[0m\u001b[0;34m\u001b[0m\u001b[0;34m\u001b[0m\u001b[0m\n\u001b[1;32m   5286\u001b[0m             \u001b[0;32mif\u001b[0m \u001b[0merrors\u001b[0m \u001b[0;34m!=\u001b[0m \u001b[0;34m\"ignore\"\u001b[0m\u001b[0;34m:\u001b[0m\u001b[0;34m\u001b[0m\u001b[0;34m\u001b[0m\u001b[0m\n\u001b[0;32m-> 5287\u001b[0;31m                 \u001b[0;32mraise\u001b[0m \u001b[0mKeyError\u001b[0m\u001b[0;34m(\u001b[0m\u001b[0;34mf\"{labels[mask]} not found in axis\"\u001b[0m\u001b[0;34m)\u001b[0m\u001b[0;34m\u001b[0m\u001b[0;34m\u001b[0m\u001b[0m\n\u001b[0m\u001b[1;32m   5288\u001b[0m             \u001b[0mindexer\u001b[0m \u001b[0;34m=\u001b[0m \u001b[0mindexer\u001b[0m\u001b[0;34m[\u001b[0m\u001b[0;34m~\u001b[0m\u001b[0mmask\u001b[0m\u001b[0;34m]\u001b[0m\u001b[0;34m\u001b[0m\u001b[0;34m\u001b[0m\u001b[0m\n\u001b[1;32m   5289\u001b[0m         \u001b[0;32mreturn\u001b[0m \u001b[0mself\u001b[0m\u001b[0;34m.\u001b[0m\u001b[0mdelete\u001b[0m\u001b[0;34m(\u001b[0m\u001b[0mindexer\u001b[0m\u001b[0;34m)\u001b[0m\u001b[0;34m\u001b[0m\u001b[0;34m\u001b[0m\u001b[0m\n",
            "\u001b[0;31mKeyError\u001b[0m: \"['year'] not found in axis\""
          ]
        }
      ]
    },
    {
      "cell_type": "code",
      "metadata": {
        "id": "PZP44f1cDtxs"
      },
      "source": [
        "df2.drop(['Unnamed: 0','Date'],axis=1,inplace=True)"
      ],
      "execution_count": 90,
      "outputs": []
    },
    {
      "cell_type": "code",
      "metadata": {
        "colab": {
          "base_uri": "https://localhost:8080/",
          "height": 204
        },
        "id": "aQOMT3TMDfFo",
        "outputId": "c4e892d6-4af1-4b2e-9897-3691b42230c7"
      },
      "source": [
        "df2.head()"
      ],
      "execution_count": 92,
      "outputs": [
        {
          "output_type": "execute_result",
          "data": {
            "text/html": [
              "<div>\n",
              "<style scoped>\n",
              "    .dataframe tbody tr th:only-of-type {\n",
              "        vertical-align: middle;\n",
              "    }\n",
              "\n",
              "    .dataframe tbody tr th {\n",
              "        vertical-align: top;\n",
              "    }\n",
              "\n",
              "    .dataframe thead th {\n",
              "        text-align: right;\n",
              "    }\n",
              "</style>\n",
              "<table border=\"1\" class=\"dataframe\">\n",
              "  <thead>\n",
              "    <tr style=\"text-align: right;\">\n",
              "      <th></th>\n",
              "      <th>AveragePrice</th>\n",
              "      <th>Total Volume</th>\n",
              "      <th>4046</th>\n",
              "      <th>4225</th>\n",
              "      <th>4770</th>\n",
              "      <th>Total Bags</th>\n",
              "      <th>Small Bags</th>\n",
              "      <th>Large Bags</th>\n",
              "      <th>XLarge Bags</th>\n",
              "      <th>region</th>\n",
              "      <th>dayofweek</th>\n",
              "      <th>is_weekend</th>\n",
              "    </tr>\n",
              "  </thead>\n",
              "  <tbody>\n",
              "    <tr>\n",
              "      <th>0</th>\n",
              "      <td>1.33</td>\n",
              "      <td>64236.62</td>\n",
              "      <td>1036.74</td>\n",
              "      <td>54454.85</td>\n",
              "      <td>48.16</td>\n",
              "      <td>8696.87</td>\n",
              "      <td>8603.62</td>\n",
              "      <td>93.25</td>\n",
              "      <td>0.0</td>\n",
              "      <td>Albany</td>\n",
              "      <td>6</td>\n",
              "      <td>1</td>\n",
              "    </tr>\n",
              "    <tr>\n",
              "      <th>1</th>\n",
              "      <td>1.35</td>\n",
              "      <td>54876.98</td>\n",
              "      <td>674.28</td>\n",
              "      <td>44638.81</td>\n",
              "      <td>58.33</td>\n",
              "      <td>9505.56</td>\n",
              "      <td>9408.07</td>\n",
              "      <td>97.49</td>\n",
              "      <td>0.0</td>\n",
              "      <td>Albany</td>\n",
              "      <td>6</td>\n",
              "      <td>1</td>\n",
              "    </tr>\n",
              "    <tr>\n",
              "      <th>2</th>\n",
              "      <td>0.93</td>\n",
              "      <td>118220.22</td>\n",
              "      <td>794.70</td>\n",
              "      <td>109149.67</td>\n",
              "      <td>130.50</td>\n",
              "      <td>8145.35</td>\n",
              "      <td>8042.21</td>\n",
              "      <td>103.14</td>\n",
              "      <td>0.0</td>\n",
              "      <td>Albany</td>\n",
              "      <td>6</td>\n",
              "      <td>1</td>\n",
              "    </tr>\n",
              "    <tr>\n",
              "      <th>3</th>\n",
              "      <td>1.08</td>\n",
              "      <td>78992.15</td>\n",
              "      <td>1132.00</td>\n",
              "      <td>71976.41</td>\n",
              "      <td>72.58</td>\n",
              "      <td>5811.16</td>\n",
              "      <td>5677.40</td>\n",
              "      <td>133.76</td>\n",
              "      <td>0.0</td>\n",
              "      <td>Albany</td>\n",
              "      <td>4</td>\n",
              "      <td>0</td>\n",
              "    </tr>\n",
              "    <tr>\n",
              "      <th>4</th>\n",
              "      <td>1.28</td>\n",
              "      <td>51039.60</td>\n",
              "      <td>941.48</td>\n",
              "      <td>43838.39</td>\n",
              "      <td>75.78</td>\n",
              "      <td>6183.95</td>\n",
              "      <td>5986.26</td>\n",
              "      <td>197.69</td>\n",
              "      <td>0.0</td>\n",
              "      <td>Albany</td>\n",
              "      <td>6</td>\n",
              "      <td>1</td>\n",
              "    </tr>\n",
              "  </tbody>\n",
              "</table>\n",
              "</div>"
            ],
            "text/plain": [
              "   AveragePrice  Total Volume     4046  ...  region  dayofweek  is_weekend\n",
              "0          1.33      64236.62  1036.74  ...  Albany          6           1\n",
              "1          1.35      54876.98   674.28  ...  Albany          6           1\n",
              "2          0.93     118220.22   794.70  ...  Albany          6           1\n",
              "3          1.08      78992.15  1132.00  ...  Albany          4           0\n",
              "4          1.28      51039.60   941.48  ...  Albany          6           1\n",
              "\n",
              "[5 rows x 12 columns]"
            ]
          },
          "metadata": {
            "tags": []
          },
          "execution_count": 92
        }
      ]
    },
    {
      "cell_type": "code",
      "metadata": {
        "colab": {
          "base_uri": "https://localhost:8080/",
          "height": 296
        },
        "id": "l2Rr9rccDhKs",
        "outputId": "a2461211-c445-4776-b39a-bad53f281a39"
      },
      "source": [
        "sns.scatterplot(df2['Total Volume'],df2['AveragePrice'])"
      ],
      "execution_count": 94,
      "outputs": [
        {
          "output_type": "execute_result",
          "data": {
            "text/plain": [
              "<matplotlib.axes._subplots.AxesSubplot at 0x7f84d900cb90>"
            ]
          },
          "metadata": {
            "tags": []
          },
          "execution_count": 94
        },
        {
          "output_type": "display_data",
          "data": {
            "image/png": "[encoded data removed]",
            "text/plain": [
              "<Figure size 432x288 with 1 Axes>"
            ]
          },
          "metadata": {
            "tags": [],
            "needs_background": "light"
          }
        }
      ]
    },
    {
      "cell_type": "code",
      "metadata": {
        "colab": {
          "base_uri": "https://localhost:8080/",
          "height": 296
        },
        "id": "HQ466C7SES_L",
        "outputId": "6d52010d-38c3-4798-8080-5d296b73542c"
      },
      "source": [
        "sns.scatterplot(df2['4046'],df2['AveragePrice'])"
      ],
      "execution_count": 97,
      "outputs": [
        {
          "output_type": "execute_result",
          "data": {
            "text/plain": [
              "<matplotlib.axes._subplots.AxesSubplot at 0x7f84d900c7d0>"
            ]
          },
          "metadata": {
            "tags": []
          },
          "execution_count": 97
        },
        {
          "output_type": "display_data",
          "data": {
            "image/png": "[encoded data removed]",
            "text/plain": [
              "<Figure size 432x288 with 1 Axes>"
            ]
          },
          "metadata": {
            "tags": [],
            "needs_background": "light"
          }
        }
      ]
    },
    {
      "cell_type": "code",
      "metadata": {
        "colab": {
          "base_uri": "https://localhost:8080/",
          "height": 296
        },
        "id": "0uTOSUaPEwp_",
        "outputId": "210909bc-f981-4e92-e822-44e1b7758c61"
      },
      "source": [
        "sns.scatterplot(df2['4225'],df2['AveragePrice'])"
      ],
      "execution_count": 98,
      "outputs": [
        {
          "output_type": "execute_result",
          "data": {
            "text/plain": [
              "<matplotlib.axes._subplots.AxesSubplot at 0x7f84d90238d0>"
            ]
          },
          "metadata": {
            "tags": []
          },
          "execution_count": 98
        },
        {
          "output_type": "display_data",
          "data": {
            "image/png": "[encoded data removed]",
            "text/plain": [
              "<Figure size 432x288 with 1 Axes>"
            ]
          },
          "metadata": {
            "tags": [],
            "needs_background": "light"
          }
        }
      ]
    },
    {
      "cell_type": "code",
      "metadata": {
        "colab": {
          "base_uri": "https://localhost:8080/",
          "height": 296
        },
        "id": "rxn5ENcHFAea",
        "outputId": "0a689704-876d-4061-cc1c-f228ecfd79cd"
      },
      "source": [
        "sns.scatterplot(df2['4770'],df2['AveragePrice'])"
      ],
      "execution_count": 99,
      "outputs": [
        {
          "output_type": "execute_result",
          "data": {
            "text/plain": [
              "<matplotlib.axes._subplots.AxesSubplot at 0x7f84d8ef80d0>"
            ]
          },
          "metadata": {
            "tags": []
          },
          "execution_count": 99
        },
        {
          "output_type": "display_data",
          "data": {
            "image/png": "[encoded data removed]",
            "text/plain": [
              "<Figure size 432x288 with 1 Axes>"
            ]
          },
          "metadata": {
            "tags": [],
            "needs_background": "light"
          }
        }
      ]
    },
    {
      "cell_type": "code",
      "metadata": {
        "id": "Q4vD4AwqFHhZ"
      },
      "source": [
        "df2.drop(['4046','4225','4770'],axis=1,inplace=True)"
      ],
      "execution_count": 100,
      "outputs": []
    },
    {
      "cell_type": "code",
      "metadata": {
        "colab": {
          "base_uri": "https://localhost:8080/",
          "height": 296
        },
        "id": "gTRPYhXhFZht",
        "outputId": "370f0df1-d721-49dc-bfe0-4f9c2db01892"
      },
      "source": [
        "sns.scatterplot(df2['Total Bags'],df2['AveragePrice'])"
      ],
      "execution_count": 101,
      "outputs": [
        {
          "output_type": "execute_result",
          "data": {
            "text/plain": [
              "<matplotlib.axes._subplots.AxesSubplot at 0x7f84db31ebd0>"
            ]
          },
          "metadata": {
            "tags": []
          },
          "execution_count": 101
        },
        {
          "output_type": "display_data",
          "data": {
            "image/png": "[encoded data removed]",
            "text/plain": [
              "<Figure size 432x288 with 1 Axes>"
            ]
          },
          "metadata": {
            "tags": [],
            "needs_background": "light"
          }
        }
      ]
    },
    {
      "cell_type": "code",
      "metadata": {
        "colab": {
          "base_uri": "https://localhost:8080/",
          "height": 814
        },
        "id": "HnyVRBljFp4q",
        "outputId": "ca34b491-0498-4f16-944f-69d261f28cab"
      },
      "source": [
        "plt.figure(figsize=(20,12))\n",
        "df2['region'].value_counts().plot.bar()"
      ],
      "execution_count": 106,
      "outputs": [
        {
          "output_type": "execute_result",
          "data": {
            "text/plain": [
              "<matplotlib.axes._subplots.AxesSubplot at 0x7f84d8ca4850>"
            ]
          },
          "metadata": {
            "tags": []
          },
          "execution_count": 106
        },
        {
          "output_type": "display_data",
          "data": {
            "image/png": "[encoded data removed]",
            "text/plain": [
              "<Figure size 1440x864 with 1 Axes>"
            ]
          },
          "metadata": {
            "tags": [],
            "needs_background": "light"
          }
        }
      ]
    },
    {
      "cell_type": "code",
      "metadata": {
        "id": "9Yonaz9SGXFk"
      },
      "source": [
        "#most number of sales are from california albany and baltimore"
      ],
      "execution_count": 107,
      "outputs": []
    },
    {
      "cell_type": "code",
      "metadata": {
        "colab": {
          "base_uri": "https://localhost:8080/",
          "height": 204
        },
        "id": "1GLLr4UKGwf1",
        "outputId": "33667f31-8090-4210-81c5-8349a2b19826"
      },
      "source": [
        "df2.head()"
      ],
      "execution_count": 108,
      "outputs": [
        {
          "output_type": "execute_result",
          "data": {
            "text/html": [
              "<div>\n",
              "<style scoped>\n",
              "    .dataframe tbody tr th:only-of-type {\n",
              "        vertical-align: middle;\n",
              "    }\n",
              "\n",
              "    .dataframe tbody tr th {\n",
              "        vertical-align: top;\n",
              "    }\n",
              "\n",
              "    .dataframe thead th {\n",
              "        text-align: right;\n",
              "    }\n",
              "</style>\n",
              "<table border=\"1\" class=\"dataframe\">\n",
              "  <thead>\n",
              "    <tr style=\"text-align: right;\">\n",
              "      <th></th>\n",
              "      <th>AveragePrice</th>\n",
              "      <th>Total Volume</th>\n",
              "      <th>Total Bags</th>\n",
              "      <th>Small Bags</th>\n",
              "      <th>Large Bags</th>\n",
              "      <th>XLarge Bags</th>\n",
              "      <th>region</th>\n",
              "      <th>dayofweek</th>\n",
              "      <th>is_weekend</th>\n",
              "    </tr>\n",
              "  </thead>\n",
              "  <tbody>\n",
              "    <tr>\n",
              "      <th>0</th>\n",
              "      <td>1.33</td>\n",
              "      <td>64236.62</td>\n",
              "      <td>8696.87</td>\n",
              "      <td>8603.62</td>\n",
              "      <td>93.25</td>\n",
              "      <td>0.0</td>\n",
              "      <td>Albany</td>\n",
              "      <td>6</td>\n",
              "      <td>1</td>\n",
              "    </tr>\n",
              "    <tr>\n",
              "      <th>1</th>\n",
              "      <td>1.35</td>\n",
              "      <td>54876.98</td>\n",
              "      <td>9505.56</td>\n",
              "      <td>9408.07</td>\n",
              "      <td>97.49</td>\n",
              "      <td>0.0</td>\n",
              "      <td>Albany</td>\n",
              "      <td>6</td>\n",
              "      <td>1</td>\n",
              "    </tr>\n",
              "    <tr>\n",
              "      <th>2</th>\n",
              "      <td>0.93</td>\n",
              "      <td>118220.22</td>\n",
              "      <td>8145.35</td>\n",
              "      <td>8042.21</td>\n",
              "      <td>103.14</td>\n",
              "      <td>0.0</td>\n",
              "      <td>Albany</td>\n",
              "      <td>6</td>\n",
              "      <td>1</td>\n",
              "    </tr>\n",
              "    <tr>\n",
              "      <th>3</th>\n",
              "      <td>1.08</td>\n",
              "      <td>78992.15</td>\n",
              "      <td>5811.16</td>\n",
              "      <td>5677.40</td>\n",
              "      <td>133.76</td>\n",
              "      <td>0.0</td>\n",
              "      <td>Albany</td>\n",
              "      <td>4</td>\n",
              "      <td>0</td>\n",
              "    </tr>\n",
              "    <tr>\n",
              "      <th>4</th>\n",
              "      <td>1.28</td>\n",
              "      <td>51039.60</td>\n",
              "      <td>6183.95</td>\n",
              "      <td>5986.26</td>\n",
              "      <td>197.69</td>\n",
              "      <td>0.0</td>\n",
              "      <td>Albany</td>\n",
              "      <td>6</td>\n",
              "      <td>1</td>\n",
              "    </tr>\n",
              "  </tbody>\n",
              "</table>\n",
              "</div>"
            ],
            "text/plain": [
              "   AveragePrice  Total Volume  Total Bags  ...  region  dayofweek  is_weekend\n",
              "0          1.33      64236.62     8696.87  ...  Albany          6           1\n",
              "1          1.35      54876.98     9505.56  ...  Albany          6           1\n",
              "2          0.93     118220.22     8145.35  ...  Albany          6           1\n",
              "3          1.08      78992.15     5811.16  ...  Albany          4           0\n",
              "4          1.28      51039.60     6183.95  ...  Albany          6           1\n",
              "\n",
              "[5 rows x 9 columns]"
            ]
          },
          "metadata": {
            "tags": []
          },
          "execution_count": 108
        }
      ]
    },
    {
      "cell_type": "code",
      "metadata": {
        "id": "VB40Cn_lG7HU"
      },
      "source": [
        "from sklearn.preprocessing import LabelEncoder\n",
        "le = LabelEncoder()\n",
        "df2['region'] = pd.DataFrame(le.fit_transform(df2['region']))\n"
      ],
      "execution_count": 109,
      "outputs": []
    },
    {
      "cell_type": "code",
      "metadata": {
        "colab": {
          "base_uri": "https://localhost:8080/",
          "height": 204
        },
        "id": "sm5Gs5RkHXvc",
        "outputId": "b6ec597a-a154-4914-ad68-ced008155b0e"
      },
      "source": [
        "df2.head()"
      ],
      "execution_count": 110,
      "outputs": [
        {
          "output_type": "execute_result",
          "data": {
            "text/html": [
              "<div>\n",
              "<style scoped>\n",
              "    .dataframe tbody tr th:only-of-type {\n",
              "        vertical-align: middle;\n",
              "    }\n",
              "\n",
              "    .dataframe tbody tr th {\n",
              "        vertical-align: top;\n",
              "    }\n",
              "\n",
              "    .dataframe thead th {\n",
              "        text-align: right;\n",
              "    }\n",
              "</style>\n",
              "<table border=\"1\" class=\"dataframe\">\n",
              "  <thead>\n",
              "    <tr style=\"text-align: right;\">\n",
              "      <th></th>\n",
              "      <th>AveragePrice</th>\n",
              "      <th>Total Volume</th>\n",
              "      <th>Total Bags</th>\n",
              "      <th>Small Bags</th>\n",
              "      <th>Large Bags</th>\n",
              "      <th>XLarge Bags</th>\n",
              "      <th>region</th>\n",
              "      <th>dayofweek</th>\n",
              "      <th>is_weekend</th>\n",
              "    </tr>\n",
              "  </thead>\n",
              "  <tbody>\n",
              "    <tr>\n",
              "      <th>0</th>\n",
              "      <td>1.33</td>\n",
              "      <td>64236.62</td>\n",
              "      <td>8696.87</td>\n",
              "      <td>8603.62</td>\n",
              "      <td>93.25</td>\n",
              "      <td>0.0</td>\n",
              "      <td>0</td>\n",
              "      <td>6</td>\n",
              "      <td>1</td>\n",
              "    </tr>\n",
              "    <tr>\n",
              "      <th>1</th>\n",
              "      <td>1.35</td>\n",
              "      <td>54876.98</td>\n",
              "      <td>9505.56</td>\n",
              "      <td>9408.07</td>\n",
              "      <td>97.49</td>\n",
              "      <td>0.0</td>\n",
              "      <td>0</td>\n",
              "      <td>6</td>\n",
              "      <td>1</td>\n",
              "    </tr>\n",
              "    <tr>\n",
              "      <th>2</th>\n",
              "      <td>0.93</td>\n",
              "      <td>118220.22</td>\n",
              "      <td>8145.35</td>\n",
              "      <td>8042.21</td>\n",
              "      <td>103.14</td>\n",
              "      <td>0.0</td>\n",
              "      <td>0</td>\n",
              "      <td>6</td>\n",
              "      <td>1</td>\n",
              "    </tr>\n",
              "    <tr>\n",
              "      <th>3</th>\n",
              "      <td>1.08</td>\n",
              "      <td>78992.15</td>\n",
              "      <td>5811.16</td>\n",
              "      <td>5677.40</td>\n",
              "      <td>133.76</td>\n",
              "      <td>0.0</td>\n",
              "      <td>0</td>\n",
              "      <td>4</td>\n",
              "      <td>0</td>\n",
              "    </tr>\n",
              "    <tr>\n",
              "      <th>4</th>\n",
              "      <td>1.28</td>\n",
              "      <td>51039.60</td>\n",
              "      <td>6183.95</td>\n",
              "      <td>5986.26</td>\n",
              "      <td>197.69</td>\n",
              "      <td>0.0</td>\n",
              "      <td>0</td>\n",
              "      <td>6</td>\n",
              "      <td>1</td>\n",
              "    </tr>\n",
              "  </tbody>\n",
              "</table>\n",
              "</div>"
            ],
            "text/plain": [
              "   AveragePrice  Total Volume  Total Bags  ...  region  dayofweek  is_weekend\n",
              "0          1.33      64236.62     8696.87  ...       0          6           1\n",
              "1          1.35      54876.98     9505.56  ...       0          6           1\n",
              "2          0.93     118220.22     8145.35  ...       0          6           1\n",
              "3          1.08      78992.15     5811.16  ...       0          4           0\n",
              "4          1.28      51039.60     6183.95  ...       0          6           1\n",
              "\n",
              "[5 rows x 9 columns]"
            ]
          },
          "metadata": {
            "tags": []
          },
          "execution_count": 110
        }
      ]
    },
    {
      "cell_type": "code",
      "metadata": {
        "id": "mIwnDCZrHaE-"
      },
      "source": [
        "## scaling the data since independent features are larger than dependent features ."
      ],
      "execution_count": 113,
      "outputs": []
    },
    {
      "cell_type": "code",
      "metadata": {
        "id": "kjAEmCp1J1eT"
      },
      "source": [
        "from sklearn.preprocessing import MinMaxScaler\n",
        "mms = MinMaxScaler()\n",
        "df_scaled = pd.DataFrame(mms.fit_transform(df2),columns=df2.columns)"
      ],
      "execution_count": 114,
      "outputs": []
    },
    {
      "cell_type": "code",
      "metadata": {
        "colab": {
          "base_uri": "https://localhost:8080/",
          "height": 204
        },
        "id": "QRXKfMLwJ7QI",
        "outputId": "f21720de-280d-48a9-9e35-231abe40d07b"
      },
      "source": [
        "df_scaled.head()"
      ],
      "execution_count": 116,
      "outputs": [
        {
          "output_type": "execute_result",
          "data": {
            "text/html": [
              "<div>\n",
              "<style scoped>\n",
              "    .dataframe tbody tr th:only-of-type {\n",
              "        vertical-align: middle;\n",
              "    }\n",
              "\n",
              "    .dataframe tbody tr th {\n",
              "        vertical-align: top;\n",
              "    }\n",
              "\n",
              "    .dataframe thead th {\n",
              "        text-align: right;\n",
              "    }\n",
              "</style>\n",
              "<table border=\"1\" class=\"dataframe\">\n",
              "  <thead>\n",
              "    <tr style=\"text-align: right;\">\n",
              "      <th></th>\n",
              "      <th>AveragePrice</th>\n",
              "      <th>Total Volume</th>\n",
              "      <th>Total Bags</th>\n",
              "      <th>Small Bags</th>\n",
              "      <th>Large Bags</th>\n",
              "      <th>XLarge Bags</th>\n",
              "      <th>region</th>\n",
              "      <th>dayofweek</th>\n",
              "      <th>is_weekend</th>\n",
              "    </tr>\n",
              "  </thead>\n",
              "  <tbody>\n",
              "    <tr>\n",
              "      <th>0</th>\n",
              "      <td>0.705882</td>\n",
              "      <td>0.000571</td>\n",
              "      <td>0.000800</td>\n",
              "      <td>0.000898</td>\n",
              "      <td>0.000083</td>\n",
              "      <td>0.0</td>\n",
              "      <td>0.0</td>\n",
              "      <td>1.000000</td>\n",
              "      <td>1.0</td>\n",
              "    </tr>\n",
              "    <tr>\n",
              "      <th>1</th>\n",
              "      <td>0.722689</td>\n",
              "      <td>0.000361</td>\n",
              "      <td>0.000920</td>\n",
              "      <td>0.001035</td>\n",
              "      <td>0.000087</td>\n",
              "      <td>0.0</td>\n",
              "      <td>0.0</td>\n",
              "      <td>1.000000</td>\n",
              "      <td>1.0</td>\n",
              "    </tr>\n",
              "    <tr>\n",
              "      <th>2</th>\n",
              "      <td>0.369748</td>\n",
              "      <td>0.001781</td>\n",
              "      <td>0.000718</td>\n",
              "      <td>0.000803</td>\n",
              "      <td>0.000092</td>\n",
              "      <td>0.0</td>\n",
              "      <td>0.0</td>\n",
              "      <td>1.000000</td>\n",
              "      <td>1.0</td>\n",
              "    </tr>\n",
              "    <tr>\n",
              "      <th>3</th>\n",
              "      <td>0.495798</td>\n",
              "      <td>0.000902</td>\n",
              "      <td>0.000371</td>\n",
              "      <td>0.000402</td>\n",
              "      <td>0.000119</td>\n",
              "      <td>0.0</td>\n",
              "      <td>0.0</td>\n",
              "      <td>0.666667</td>\n",
              "      <td>0.0</td>\n",
              "    </tr>\n",
              "    <tr>\n",
              "      <th>4</th>\n",
              "      <td>0.663866</td>\n",
              "      <td>0.000275</td>\n",
              "      <td>0.000427</td>\n",
              "      <td>0.000454</td>\n",
              "      <td>0.000176</td>\n",
              "      <td>0.0</td>\n",
              "      <td>0.0</td>\n",
              "      <td>1.000000</td>\n",
              "      <td>1.0</td>\n",
              "    </tr>\n",
              "  </tbody>\n",
              "</table>\n",
              "</div>"
            ],
            "text/plain": [
              "   AveragePrice  Total Volume  Total Bags  ...  region  dayofweek  is_weekend\n",
              "0      0.705882      0.000571    0.000800  ...     0.0   1.000000         1.0\n",
              "1      0.722689      0.000361    0.000920  ...     0.0   1.000000         1.0\n",
              "2      0.369748      0.001781    0.000718  ...     0.0   1.000000         1.0\n",
              "3      0.495798      0.000902    0.000371  ...     0.0   0.666667         0.0\n",
              "4      0.663866      0.000275    0.000427  ...     0.0   1.000000         1.0\n",
              "\n",
              "[5 rows x 9 columns]"
            ]
          },
          "metadata": {
            "tags": []
          },
          "execution_count": 116
        }
      ]
    },
    {
      "cell_type": "code",
      "metadata": {
        "colab": {
          "base_uri": "https://localhost:8080/",
          "height": 601
        },
        "id": "gMnGzuvbJ75c",
        "outputId": "375da160-af0d-4230-ddca-1502282573d5"
      },
      "source": [
        "cols=df_scaled.columns.values\n",
        "plt.figure(figsize=(16,32))\n",
        "for i in range(len(cols)):\n",
        "    plt.subplot(8,8,i+1)\n",
        "    sns.boxplot(df_scaled[cols[i]], color='green', orient='v')\n",
        "    plt.tight_layout()"
      ],
      "execution_count": 118,
      "outputs": [
        {
          "output_type": "display_data",
          "data": {
            "image/png": "[encoded data removed]",
            "text/plain": [
              "<Figure size 1152x2304 with 9 Axes>"
            ]
          },
          "metadata": {
            "tags": [],
            "needs_background": "light"
          }
        }
      ]
    },
    {
      "cell_type": "code",
      "metadata": {
        "id": "cvlaP60LLvqq"
      },
      "source": [
        "from scipy.stats import zscore\n",
        "z = np.abs(zscore(df_scaled))"
      ],
      "execution_count": 119,
      "outputs": []
    },
    {
      "cell_type": "code",
      "metadata": {
        "colab": {
          "base_uri": "https://localhost:8080/"
        },
        "id": "IDKhv8j8Rxb5",
        "outputId": "5aa318b5-357b-479a-b178-9d913d5d8d09"
      },
      "source": [
        "len(np.where(z>3)[0])"
      ],
      "execution_count": 121,
      "outputs": [
        {
          "output_type": "execute_result",
          "data": {
            "text/plain": [
              "168"
            ]
          },
          "metadata": {
            "tags": []
          },
          "execution_count": 121
        }
      ]
    },
    {
      "cell_type": "code",
      "metadata": {
        "id": "p66F3XhkR20_"
      },
      "source": [
        "df3 = df2[(z<3).all(axis=1)]"
      ],
      "execution_count": 126,
      "outputs": []
    },
    {
      "cell_type": "code",
      "metadata": {
        "colab": {
          "base_uri": "https://localhost:8080/"
        },
        "id": "xhZaxFG7XG4l",
        "outputId": "56c642d9-038d-490f-dce5-af46a15330e6"
      },
      "source": [
        "df2.shape , df3.shape"
      ],
      "execution_count": 128,
      "outputs": [
        {
          "output_type": "execute_result",
          "data": {
            "text/plain": [
              "((1517, 9), (1436, 9))"
            ]
          },
          "metadata": {
            "tags": []
          },
          "execution_count": 128
        }
      ]
    },
    {
      "cell_type": "code",
      "metadata": {
        "colab": {
          "base_uri": "https://localhost:8080/",
          "height": 419
        },
        "id": "_4lpkzGkXW_9",
        "outputId": "ec66179a-78a8-4384-d4fa-f5242b9dc954"
      },
      "source": [
        ""
      ],
      "execution_count": 132,
      "outputs": [
        {
          "output_type": "execute_result",
          "data": {
            "text/html": [
              "<div>\n",
              "<style scoped>\n",
              "    .dataframe tbody tr th:only-of-type {\n",
              "        vertical-align: middle;\n",
              "    }\n",
              "\n",
              "    .dataframe tbody tr th {\n",
              "        vertical-align: top;\n",
              "    }\n",
              "\n",
              "    .dataframe thead th {\n",
              "        text-align: right;\n",
              "    }\n",
              "</style>\n",
              "<table border=\"1\" class=\"dataframe\">\n",
              "  <thead>\n",
              "    <tr style=\"text-align: right;\">\n",
              "      <th></th>\n",
              "      <th>AveragePrice</th>\n",
              "      <th>Total Volume</th>\n",
              "      <th>Total Bags</th>\n",
              "      <th>Small Bags</th>\n",
              "      <th>Large Bags</th>\n",
              "      <th>XLarge Bags</th>\n",
              "      <th>region</th>\n",
              "      <th>dayofweek</th>\n",
              "      <th>is_weekend</th>\n",
              "    </tr>\n",
              "  </thead>\n",
              "  <tbody>\n",
              "    <tr>\n",
              "      <th>0</th>\n",
              "      <td>1.33</td>\n",
              "      <td>64236.62</td>\n",
              "      <td>8696.87</td>\n",
              "      <td>8603.62</td>\n",
              "      <td>93.25</td>\n",
              "      <td>0.00</td>\n",
              "      <td>0</td>\n",
              "      <td>6</td>\n",
              "      <td>1</td>\n",
              "    </tr>\n",
              "    <tr>\n",
              "      <th>1</th>\n",
              "      <td>1.35</td>\n",
              "      <td>54876.98</td>\n",
              "      <td>9505.56</td>\n",
              "      <td>9408.07</td>\n",
              "      <td>97.49</td>\n",
              "      <td>0.00</td>\n",
              "      <td>0</td>\n",
              "      <td>6</td>\n",
              "      <td>1</td>\n",
              "    </tr>\n",
              "    <tr>\n",
              "      <th>2</th>\n",
              "      <td>0.93</td>\n",
              "      <td>118220.22</td>\n",
              "      <td>8145.35</td>\n",
              "      <td>8042.21</td>\n",
              "      <td>103.14</td>\n",
              "      <td>0.00</td>\n",
              "      <td>0</td>\n",
              "      <td>6</td>\n",
              "      <td>1</td>\n",
              "    </tr>\n",
              "    <tr>\n",
              "      <th>3</th>\n",
              "      <td>1.08</td>\n",
              "      <td>78992.15</td>\n",
              "      <td>5811.16</td>\n",
              "      <td>5677.40</td>\n",
              "      <td>133.76</td>\n",
              "      <td>0.00</td>\n",
              "      <td>0</td>\n",
              "      <td>4</td>\n",
              "      <td>0</td>\n",
              "    </tr>\n",
              "    <tr>\n",
              "      <th>4</th>\n",
              "      <td>1.28</td>\n",
              "      <td>51039.60</td>\n",
              "      <td>6183.95</td>\n",
              "      <td>5986.26</td>\n",
              "      <td>197.69</td>\n",
              "      <td>0.00</td>\n",
              "      <td>0</td>\n",
              "      <td>6</td>\n",
              "      <td>1</td>\n",
              "    </tr>\n",
              "    <tr>\n",
              "      <th>...</th>\n",
              "      <td>...</td>\n",
              "      <td>...</td>\n",
              "      <td>...</td>\n",
              "      <td>...</td>\n",
              "      <td>...</td>\n",
              "      <td>...</td>\n",
              "      <td>...</td>\n",
              "      <td>...</td>\n",
              "      <td>...</td>\n",
              "    </tr>\n",
              "    <tr>\n",
              "      <th>1512</th>\n",
              "      <td>1.39</td>\n",
              "      <td>190846.01</td>\n",
              "      <td>59418.46</td>\n",
              "      <td>48823.53</td>\n",
              "      <td>10354.65</td>\n",
              "      <td>240.28</td>\n",
              "      <td>7</td>\n",
              "      <td>6</td>\n",
              "      <td>1</td>\n",
              "    </tr>\n",
              "    <tr>\n",
              "      <th>1513</th>\n",
              "      <td>1.51</td>\n",
              "      <td>178235.75</td>\n",
              "      <td>63300.70</td>\n",
              "      <td>54704.14</td>\n",
              "      <td>8596.56</td>\n",
              "      <td>0.00</td>\n",
              "      <td>7</td>\n",
              "      <td>5</td>\n",
              "      <td>1</td>\n",
              "    </tr>\n",
              "    <tr>\n",
              "      <th>1514</th>\n",
              "      <td>1.48</td>\n",
              "      <td>178410.82</td>\n",
              "      <td>62415.77</td>\n",
              "      <td>53332.61</td>\n",
              "      <td>8258.16</td>\n",
              "      <td>825.00</td>\n",
              "      <td>7</td>\n",
              "      <td>2</td>\n",
              "      <td>0</td>\n",
              "    </tr>\n",
              "    <tr>\n",
              "      <th>1515</th>\n",
              "      <td>1.47</td>\n",
              "      <td>189131.52</td>\n",
              "      <td>63931.73</td>\n",
              "      <td>55653.47</td>\n",
              "      <td>8278.26</td>\n",
              "      <td>0.00</td>\n",
              "      <td>7</td>\n",
              "      <td>6</td>\n",
              "      <td>1</td>\n",
              "    </tr>\n",
              "    <tr>\n",
              "      <th>1516</th>\n",
              "      <td>1.43</td>\n",
              "      <td>182978.30</td>\n",
              "      <td>69104.56</td>\n",
              "      <td>57456.21</td>\n",
              "      <td>11648.35</td>\n",
              "      <td>0.00</td>\n",
              "      <td>7</td>\n",
              "      <td>6</td>\n",
              "      <td>1</td>\n",
              "    </tr>\n",
              "  </tbody>\n",
              "</table>\n",
              "<p>1436 rows × 9 columns</p>\n",
              "</div>"
            ],
            "text/plain": [
              "      AveragePrice  Total Volume  Total Bags  ...  region  dayofweek  is_weekend\n",
              "0             1.33      64236.62     8696.87  ...       0          6           1\n",
              "1             1.35      54876.98     9505.56  ...       0          6           1\n",
              "2             0.93     118220.22     8145.35  ...       0          6           1\n",
              "3             1.08      78992.15     5811.16  ...       0          4           0\n",
              "4             1.28      51039.60     6183.95  ...       0          6           1\n",
              "...            ...           ...         ...  ...     ...        ...         ...\n",
              "1512          1.39     190846.01    59418.46  ...       7          6           1\n",
              "1513          1.51     178235.75    63300.70  ...       7          5           1\n",
              "1514          1.48     178410.82    62415.77  ...       7          2           0\n",
              "1515          1.47     189131.52    63931.73  ...       7          6           1\n",
              "1516          1.43     182978.30    69104.56  ...       7          6           1\n",
              "\n",
              "[1436 rows x 9 columns]"
            ]
          },
          "metadata": {
            "tags": []
          },
          "execution_count": 132
        }
      ]
    },
    {
      "cell_type": "code",
      "metadata": {
        "id": "hDIrZMbwXzwI"
      },
      "source": [
        "from sklearn.preprocessing import MinMaxScaler\n",
        "mms = MinMaxScaler()\n",
        "df3_scaled = pd.DataFrame(mms.fit_transform(df3),columns=df3.columns)"
      ],
      "execution_count": 133,
      "outputs": []
    },
    {
      "cell_type": "code",
      "metadata": {
        "colab": {
          "base_uri": "https://localhost:8080/",
          "height": 204
        },
        "id": "eErvFGQ7X0FP",
        "outputId": "fbdd332e-63e8-4608-fdae-469f20017cba"
      },
      "source": [
        "df3_scaled.head()"
      ],
      "execution_count": 135,
      "outputs": [
        {
          "output_type": "execute_result",
          "data": {
            "text/html": [
              "<div>\n",
              "<style scoped>\n",
              "    .dataframe tbody tr th:only-of-type {\n",
              "        vertical-align: middle;\n",
              "    }\n",
              "\n",
              "    .dataframe tbody tr th {\n",
              "        vertical-align: top;\n",
              "    }\n",
              "\n",
              "    .dataframe thead th {\n",
              "        text-align: right;\n",
              "    }\n",
              "</style>\n",
              "<table border=\"1\" class=\"dataframe\">\n",
              "  <thead>\n",
              "    <tr style=\"text-align: right;\">\n",
              "      <th></th>\n",
              "      <th>AveragePrice</th>\n",
              "      <th>Total Volume</th>\n",
              "      <th>Total Bags</th>\n",
              "      <th>Small Bags</th>\n",
              "      <th>Large Bags</th>\n",
              "      <th>XLarge Bags</th>\n",
              "      <th>region</th>\n",
              "      <th>dayofweek</th>\n",
              "      <th>is_weekend</th>\n",
              "    </tr>\n",
              "  </thead>\n",
              "  <tbody>\n",
              "    <tr>\n",
              "      <th>0</th>\n",
              "      <td>0.725664</td>\n",
              "      <td>0.002988</td>\n",
              "      <td>0.002255</td>\n",
              "      <td>0.002497</td>\n",
              "      <td>0.000272</td>\n",
              "      <td>0.0</td>\n",
              "      <td>0.0</td>\n",
              "      <td>1.000000</td>\n",
              "      <td>1.0</td>\n",
              "    </tr>\n",
              "    <tr>\n",
              "      <th>1</th>\n",
              "      <td>0.743363</td>\n",
              "      <td>0.001891</td>\n",
              "      <td>0.002593</td>\n",
              "      <td>0.002876</td>\n",
              "      <td>0.000284</td>\n",
              "      <td>0.0</td>\n",
              "      <td>0.0</td>\n",
              "      <td>1.000000</td>\n",
              "      <td>1.0</td>\n",
              "    </tr>\n",
              "    <tr>\n",
              "      <th>2</th>\n",
              "      <td>0.371681</td>\n",
              "      <td>0.009318</td>\n",
              "      <td>0.002024</td>\n",
              "      <td>0.002232</td>\n",
              "      <td>0.000300</td>\n",
              "      <td>0.0</td>\n",
              "      <td>0.0</td>\n",
              "      <td>1.000000</td>\n",
              "      <td>1.0</td>\n",
              "    </tr>\n",
              "    <tr>\n",
              "      <th>3</th>\n",
              "      <td>0.504425</td>\n",
              "      <td>0.004718</td>\n",
              "      <td>0.001046</td>\n",
              "      <td>0.001116</td>\n",
              "      <td>0.000390</td>\n",
              "      <td>0.0</td>\n",
              "      <td>0.0</td>\n",
              "      <td>0.666667</td>\n",
              "      <td>0.0</td>\n",
              "    </tr>\n",
              "    <tr>\n",
              "      <th>4</th>\n",
              "      <td>0.681416</td>\n",
              "      <td>0.001441</td>\n",
              "      <td>0.001202</td>\n",
              "      <td>0.001262</td>\n",
              "      <td>0.000576</td>\n",
              "      <td>0.0</td>\n",
              "      <td>0.0</td>\n",
              "      <td>1.000000</td>\n",
              "      <td>1.0</td>\n",
              "    </tr>\n",
              "  </tbody>\n",
              "</table>\n",
              "</div>"
            ],
            "text/plain": [
              "   AveragePrice  Total Volume  Total Bags  ...  region  dayofweek  is_weekend\n",
              "0      0.725664      0.002988    0.002255  ...     0.0   1.000000         1.0\n",
              "1      0.743363      0.001891    0.002593  ...     0.0   1.000000         1.0\n",
              "2      0.371681      0.009318    0.002024  ...     0.0   1.000000         1.0\n",
              "3      0.504425      0.004718    0.001046  ...     0.0   0.666667         0.0\n",
              "4      0.681416      0.001441    0.001202  ...     0.0   1.000000         1.0\n",
              "\n",
              "[5 rows x 9 columns]"
            ]
          },
          "metadata": {
            "tags": []
          },
          "execution_count": 135
        }
      ]
    },
    {
      "cell_type": "code",
      "metadata": {
        "colab": {
          "base_uri": "https://localhost:8080/",
          "height": 1000
        },
        "id": "4eP2S04BX0bX",
        "outputId": "5db462a8-58f8-46b7-815d-7f62c5d5c43a"
      },
      "source": [
        "for i in df3_scaled.columns:\n",
        "  plt.subplots()\n",
        "  sns.distplot(df3_scaled[i])"
      ],
      "execution_count": 137,
      "outputs": [
        {
          "output_type": "display_data",
          "data": {
            "image/png": "[encoded data removed]",
            "text/plain": [
              "<Figure size 432x288 with 1 Axes>"
            ]
          },
          "metadata": {
            "tags": [],
            "needs_background": "light"
          }
        },
        {
          "output_type": "display_data",
          "data": {
            "image/png": "[encoded data removed]",
            "text/plain": [
              "<Figure size 432x288 with 1 Axes>"
            ]
          },
          "metadata": {
            "tags": [],
            "needs_background": "light"
          }
        },
        {
          "output_type": "display_data",
          "data": {
            "image/png": "[encoded data removed]",
            "text/plain": [
              "<Figure size 432x288 with 1 Axes>"
            ]
          },
          "metadata": {
            "tags": [],
            "needs_background": "light"
          }
        },
        {
          "output_type": "display_data",
          "data": {
            "image/png": "[encoded data removed]",
            "text/plain": [
              "<Figure size 432x288 with 1 Axes>"
            ]
          },
          "metadata": {
            "tags": [],
            "needs_background": "light"
          }
        },
        {
          "output_type": "display_data",
          "data": {
            "image/png": "[encoded data removed]",
            "text/plain": [
              "<Figure size 432x288 with 1 Axes>"
            ]
          },
          "metadata": {
            "tags": [],
            "needs_background": "light"
          }
        },
        {
          "output_type": "display_data",
          "data": {
            "image/png": "[encoded data removed]",
            "text/plain": [
              "<Figure size 432x288 with 1 Axes>"
            ]
          },
          "metadata": {
            "tags": [],
            "needs_background": "light"
          }
        },
        {
          "output_type": "display_data",
          "data": {
            "image/png": "[encoded data removed]",
            "text/plain": [
              "<Figure size 432x288 with 1 Axes>"
            ]
          },
          "metadata": {
            "tags": [],
            "needs_background": "light"
          }
        },
        {
          "output_type": "display_data",
          "data": {
            "image/png": "[encoded data removed]",
            "text/plain": [
              "<Figure size 432x288 with 1 Axes>"
            ]
          },
          "metadata": {
            "tags": [],
            "needs_background": "light"
          }
        },
        {
          "output_type": "display_data",
          "data": {
            "image/png": "[encoded data removed]",
            "text/plain": [
              "<Figure size 432x288 with 1 Axes>"
            ]
          },
          "metadata": {
            "tags": [],
            "needs_background": "light"
          }
        }
      ]
    },
    {
      "cell_type": "code",
      "metadata": {
        "colab": {
          "base_uri": "https://localhost:8080/"
        },
        "id": "Tejlpm4ZYmrD",
        "outputId": "06108c83-f943-4b80-f00c-d2c1bd28fd43"
      },
      "source": [
        "df3_scaled.skew()"
      ],
      "execution_count": 138,
      "outputs": [
        {
          "output_type": "execute_result",
          "data": {
            "text/plain": [
              "AveragePrice   -0.184770\n",
              "Total Volume    2.704085\n",
              "Total Bags      4.165747\n",
              "Small Bags      4.410267\n",
              "Large Bags      3.518056\n",
              "XLarge Bags     5.118965\n",
              "region          0.276276\n",
              "dayofweek      -1.289304\n",
              "is_weekend     -0.830119\n",
              "dtype: float64"
            ]
          },
          "metadata": {
            "tags": []
          },
          "execution_count": 138
        }
      ]
    },
    {
      "cell_type": "code",
      "metadata": {
        "id": "hZUOmtpxZdRJ"
      },
      "source": [
        "df4 = df3_scaled.copy()"
      ],
      "execution_count": 139,
      "outputs": []
    },
    {
      "cell_type": "code",
      "metadata": {
        "id": "7IXFZBonZUfz"
      },
      "source": [
        "df4['Total Volume'] = np.sqrt(df3_scaled['Total Volume'])\n",
        "df4['Total Bags'] = np.sqrt(df3_scaled['Total Bags'])\n",
        "df4['Small Bags'] = np.sqrt(df3_scaled['Small Bags'])\n",
        "df4['Large Bags'] = np.sqrt(df3_scaled['Large Bags'])"
      ],
      "execution_count": 140,
      "outputs": []
    },
    {
      "cell_type": "code",
      "metadata": {
        "id": "J40pKyThaJN7"
      },
      "source": [
        "df4['XLarge Bags'] = np.sqrt(df3_scaled['XLarge Bags'])\n",
        "df4['dayofweek'] = np.sqrt(df3_scaled['dayofweek'])"
      ],
      "execution_count": 142,
      "outputs": []
    },
    {
      "cell_type": "code",
      "metadata": {
        "colab": {
          "base_uri": "https://localhost:8080/"
        },
        "id": "pEvRpXaWaAFe",
        "outputId": "275ea0f7-b841-4a12-d342-69e63c43c267"
      },
      "source": [
        "df4.skew()"
      ],
      "execution_count": 143,
      "outputs": [
        {
          "output_type": "execute_result",
          "data": {
            "text/plain": [
              "AveragePrice   -0.184770\n",
              "Total Volume    1.685787\n",
              "Total Bags      2.114615\n",
              "Small Bags      2.117871\n",
              "Large Bags      1.696494\n",
              "XLarge Bags     2.826879\n",
              "region          0.276276\n",
              "dayofweek      -1.738250\n",
              "is_weekend     -0.830119\n",
              "dtype: float64"
            ]
          },
          "metadata": {
            "tags": []
          },
          "execution_count": 143
        }
      ]
    },
    {
      "cell_type": "code",
      "metadata": {
        "id": "aBd3GLxAaDiS"
      },
      "source": [
        "df4['Total Volume'] = np.cbrt(df3_scaled['Total Volume'])\n",
        "df4['Total Bags'] = np.cbrt(df3_scaled['Total Bags'])\n",
        "df4['Small Bags'] = np.cbrt(df3_scaled['Small Bags'])\n",
        "df4['Large Bags'] = np.cbrt(df3_scaled['Large Bags'])\n",
        "df4['XLarge Bags'] = np.cbrt(df3_scaled['XLarge Bags'])\n",
        "df4['dayofweek'] = np.cbrt(df3_scaled['dayofweek'])"
      ],
      "execution_count": 144,
      "outputs": []
    },
    {
      "cell_type": "code",
      "metadata": {
        "colab": {
          "base_uri": "https://localhost:8080/"
        },
        "id": "H9dFvchrask0",
        "outputId": "1cced916-e9b2-49b6-a36d-765c6375ad03"
      },
      "source": [
        "df4.skew()"
      ],
      "execution_count": 145,
      "outputs": [
        {
          "output_type": "execute_result",
          "data": {
            "text/plain": [
              "AveragePrice   -0.184770\n",
              "Total Volume    1.167083\n",
              "Total Bags      1.466923\n",
              "Small Bags      1.445768\n",
              "Large Bags      0.933361\n",
              "XLarge Bags     1.867443\n",
              "region          0.276276\n",
              "dayofweek      -2.040522\n",
              "is_weekend     -0.830119\n",
              "dtype: float64"
            ]
          },
          "metadata": {
            "tags": []
          },
          "execution_count": 145
        }
      ]
    },
    {
      "cell_type": "code",
      "metadata": {
        "id": "KYL7SOjgauFP"
      },
      "source": [
        "## skewness has improved alot"
      ],
      "execution_count": 146,
      "outputs": []
    },
    {
      "cell_type": "code",
      "metadata": {
        "id": "q3bl6gsYbbQI"
      },
      "source": [
        "## building models"
      ],
      "execution_count": 150,
      "outputs": []
    },
    {
      "cell_type": "code",
      "metadata": {
        "id": "jN3pznpfayhF"
      },
      "source": [
        "x = df4.drop('AveragePrice',axis=1)\n",
        "y = df4['AveragePrice']"
      ],
      "execution_count": 148,
      "outputs": []
    },
    {
      "cell_type": "code",
      "metadata": {
        "id": "Wpjf5ZPybSyv"
      },
      "source": [
        "from sklearn.linear_model import LinearRegression\n",
        "from sklearn.tree import DecisionTreeRegressor\n",
        "from sklearn.neighbors import KNeighborsRegressor\n",
        "from sklearn.svm import SVR\n",
        "from sklearn.linear_model import Ridge\n",
        "from sklearn.linear_model import Lasso\n",
        "from sklearn.ensemble import RandomForestRegressor\n",
        "from xgboost import XGBRegressor\n",
        "from sklearn.ensemble import AdaBoostRegressor\n",
        "from sklearn.model_selection import cross_val_score\n",
        "from sklearn.model_selection import train_test_split\n",
        "from sklearn.metrics import mean_squared_error, mean_absolute_error, r2_score"
      ],
      "execution_count": 149,
      "outputs": []
    },
    {
      "cell_type": "code",
      "metadata": {
        "id": "T2yYLp2BbX5i"
      },
      "source": [
        "def get_score(m,x,y,rs=45):\n",
        "    x_train, x_test, y_train, y_test=train_test_split(x,y,test_size=0.25,random_state=rs)\n",
        "    m.fit(x_train,y_train)\n",
        "    train_score=m.score(x_train,y_train)\n",
        "    pred=m.predict(x_test)\n",
        "    test_score=r2_score(pred,y_test)\n",
        "    rmse=np.sqrt(mean_squared_error(pred,y_test))\n",
        "    return train_score,test_score,rmse"
      ],
      "execution_count": 151,
      "outputs": []
    },
    {
      "cell_type": "code",
      "metadata": {
        "id": "bMZ1KhEXbZ8o"
      },
      "source": [
        "def get_metrics(m,x,y,rs=45):\n",
        "    x_train, x_test, y_train, y_test=train_test_split(x,y,test_size=0.25,random_state=rs)\n",
        "    m.fit(x_train,y_train)\n",
        "    pred=m.predict(x_test)\n",
        "    mse=mean_squared_error(pred,y_test)\n",
        "    mae=mean_absolute_error(pred,y_test)\n",
        "    rmse=np.sqrt(mean_squared_error(pred,y_test))\n",
        "    return mse,rmse,mae"
      ],
      "execution_count": 152,
      "outputs": []
    },
    {
      "cell_type": "code",
      "metadata": {
        "id": "l01fb4-mb2Xo"
      },
      "source": [
        "def cross(m,x,y,c=5):\n",
        "    score=cross_val_score(m,x,y,cv=c,n_jobs=-1)\n",
        "    return (score.mean(), score.std())"
      ],
      "execution_count": 153,
      "outputs": []
    },
    {
      "cell_type": "code",
      "metadata": {
        "id": "HIp10UQ4b6CU"
      },
      "source": [
        "lr=LinearRegression(n_jobs=-1)\n",
        "dt=DecisionTreeRegressor(random_state=90)\n",
        "svr=SVR()\n",
        "knn=KNeighborsRegressor(n_jobs=-1)\n",
        "rid=Ridge(random_state=90)\n",
        "ls=Lasso(random_state=90)\n",
        "rf=RandomForestRegressor(n_jobs=-1,random_state=90)\n",
        "xgb=XGBRegressor(n_jobs=-1,random_state=90)\n",
        "ada=AdaBoostRegressor(random_state=90)"
      ],
      "execution_count": 154,
      "outputs": []
    },
    {
      "cell_type": "code",
      "metadata": {
        "colab": {
          "base_uri": "https://localhost:8080/"
        },
        "id": "1GX5oNDXcJwD",
        "outputId": "df906e2b-3828-493c-bf2b-87ecce2bc827"
      },
      "source": [
        "print(\"LR \", get_score(lr,x,y))\n",
        "print(\"DT \", get_score(dt,x,y))\n",
        "print(\"SVR \", get_score(svr,x,y))\n",
        "print(\"KNN \", get_score(knn,x,y))\n",
        "print(\"RID \", get_score(rid,x,y))\n",
        "print(\"LS \", get_score(ls,x,y))\n",
        "print(\"RF \", get_score(rf,x,y))\n",
        "print(\"XGB \", get_score(xgb,x,y))"
      ],
      "execution_count": 155,
      "outputs": [
        {
          "output_type": "stream",
          "text": [
            "LR  (0.2945905257977415, -1.475156436567005, 0.13562866136473953)\n",
            "DT  (1.0, 0.58773060131541, 0.11166000615870027)\n",
            "SVR  (0.4845261634433625, -0.4289222401050259, 0.12374100952338896)\n",
            "KNN  (0.7486525550328282, 0.09521368941684616, 0.12156727279514716)\n",
            "RID  (0.2789414964365615, -2.6334707864877847, 0.1397625094728773)\n",
            "LS  (0.0, 0.0, 0.16913677757467233)\n",
            "RF  (0.971534174220555, 0.6818130937304685, 0.08459868672810779)\n",
            "[09:10:26] WARNING: /workspace/src/objective/regression_obj.cu:152: reg:linear is now deprecated in favor of reg:squarederror.\n",
            "XGB  (0.7930298564565188, 0.49011488918518564, 0.09536657004918606)\n"
          ],
          "name": "stdout"
        }
      ]
    },
    {
      "cell_type": "code",
      "metadata": {
        "colab": {
          "base_uri": "https://localhost:8080/",
          "height": 204
        },
        "id": "Bbp_d3FkcW5q",
        "outputId": "71e53172-7014-440a-af7a-4638170fb2f9"
      },
      "source": [
        "x.head()"
      ],
      "execution_count": 156,
      "outputs": [
        {
          "output_type": "execute_result",
          "data": {
            "text/html": [
              "<div>\n",
              "<style scoped>\n",
              "    .dataframe tbody tr th:only-of-type {\n",
              "        vertical-align: middle;\n",
              "    }\n",
              "\n",
              "    .dataframe tbody tr th {\n",
              "        vertical-align: top;\n",
              "    }\n",
              "\n",
              "    .dataframe thead th {\n",
              "        text-align: right;\n",
              "    }\n",
              "</style>\n",
              "<table border=\"1\" class=\"dataframe\">\n",
              "  <thead>\n",
              "    <tr style=\"text-align: right;\">\n",
              "      <th></th>\n",
              "      <th>Total Volume</th>\n",
              "      <th>Total Bags</th>\n",
              "      <th>Small Bags</th>\n",
              "      <th>Large Bags</th>\n",
              "      <th>XLarge Bags</th>\n",
              "      <th>region</th>\n",
              "      <th>dayofweek</th>\n",
              "      <th>is_weekend</th>\n",
              "    </tr>\n",
              "  </thead>\n",
              "  <tbody>\n",
              "    <tr>\n",
              "      <th>0</th>\n",
              "      <td>0.144036</td>\n",
              "      <td>0.131125</td>\n",
              "      <td>0.135665</td>\n",
              "      <td>0.064757</td>\n",
              "      <td>0.0</td>\n",
              "      <td>0.0</td>\n",
              "      <td>1.00000</td>\n",
              "      <td>1.0</td>\n",
              "    </tr>\n",
              "    <tr>\n",
              "      <th>1</th>\n",
              "      <td>0.123656</td>\n",
              "      <td>0.137385</td>\n",
              "      <td>0.142218</td>\n",
              "      <td>0.065724</td>\n",
              "      <td>0.0</td>\n",
              "      <td>0.0</td>\n",
              "      <td>1.00000</td>\n",
              "      <td>1.0</td>\n",
              "    </tr>\n",
              "    <tr>\n",
              "      <th>2</th>\n",
              "      <td>0.210428</td>\n",
              "      <td>0.126487</td>\n",
              "      <td>0.130687</td>\n",
              "      <td>0.066970</td>\n",
              "      <td>0.0</td>\n",
              "      <td>0.0</td>\n",
              "      <td>1.00000</td>\n",
              "      <td>1.0</td>\n",
              "    </tr>\n",
              "    <tr>\n",
              "      <th>3</th>\n",
              "      <td>0.167724</td>\n",
              "      <td>0.101524</td>\n",
              "      <td>0.103732</td>\n",
              "      <td>0.073032</td>\n",
              "      <td>0.0</td>\n",
              "      <td>0.0</td>\n",
              "      <td>0.87358</td>\n",
              "      <td>0.0</td>\n",
              "    </tr>\n",
              "    <tr>\n",
              "      <th>4</th>\n",
              "      <td>0.112947</td>\n",
              "      <td>0.106339</td>\n",
              "      <td>0.108063</td>\n",
              "      <td>0.083189</td>\n",
              "      <td>0.0</td>\n",
              "      <td>0.0</td>\n",
              "      <td>1.00000</td>\n",
              "      <td>1.0</td>\n",
              "    </tr>\n",
              "  </tbody>\n",
              "</table>\n",
              "</div>"
            ],
            "text/plain": [
              "   Total Volume  Total Bags  Small Bags  ...  region  dayofweek  is_weekend\n",
              "0      0.144036    0.131125    0.135665  ...     0.0    1.00000         1.0\n",
              "1      0.123656    0.137385    0.142218  ...     0.0    1.00000         1.0\n",
              "2      0.210428    0.126487    0.130687  ...     0.0    1.00000         1.0\n",
              "3      0.167724    0.101524    0.103732  ...     0.0    0.87358         0.0\n",
              "4      0.112947    0.106339    0.108063  ...     0.0    1.00000         1.0\n",
              "\n",
              "[5 rows x 8 columns]"
            ]
          },
          "metadata": {
            "tags": []
          },
          "execution_count": 156
        }
      ]
    },
    {
      "cell_type": "code",
      "metadata": {
        "id": "cSJgVDq7cOKU"
      },
      "source": [
        "x.drop(['XLarge Bags','region'],axis=1,inplace=True)"
      ],
      "execution_count": 157,
      "outputs": []
    },
    {
      "cell_type": "code",
      "metadata": {
        "colab": {
          "base_uri": "https://localhost:8080/"
        },
        "id": "a75Tnu6zcr6_",
        "outputId": "4b908289-0049-4c7b-c99a-41e7b2713e3e"
      },
      "source": [
        "print(\"LR \", get_score(lr,x,y))\n",
        "print(\"DT \", get_score(dt,x,y))\n",
        "print(\"SVR \", get_score(svr,x,y))\n",
        "print(\"KNN \", get_score(knn,x,y))\n",
        "print(\"RID \", get_score(rid,x,y))\n",
        "print(\"LS \", get_score(ls,x,y))\n",
        "print(\"RF \", get_score(rf,x,y))\n",
        "print(\"XGB \", get_score(xgb,x,y))"
      ],
      "execution_count": 158,
      "outputs": [
        {
          "output_type": "stream",
          "text": [
            "LR  (0.276904084265873, -1.8021013076494974, 0.13706499462311514)\n",
            "DT  (1.0, 0.4050280313622031, 0.13347756300851155)\n",
            "SVR  (0.3651688166190469, -0.8529452177234433, 0.12856589170359783)\n",
            "KNN  (0.6522939518383779, 0.13783466705512848, 0.12207472565333453)\n",
            "RID  (0.25907481311572544, -3.3903337926447916, 0.14164097906394907)\n",
            "LS  (0.0, 0.0, 0.16913677757467233)\n",
            "RF  (0.9387021492990976, 0.4685537094376768, 0.1009685527433901)\n",
            "[09:12:55] WARNING: /workspace/src/objective/regression_obj.cu:152: reg:linear is now deprecated in favor of reg:squarederror.\n",
            "XGB  (0.6600974268779904, 0.09659387392368157, 0.10982918575738386)\n"
          ],
          "name": "stdout"
        }
      ]
    },
    {
      "cell_type": "code",
      "metadata": {
        "id": "Q0R4N_OXcyia"
      },
      "source": [
        "def gen_lower(df,col):\n",
        "    Q1 = df[col].quantile(0.25)\n",
        "    Q3 = df[col].quantile(0.75)\n",
        "    IQR = Q3 - Q1\n",
        "    lower=Q1 - 1.5 * IQR\n",
        "    return lower\n",
        "\n",
        "def gen_upper(df,col):\n",
        "    Q1 = df[col].quantile(0.25)\n",
        "    Q3 = df[col].quantile(0.75)\n",
        "    IQR = Q3 - Q1\n",
        "    upper=Q3 + 1.5 * IQR\n",
        "    return upper\n",
        "\n",
        "def gen_remove_outlier(df,col):\n",
        "    for i in range(df.shape[0]):\n",
        "        if (df[col].iloc[i])>gen_upper(df,col):\n",
        "            df[col].iloc[i]=gen_upper(df,col)\n",
        "        elif (df[col].iloc[i])<gen_lower(df,col):\n",
        "            df[col].iloc[i]=gen_lower(df,col)"
      ],
      "execution_count": 159,
      "outputs": []
    },
    {
      "cell_type": "code",
      "metadata": {
        "colab": {
          "base_uri": "https://localhost:8080/",
          "height": 204
        },
        "id": "GNGrcQFIdEdJ",
        "outputId": "dcc3694b-7a94-4111-a873-608bce7b0272"
      },
      "source": [
        "x.head()"
      ],
      "execution_count": 160,
      "outputs": [
        {
          "output_type": "execute_result",
          "data": {
            "text/html": [
              "<div>\n",
              "<style scoped>\n",
              "    .dataframe tbody tr th:only-of-type {\n",
              "        vertical-align: middle;\n",
              "    }\n",
              "\n",
              "    .dataframe tbody tr th {\n",
              "        vertical-align: top;\n",
              "    }\n",
              "\n",
              "    .dataframe thead th {\n",
              "        text-align: right;\n",
              "    }\n",
              "</style>\n",
              "<table border=\"1\" class=\"dataframe\">\n",
              "  <thead>\n",
              "    <tr style=\"text-align: right;\">\n",
              "      <th></th>\n",
              "      <th>Total Volume</th>\n",
              "      <th>Total Bags</th>\n",
              "      <th>Small Bags</th>\n",
              "      <th>Large Bags</th>\n",
              "      <th>dayofweek</th>\n",
              "      <th>is_weekend</th>\n",
              "    </tr>\n",
              "  </thead>\n",
              "  <tbody>\n",
              "    <tr>\n",
              "      <th>0</th>\n",
              "      <td>0.144036</td>\n",
              "      <td>0.131125</td>\n",
              "      <td>0.135665</td>\n",
              "      <td>0.064757</td>\n",
              "      <td>1.00000</td>\n",
              "      <td>1.0</td>\n",
              "    </tr>\n",
              "    <tr>\n",
              "      <th>1</th>\n",
              "      <td>0.123656</td>\n",
              "      <td>0.137385</td>\n",
              "      <td>0.142218</td>\n",
              "      <td>0.065724</td>\n",
              "      <td>1.00000</td>\n",
              "      <td>1.0</td>\n",
              "    </tr>\n",
              "    <tr>\n",
              "      <th>2</th>\n",
              "      <td>0.210428</td>\n",
              "      <td>0.126487</td>\n",
              "      <td>0.130687</td>\n",
              "      <td>0.066970</td>\n",
              "      <td>1.00000</td>\n",
              "      <td>1.0</td>\n",
              "    </tr>\n",
              "    <tr>\n",
              "      <th>3</th>\n",
              "      <td>0.167724</td>\n",
              "      <td>0.101524</td>\n",
              "      <td>0.103732</td>\n",
              "      <td>0.073032</td>\n",
              "      <td>0.87358</td>\n",
              "      <td>0.0</td>\n",
              "    </tr>\n",
              "    <tr>\n",
              "      <th>4</th>\n",
              "      <td>0.112947</td>\n",
              "      <td>0.106339</td>\n",
              "      <td>0.108063</td>\n",
              "      <td>0.083189</td>\n",
              "      <td>1.00000</td>\n",
              "      <td>1.0</td>\n",
              "    </tr>\n",
              "  </tbody>\n",
              "</table>\n",
              "</div>"
            ],
            "text/plain": [
              "   Total Volume  Total Bags  Small Bags  Large Bags  dayofweek  is_weekend\n",
              "0      0.144036    0.131125    0.135665    0.064757    1.00000         1.0\n",
              "1      0.123656    0.137385    0.142218    0.065724    1.00000         1.0\n",
              "2      0.210428    0.126487    0.130687    0.066970    1.00000         1.0\n",
              "3      0.167724    0.101524    0.103732    0.073032    0.87358         0.0\n",
              "4      0.112947    0.106339    0.108063    0.083189    1.00000         1.0"
            ]
          },
          "metadata": {
            "tags": []
          },
          "execution_count": 160
        }
      ]
    },
    {
      "cell_type": "code",
      "metadata": {
        "id": "qVYCjtRNdA0i"
      },
      "source": [
        "gen_remove_outlier(df4,'Total Volume')\n",
        "gen_remove_outlier(df4,'Total Bags')\n",
        "gen_remove_outlier(df4,'Small Bags')\n",
        "gen_remove_outlier(df4,'Large Bags')"
      ],
      "execution_count": 162,
      "outputs": []
    },
    {
      "cell_type": "code",
      "metadata": {
        "colab": {
          "base_uri": "https://localhost:8080/"
        },
        "id": "_AfOsRYtdaGm",
        "outputId": "72d90057-78c4-4a86-cf04-3935f07f74e2"
      },
      "source": [
        "df4.shape"
      ],
      "execution_count": 164,
      "outputs": [
        {
          "output_type": "execute_result",
          "data": {
            "text/plain": [
              "(1436, 9)"
            ]
          },
          "metadata": {
            "tags": []
          },
          "execution_count": 164
        }
      ]
    },
    {
      "cell_type": "code",
      "metadata": {
        "id": "vMGv-_a7ds5Z"
      },
      "source": [
        "x2 = df4.drop('AveragePrice',axis=1)\n",
        "y2 = df4['AveragePrice']"
      ],
      "execution_count": 166,
      "outputs": []
    },
    {
      "cell_type": "code",
      "metadata": {
        "colab": {
          "base_uri": "https://localhost:8080/"
        },
        "id": "7ktWNJZTe83j",
        "outputId": "09f1cc55-d0cb-4d24-f85c-a9624124722f"
      },
      "source": [
        "print(\"LR \", get_score(lr,x2,y))\n",
        "print(\"DT \", get_score(dt,x2,y))\n",
        "print(\"SVR \", get_score(svr,x2,y))\n",
        "print(\"KNN \", get_score(knn,x2,y))\n",
        "print(\"RID \", get_score(rid,x2,y))\n",
        "print(\"LS \", get_score(ls,x2,y))\n",
        "print(\"RF \", get_score(rf,x2,y))\n",
        "print(\"XGB \", get_score(xgb,x2,y))"
      ],
      "execution_count": 167,
      "outputs": [
        {
          "output_type": "stream",
          "text": [
            "LR  (0.317869387452418, -1.3853392048196782, 0.135002176246023)\n",
            "DT  (1.0, 0.5737809448773297, 0.11253863093667421)\n",
            "SVR  (0.4813681931664464, -0.6685129456680081, 0.12650549222769975)\n",
            "KNN  (0.7480799708539599, 0.09058466016184308, 0.12173149783836304)\n",
            "RID  (0.29426414528318223, -2.8087154146298956, 0.14001883081360966)\n",
            "LS  (0.0, 0.0, 0.16913677757467233)\n",
            "RF  (0.9707465084584488, 0.6800387271220618, 0.08467912112095353)\n",
            "[09:23:02] WARNING: /workspace/src/objective/regression_obj.cu:152: reg:linear is now deprecated in favor of reg:squarederror.\n",
            "XGB  (0.7994323886468162, 0.5029539209663212, 0.09290758245551244)\n"
          ],
          "name": "stdout"
        }
      ]
    },
    {
      "cell_type": "code",
      "metadata": {
        "id": "VrfrPS0OfGRX"
      },
      "source": [
        "## random forest classifier model has improved "
      ],
      "execution_count": 168,
      "outputs": []
    },
    {
      "cell_type": "code",
      "metadata": {
        "id": "9oOBO39ZfQn_"
      },
      "source": [
        "## lets tuned it to improve accuracy further"
      ],
      "execution_count": 169,
      "outputs": []
    },
    {
      "cell_type": "code",
      "metadata": {
        "id": "XiIF8LkFg_Jz"
      },
      "source": [
        "x_train,x_test,y_train,y_test = train_test_split(x2,y2,test_size=0.2,random_state=10)"
      ],
      "execution_count": 171,
      "outputs": []
    },
    {
      "cell_type": "code",
      "metadata": {
        "id": "rAE1JzrxfVxT"
      },
      "source": [
        "params = {'n_estimators' : np.arange(100,120,2),\n",
        "          'criterion' : ['mse','mae'],\n",
        "          'min_samples_split' : np.arange(1,5,1),\n",
        "          'min_samples_leaf' : np.arange(1,5,1),\n",
        "          'max_features':['auto','sqrt','log2']}"
      ],
      "execution_count": 172,
      "outputs": []
    },
    {
      "cell_type": "code",
      "metadata": {
        "colab": {
          "base_uri": "https://localhost:8080/"
        },
        "id": "GL3Lgf9qgtxf",
        "outputId": "b5fc602e-112e-4d7c-ac25-2ca737e12d65"
      },
      "source": [
        "from sklearn.model_selection import RandomizedSearchCV\n",
        "RCV = RandomizedSearchCV(rf,params,n_jobs=-1,cv=5)\n",
        "RCV.fit(x_train,y_train)\n",
        "RCV.best_params_"
      ],
      "execution_count": 174,
      "outputs": [
        {
          "output_type": "execute_result",
          "data": {
            "text/plain": [
              "{'criterion': 'mse',\n",
              " 'max_features': 'log2',\n",
              " 'min_samples_leaf': 2,\n",
              " 'min_samples_split': 4,\n",
              " 'n_estimators': 112}"
            ]
          },
          "metadata": {
            "tags": []
          },
          "execution_count": 174
        }
      ]
    },
    {
      "cell_type": "code",
      "metadata": {
        "colab": {
          "base_uri": "https://localhost:8080/"
        },
        "id": "LOH4MIoYgife",
        "outputId": "80195261-184c-4f0a-c04c-08f7e1a915e6"
      },
      "source": [
        "rf_best = RandomForestRegressor(n_estimators=112,criterion='mse',min_samples_leaf=2,min_samples_split=4,max_features='log2')\n",
        "rf_best.fit(x_train,y_train)"
      ],
      "execution_count": 176,
      "outputs": [
        {
          "output_type": "execute_result",
          "data": {
            "text/plain": [
              "RandomForestRegressor(bootstrap=True, ccp_alpha=0.0, criterion='mse',\n",
              "                      max_depth=None, max_features='log2', max_leaf_nodes=None,\n",
              "                      max_samples=None, min_impurity_decrease=0.0,\n",
              "                      min_impurity_split=None, min_samples_leaf=2,\n",
              "                      min_samples_split=4, min_weight_fraction_leaf=0.0,\n",
              "                      n_estimators=112, n_jobs=None, oob_score=False,\n",
              "                      random_state=None, verbose=0, warm_start=False)"
            ]
          },
          "metadata": {
            "tags": []
          },
          "execution_count": 176
        }
      ]
    },
    {
      "cell_type": "code",
      "metadata": {
        "colab": {
          "base_uri": "https://localhost:8080/"
        },
        "id": "vnvg_IC5gOFG",
        "outputId": "0ad157e3-3ee7-4799-ad2a-f99cb02821c8"
      },
      "source": [
        "print('train_score' , rf_best.score(x_train,y_train))\n",
        "print('test_score' , rf_best.score(x_test,y_test))"
      ],
      "execution_count": 180,
      "outputs": [
        {
          "output_type": "stream",
          "text": [
            "train_score 0.9347479547574513\n",
            "test_score 0.7458780870829245\n"
          ],
          "name": "stdout"
        }
      ]
    },
    {
      "cell_type": "code",
      "metadata": {
        "id": "uV7LIsNwiGFB"
      },
      "source": [
        "## score has improved after tuning"
      ],
      "execution_count": 186,
      "outputs": []
    },
    {
      "cell_type": "code",
      "metadata": {
        "colab": {
          "base_uri": "https://localhost:8080/"
        },
        "id": "6noeMDj2iu1p",
        "outputId": "d947edbf-02f5-4b67-e763-5659d2c5ffeb"
      },
      "source": [
        "import joblib\n",
        "joblib.dump(rf_best,'avacado.pkl')"
      ],
      "execution_count": 187,
      "outputs": [
        {
          "output_type": "execute_result",
          "data": {
            "text/plain": [
              "['avacado.pkl']"
            ]
          },
          "metadata": {
            "tags": []
          },
          "execution_count": 187
        }
      ]
    },
    {
      "cell_type": "code",
      "metadata": {
        "id": "QvrVuYL_jSOJ"
      },
      "source": [
        ""
      ],
      "execution_count": null,
      "outputs": []
    }
  ]
}