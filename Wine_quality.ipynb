{
  "nbformat": 4,
  "nbformat_minor": 0,
  "metadata": {
    "colab": {
      "name": "Wine quality.ipynb",
      "provenance": [],
      "collapsed_sections": [],
      "authorship_tag": "ABX9TyOXCsO+49ORStHuWfJ0ghd8",
      "include_colab_link": true
    },
    "kernelspec": {
      "name": "python3",
      "display_name": "Python 3"
    },
    "language_info": {
      "name": "python"
    }
  },
  "cells": [
    {
      "cell_type": "markdown",
      "metadata": {
        "id": "view-in-github",
        "colab_type": "text"
      },
      "source": [
        "<a href=\"https://colab.research.google.com/github/faiyazansari566/Projects-practice/blob/main/Wine_quality.ipynb\" target=\"_parent\"><img src=\"https://colab.research.google.com/assets/colab-badge.svg\" alt=\"Open In Colab\"/></a>"
      ]
    },
    {
      "cell_type": "markdown",
      "metadata": {
        "id": "MU37ELfsvasO"
      },
      "source": [
        "importing libraries and loading the dataset"
      ]
    },
    {
      "cell_type": "code",
      "metadata": {
        "id": "chFzdNhvm3I5"
      },
      "source": [
        "import pandas as pd\n",
        "import seaborn as sns\n",
        "import matplotlib.pyplot as plt\n",
        "import numpy as np\n",
        "from sklearn.preprocessing import StandardScaler\n",
        "from sklearn.linear_model import LogisticRegression\n",
        "from sklearn.naive_bayes import GaussianNB\n",
        "from sklearn.naive_bayes import MultinomialNB\n",
        "from sklearn.metrics import classification_report, confusion_matrix, accuracy_score\n",
        "from sklearn.naive_bayes import GaussianNB\n",
        "\n",
        "from statsmodels.stats.outliers_influence import variance_inflation_factor\n",
        "from sklearn.neighbors import KNeighborsClassifier\n",
        "from imblearn.combine import SMOTETomek\n",
        "from sklearn.ensemble import RandomForestClassifier, AdaBoostClassifier, BaggingClassifier, GradientBoostingClassifier\n",
        "from sklearn.tree import DecisionTreeClassifier\n",
        "from xgboost import XGBClassifier\n",
        "from lightgbm import LGBMClassifier\n",
        "from sklearn.model_selection import train_test_split\n",
        "import warnings\n",
        "warnings.filterwarnings('ignore')\n"
      ],
      "execution_count": 4,
      "outputs": []
    },
    {
      "cell_type": "code",
      "metadata": {
        "colab": {
          "base_uri": "https://localhost:8080/",
          "height": 204
        },
        "id": "mZ1SKb9Nm5sr",
        "outputId": "7ce0d9bc-e1ba-4fe9-a8f5-aea7ea24f1a2"
      },
      "source": [
        "df= pd.read_csv('https://raw.githubusercontent.com/dsrscientist/DSData/master/winequality-red.csv')\n",
        "df.head()"
      ],
      "execution_count": 5,
      "outputs": [
        {
          "output_type": "execute_result",
          "data": {
            "text/html": [
              "<div>\n",
              "<style scoped>\n",
              "    .dataframe tbody tr th:only-of-type {\n",
              "        vertical-align: middle;\n",
              "    }\n",
              "\n",
              "    .dataframe tbody tr th {\n",
              "        vertical-align: top;\n",
              "    }\n",
              "\n",
              "    .dataframe thead th {\n",
              "        text-align: right;\n",
              "    }\n",
              "</style>\n",
              "<table border=\"1\" class=\"dataframe\">\n",
              "  <thead>\n",
              "    <tr style=\"text-align: right;\">\n",
              "      <th></th>\n",
              "      <th>fixed acidity</th>\n",
              "      <th>volatile acidity</th>\n",
              "      <th>citric acid</th>\n",
              "      <th>residual sugar</th>\n",
              "      <th>chlorides</th>\n",
              "      <th>free sulfur dioxide</th>\n",
              "      <th>total sulfur dioxide</th>\n",
              "      <th>density</th>\n",
              "      <th>pH</th>\n",
              "      <th>sulphates</th>\n",
              "      <th>alcohol</th>\n",
              "      <th>quality</th>\n",
              "    </tr>\n",
              "  </thead>\n",
              "  <tbody>\n",
              "    <tr>\n",
              "      <th>0</th>\n",
              "      <td>7.4</td>\n",
              "      <td>0.70</td>\n",
              "      <td>0.00</td>\n",
              "      <td>1.9</td>\n",
              "      <td>0.076</td>\n",
              "      <td>11.0</td>\n",
              "      <td>34.0</td>\n",
              "      <td>0.9978</td>\n",
              "      <td>3.51</td>\n",
              "      <td>0.56</td>\n",
              "      <td>9.4</td>\n",
              "      <td>5</td>\n",
              "    </tr>\n",
              "    <tr>\n",
              "      <th>1</th>\n",
              "      <td>7.8</td>\n",
              "      <td>0.88</td>\n",
              "      <td>0.00</td>\n",
              "      <td>2.6</td>\n",
              "      <td>0.098</td>\n",
              "      <td>25.0</td>\n",
              "      <td>67.0</td>\n",
              "      <td>0.9968</td>\n",
              "      <td>3.20</td>\n",
              "      <td>0.68</td>\n",
              "      <td>9.8</td>\n",
              "      <td>5</td>\n",
              "    </tr>\n",
              "    <tr>\n",
              "      <th>2</th>\n",
              "      <td>7.8</td>\n",
              "      <td>0.76</td>\n",
              "      <td>0.04</td>\n",
              "      <td>2.3</td>\n",
              "      <td>0.092</td>\n",
              "      <td>15.0</td>\n",
              "      <td>54.0</td>\n",
              "      <td>0.9970</td>\n",
              "      <td>3.26</td>\n",
              "      <td>0.65</td>\n",
              "      <td>9.8</td>\n",
              "      <td>5</td>\n",
              "    </tr>\n",
              "    <tr>\n",
              "      <th>3</th>\n",
              "      <td>11.2</td>\n",
              "      <td>0.28</td>\n",
              "      <td>0.56</td>\n",
              "      <td>1.9</td>\n",
              "      <td>0.075</td>\n",
              "      <td>17.0</td>\n",
              "      <td>60.0</td>\n",
              "      <td>0.9980</td>\n",
              "      <td>3.16</td>\n",
              "      <td>0.58</td>\n",
              "      <td>9.8</td>\n",
              "      <td>6</td>\n",
              "    </tr>\n",
              "    <tr>\n",
              "      <th>4</th>\n",
              "      <td>7.4</td>\n",
              "      <td>0.70</td>\n",
              "      <td>0.00</td>\n",
              "      <td>1.9</td>\n",
              "      <td>0.076</td>\n",
              "      <td>11.0</td>\n",
              "      <td>34.0</td>\n",
              "      <td>0.9978</td>\n",
              "      <td>3.51</td>\n",
              "      <td>0.56</td>\n",
              "      <td>9.4</td>\n",
              "      <td>5</td>\n",
              "    </tr>\n",
              "  </tbody>\n",
              "</table>\n",
              "</div>"
            ],
            "text/plain": [
              "   fixed acidity  volatile acidity  citric acid  ...  sulphates  alcohol  quality\n",
              "0            7.4              0.70         0.00  ...       0.56      9.4        5\n",
              "1            7.8              0.88         0.00  ...       0.68      9.8        5\n",
              "2            7.8              0.76         0.04  ...       0.65      9.8        5\n",
              "3           11.2              0.28         0.56  ...       0.58      9.8        6\n",
              "4            7.4              0.70         0.00  ...       0.56      9.4        5\n",
              "\n",
              "[5 rows x 12 columns]"
            ]
          },
          "metadata": {
            "tags": []
          },
          "execution_count": 5
        }
      ]
    },
    {
      "cell_type": "code",
      "metadata": {
        "id": "bSaashDrvutJ"
      },
      "source": [
        "## exploratory data analysis"
      ],
      "execution_count": 9,
      "outputs": []
    },
    {
      "cell_type": "code",
      "metadata": {
        "colab": {
          "base_uri": "https://localhost:8080/"
        },
        "id": "ajvoyUgfm6Gk",
        "outputId": "c7db382e-9ec2-4139-fb5c-a319ed8aa68d"
      },
      "source": [
        "df.info()"
      ],
      "execution_count": 6,
      "outputs": [
        {
          "output_type": "stream",
          "text": [
            "<class 'pandas.core.frame.DataFrame'>\n",
            "RangeIndex: 1599 entries, 0 to 1598\n",
            "Data columns (total 12 columns):\n",
            " #   Column                Non-Null Count  Dtype  \n",
            "---  ------                --------------  -----  \n",
            " 0   fixed acidity         1599 non-null   float64\n",
            " 1   volatile acidity      1599 non-null   float64\n",
            " 2   citric acid           1599 non-null   float64\n",
            " 3   residual sugar        1599 non-null   float64\n",
            " 4   chlorides             1599 non-null   float64\n",
            " 5   free sulfur dioxide   1599 non-null   float64\n",
            " 6   total sulfur dioxide  1599 non-null   float64\n",
            " 7   density               1599 non-null   float64\n",
            " 8   pH                    1599 non-null   float64\n",
            " 9   sulphates             1599 non-null   float64\n",
            " 10  alcohol               1599 non-null   float64\n",
            " 11  quality               1599 non-null   int64  \n",
            "dtypes: float64(11), int64(1)\n",
            "memory usage: 150.0 KB\n"
          ],
          "name": "stdout"
        }
      ]
    },
    {
      "cell_type": "code",
      "metadata": {
        "colab": {
          "base_uri": "https://localhost:8080/",
          "height": 314
        },
        "id": "UkaBByQbpZfl",
        "outputId": "d59e4a89-1ad9-421b-c7a8-5c3dda063eda"
      },
      "source": [
        "df.describe()"
      ],
      "execution_count": 7,
      "outputs": [
        {
          "output_type": "execute_result",
          "data": {
            "text/html": [
              "<div>\n",
              "<style scoped>\n",
              "    .dataframe tbody tr th:only-of-type {\n",
              "        vertical-align: middle;\n",
              "    }\n",
              "\n",
              "    .dataframe tbody tr th {\n",
              "        vertical-align: top;\n",
              "    }\n",
              "\n",
              "    .dataframe thead th {\n",
              "        text-align: right;\n",
              "    }\n",
              "</style>\n",
              "<table border=\"1\" class=\"dataframe\">\n",
              "  <thead>\n",
              "    <tr style=\"text-align: right;\">\n",
              "      <th></th>\n",
              "      <th>fixed acidity</th>\n",
              "      <th>volatile acidity</th>\n",
              "      <th>citric acid</th>\n",
              "      <th>residual sugar</th>\n",
              "      <th>chlorides</th>\n",
              "      <th>free sulfur dioxide</th>\n",
              "      <th>total sulfur dioxide</th>\n",
              "      <th>density</th>\n",
              "      <th>pH</th>\n",
              "      <th>sulphates</th>\n",
              "      <th>alcohol</th>\n",
              "      <th>quality</th>\n",
              "    </tr>\n",
              "  </thead>\n",
              "  <tbody>\n",
              "    <tr>\n",
              "      <th>count</th>\n",
              "      <td>1599.000000</td>\n",
              "      <td>1599.000000</td>\n",
              "      <td>1599.000000</td>\n",
              "      <td>1599.000000</td>\n",
              "      <td>1599.000000</td>\n",
              "      <td>1599.000000</td>\n",
              "      <td>1599.000000</td>\n",
              "      <td>1599.000000</td>\n",
              "      <td>1599.000000</td>\n",
              "      <td>1599.000000</td>\n",
              "      <td>1599.000000</td>\n",
              "      <td>1599.000000</td>\n",
              "    </tr>\n",
              "    <tr>\n",
              "      <th>mean</th>\n",
              "      <td>8.319637</td>\n",
              "      <td>0.527821</td>\n",
              "      <td>0.270976</td>\n",
              "      <td>2.538806</td>\n",
              "      <td>0.087467</td>\n",
              "      <td>15.874922</td>\n",
              "      <td>46.467792</td>\n",
              "      <td>0.996747</td>\n",
              "      <td>3.311113</td>\n",
              "      <td>0.658149</td>\n",
              "      <td>10.422983</td>\n",
              "      <td>5.636023</td>\n",
              "    </tr>\n",
              "    <tr>\n",
              "      <th>std</th>\n",
              "      <td>1.741096</td>\n",
              "      <td>0.179060</td>\n",
              "      <td>0.194801</td>\n",
              "      <td>1.409928</td>\n",
              "      <td>0.047065</td>\n",
              "      <td>10.460157</td>\n",
              "      <td>32.895324</td>\n",
              "      <td>0.001887</td>\n",
              "      <td>0.154386</td>\n",
              "      <td>0.169507</td>\n",
              "      <td>1.065668</td>\n",
              "      <td>0.807569</td>\n",
              "    </tr>\n",
              "    <tr>\n",
              "      <th>min</th>\n",
              "      <td>4.600000</td>\n",
              "      <td>0.120000</td>\n",
              "      <td>0.000000</td>\n",
              "      <td>0.900000</td>\n",
              "      <td>0.012000</td>\n",
              "      <td>1.000000</td>\n",
              "      <td>6.000000</td>\n",
              "      <td>0.990070</td>\n",
              "      <td>2.740000</td>\n",
              "      <td>0.330000</td>\n",
              "      <td>8.400000</td>\n",
              "      <td>3.000000</td>\n",
              "    </tr>\n",
              "    <tr>\n",
              "      <th>25%</th>\n",
              "      <td>7.100000</td>\n",
              "      <td>0.390000</td>\n",
              "      <td>0.090000</td>\n",
              "      <td>1.900000</td>\n",
              "      <td>0.070000</td>\n",
              "      <td>7.000000</td>\n",
              "      <td>22.000000</td>\n",
              "      <td>0.995600</td>\n",
              "      <td>3.210000</td>\n",
              "      <td>0.550000</td>\n",
              "      <td>9.500000</td>\n",
              "      <td>5.000000</td>\n",
              "    </tr>\n",
              "    <tr>\n",
              "      <th>50%</th>\n",
              "      <td>7.900000</td>\n",
              "      <td>0.520000</td>\n",
              "      <td>0.260000</td>\n",
              "      <td>2.200000</td>\n",
              "      <td>0.079000</td>\n",
              "      <td>14.000000</td>\n",
              "      <td>38.000000</td>\n",
              "      <td>0.996750</td>\n",
              "      <td>3.310000</td>\n",
              "      <td>0.620000</td>\n",
              "      <td>10.200000</td>\n",
              "      <td>6.000000</td>\n",
              "    </tr>\n",
              "    <tr>\n",
              "      <th>75%</th>\n",
              "      <td>9.200000</td>\n",
              "      <td>0.640000</td>\n",
              "      <td>0.420000</td>\n",
              "      <td>2.600000</td>\n",
              "      <td>0.090000</td>\n",
              "      <td>21.000000</td>\n",
              "      <td>62.000000</td>\n",
              "      <td>0.997835</td>\n",
              "      <td>3.400000</td>\n",
              "      <td>0.730000</td>\n",
              "      <td>11.100000</td>\n",
              "      <td>6.000000</td>\n",
              "    </tr>\n",
              "    <tr>\n",
              "      <th>max</th>\n",
              "      <td>15.900000</td>\n",
              "      <td>1.580000</td>\n",
              "      <td>1.000000</td>\n",
              "      <td>15.500000</td>\n",
              "      <td>0.611000</td>\n",
              "      <td>72.000000</td>\n",
              "      <td>289.000000</td>\n",
              "      <td>1.003690</td>\n",
              "      <td>4.010000</td>\n",
              "      <td>2.000000</td>\n",
              "      <td>14.900000</td>\n",
              "      <td>8.000000</td>\n",
              "    </tr>\n",
              "  </tbody>\n",
              "</table>\n",
              "</div>"
            ],
            "text/plain": [
              "       fixed acidity  volatile acidity  ...      alcohol      quality\n",
              "count    1599.000000       1599.000000  ...  1599.000000  1599.000000\n",
              "mean        8.319637          0.527821  ...    10.422983     5.636023\n",
              "std         1.741096          0.179060  ...     1.065668     0.807569\n",
              "min         4.600000          0.120000  ...     8.400000     3.000000\n",
              "25%         7.100000          0.390000  ...     9.500000     5.000000\n",
              "50%         7.900000          0.520000  ...    10.200000     6.000000\n",
              "75%         9.200000          0.640000  ...    11.100000     6.000000\n",
              "max        15.900000          1.580000  ...    14.900000     8.000000\n",
              "\n",
              "[8 rows x 12 columns]"
            ]
          },
          "metadata": {
            "tags": []
          },
          "execution_count": 7
        }
      ]
    },
    {
      "cell_type": "code",
      "metadata": {
        "colab": {
          "base_uri": "https://localhost:8080/"
        },
        "id": "x_N14ioYwoji",
        "outputId": "cf6e581d-1bec-4581-f48e-e1e273f48f55"
      },
      "source": [
        "df.columns"
      ],
      "execution_count": 15,
      "outputs": [
        {
          "output_type": "execute_result",
          "data": {
            "text/plain": [
              "Index(['fixed acidity', 'volatile acidity', 'citric acid', 'residual sugar',\n",
              "       'chlorides', 'free sulfur dioxide', 'total sulfur dioxide', 'density',\n",
              "       'pH', 'sulphates', 'alcohol', 'quality'],\n",
              "      dtype='object')"
            ]
          },
          "metadata": {
            "tags": []
          },
          "execution_count": 15
        }
      ]
    },
    {
      "cell_type": "code",
      "metadata": {
        "colab": {
          "base_uri": "https://localhost:8080/",
          "height": 405
        },
        "id": "jCg6jMyBwC5Z",
        "outputId": "7e43b1b1-9777-4fc9-8362-14561ceaa860"
      },
      "source": [
        "plt.figure(figsize=(10,6))\n",
        "sns.kdeplot(df['fixed acidity'],hue=df['quality'])\n",
        "#Fixed Activity data follows the normal distribution"
      ],
      "execution_count": 17,
      "outputs": [
        {
          "output_type": "execute_result",
          "data": {
            "text/plain": [
              "<matplotlib.axes._subplots.AxesSubplot at 0x7fca159f76d0>"
            ]
          },
          "metadata": {
            "tags": []
          },
          "execution_count": 17
        },
        {
          "output_type": "display_data",
          "data": {
            "image/png": "[encoded data removed]",
            "text/plain": [
              "<Figure size 720x432 with 1 Axes>"
            ]
          },
          "metadata": {
            "tags": [],
            "needs_background": "light"
          }
        }
      ]
    },
    {
      "cell_type": "code",
      "metadata": {
        "colab": {
          "base_uri": "https://localhost:8080/",
          "height": 405
        },
        "id": "5I5nPNjFwmQ8",
        "outputId": "1cf99226-adf0-4c30-f6d6-ef69b48a7879"
      },
      "source": [
        "plt.figure(figsize=(10,6))\n",
        "sns.distplot(df['volatile acidity'])\n",
        "## volatile acidity follows normal distribution"
      ],
      "execution_count": 20,
      "outputs": [
        {
          "output_type": "execute_result",
          "data": {
            "text/plain": [
              "<matplotlib.axes._subplots.AxesSubplot at 0x7fca0d03e9d0>"
            ]
          },
          "metadata": {
            "tags": []
          },
          "execution_count": 20
        },
        {
          "output_type": "display_data",
          "data": {
            "image/png": "[encoded data removed]",
            "text/plain": [
              "<Figure size 720x432 with 1 Axes>"
            ]
          },
          "metadata": {
            "tags": [],
            "needs_background": "light"
          }
        }
      ]
    },
    {
      "cell_type": "code",
      "metadata": {
        "colab": {
          "base_uri": "https://localhost:8080/",
          "height": 283
        },
        "id": "pBKF0rwnxEpE",
        "outputId": "cf5a7f8e-f09c-436a-8be3-ee299850ac9b"
      },
      "source": [
        "df.groupby('quality').mean()"
      ],
      "execution_count": 21,
      "outputs": [
        {
          "output_type": "execute_result",
          "data": {
            "text/html": [
              "<div>\n",
              "<style scoped>\n",
              "    .dataframe tbody tr th:only-of-type {\n",
              "        vertical-align: middle;\n",
              "    }\n",
              "\n",
              "    .dataframe tbody tr th {\n",
              "        vertical-align: top;\n",
              "    }\n",
              "\n",
              "    .dataframe thead th {\n",
              "        text-align: right;\n",
              "    }\n",
              "</style>\n",
              "<table border=\"1\" class=\"dataframe\">\n",
              "  <thead>\n",
              "    <tr style=\"text-align: right;\">\n",
              "      <th></th>\n",
              "      <th>fixed acidity</th>\n",
              "      <th>volatile acidity</th>\n",
              "      <th>citric acid</th>\n",
              "      <th>residual sugar</th>\n",
              "      <th>chlorides</th>\n",
              "      <th>free sulfur dioxide</th>\n",
              "      <th>total sulfur dioxide</th>\n",
              "      <th>density</th>\n",
              "      <th>pH</th>\n",
              "      <th>sulphates</th>\n",
              "      <th>alcohol</th>\n",
              "    </tr>\n",
              "    <tr>\n",
              "      <th>quality</th>\n",
              "      <th></th>\n",
              "      <th></th>\n",
              "      <th></th>\n",
              "      <th></th>\n",
              "      <th></th>\n",
              "      <th></th>\n",
              "      <th></th>\n",
              "      <th></th>\n",
              "      <th></th>\n",
              "      <th></th>\n",
              "      <th></th>\n",
              "    </tr>\n",
              "  </thead>\n",
              "  <tbody>\n",
              "    <tr>\n",
              "      <th>3</th>\n",
              "      <td>8.360000</td>\n",
              "      <td>0.884500</td>\n",
              "      <td>0.171000</td>\n",
              "      <td>2.635000</td>\n",
              "      <td>0.122500</td>\n",
              "      <td>11.000000</td>\n",
              "      <td>24.900000</td>\n",
              "      <td>0.997464</td>\n",
              "      <td>3.398000</td>\n",
              "      <td>0.570000</td>\n",
              "      <td>9.955000</td>\n",
              "    </tr>\n",
              "    <tr>\n",
              "      <th>4</th>\n",
              "      <td>7.779245</td>\n",
              "      <td>0.693962</td>\n",
              "      <td>0.174151</td>\n",
              "      <td>2.694340</td>\n",
              "      <td>0.090679</td>\n",
              "      <td>12.264151</td>\n",
              "      <td>36.245283</td>\n",
              "      <td>0.996542</td>\n",
              "      <td>3.381509</td>\n",
              "      <td>0.596415</td>\n",
              "      <td>10.265094</td>\n",
              "    </tr>\n",
              "    <tr>\n",
              "      <th>5</th>\n",
              "      <td>8.167254</td>\n",
              "      <td>0.577041</td>\n",
              "      <td>0.243686</td>\n",
              "      <td>2.528855</td>\n",
              "      <td>0.092736</td>\n",
              "      <td>16.983847</td>\n",
              "      <td>56.513950</td>\n",
              "      <td>0.997104</td>\n",
              "      <td>3.304949</td>\n",
              "      <td>0.620969</td>\n",
              "      <td>9.899706</td>\n",
              "    </tr>\n",
              "    <tr>\n",
              "      <th>6</th>\n",
              "      <td>8.347179</td>\n",
              "      <td>0.497484</td>\n",
              "      <td>0.273824</td>\n",
              "      <td>2.477194</td>\n",
              "      <td>0.084956</td>\n",
              "      <td>15.711599</td>\n",
              "      <td>40.869906</td>\n",
              "      <td>0.996615</td>\n",
              "      <td>3.318072</td>\n",
              "      <td>0.675329</td>\n",
              "      <td>10.629519</td>\n",
              "    </tr>\n",
              "    <tr>\n",
              "      <th>7</th>\n",
              "      <td>8.872362</td>\n",
              "      <td>0.403920</td>\n",
              "      <td>0.375176</td>\n",
              "      <td>2.720603</td>\n",
              "      <td>0.076588</td>\n",
              "      <td>14.045226</td>\n",
              "      <td>35.020101</td>\n",
              "      <td>0.996104</td>\n",
              "      <td>3.290754</td>\n",
              "      <td>0.741256</td>\n",
              "      <td>11.465913</td>\n",
              "    </tr>\n",
              "    <tr>\n",
              "      <th>8</th>\n",
              "      <td>8.566667</td>\n",
              "      <td>0.423333</td>\n",
              "      <td>0.391111</td>\n",
              "      <td>2.577778</td>\n",
              "      <td>0.068444</td>\n",
              "      <td>13.277778</td>\n",
              "      <td>33.444444</td>\n",
              "      <td>0.995212</td>\n",
              "      <td>3.267222</td>\n",
              "      <td>0.767778</td>\n",
              "      <td>12.094444</td>\n",
              "    </tr>\n",
              "  </tbody>\n",
              "</table>\n",
              "</div>"
            ],
            "text/plain": [
              "         fixed acidity  volatile acidity  ...  sulphates    alcohol\n",
              "quality                                   ...                      \n",
              "3             8.360000          0.884500  ...   0.570000   9.955000\n",
              "4             7.779245          0.693962  ...   0.596415  10.265094\n",
              "5             8.167254          0.577041  ...   0.620969   9.899706\n",
              "6             8.347179          0.497484  ...   0.675329  10.629519\n",
              "7             8.872362          0.403920  ...   0.741256  11.465913\n",
              "8             8.566667          0.423333  ...   0.767778  12.094444\n",
              "\n",
              "[6 rows x 11 columns]"
            ]
          },
          "metadata": {
            "tags": []
          },
          "execution_count": 21
        }
      ]
    },
    {
      "cell_type": "code",
      "metadata": {
        "id": "ZlGuv2b_y7L0"
      },
      "source": [
        "#Observations:\n",
        "\n",
        "#Fixed acidity falls in same range for all quality level.\n",
        "#Lower the volatile acidity level, higher the quality of wine.\n",
        "#Higher the citric acid level, higher the quality of wine\n",
        "#There is no significant difference in residual sugar value between different quality levels.\n",
        "#Lower the chlorides level, higher the quality level of wine.\n",
        "#There is relationship between free sulfur dioxide and total sulfur dioxide.\n",
        "#Lower the pH value, higher the quality level of wine.\n",
        "#Higher the sulphates level, quality level of wine increases.\n",
        "#Alochol values falls in same range for all alcohol quality level"
      ],
      "execution_count": 22,
      "outputs": []
    },
    {
      "cell_type": "code",
      "metadata": {
        "colab": {
          "base_uri": "https://localhost:8080/",
          "height": 472
        },
        "id": "F4B6LwZzzMLR",
        "outputId": "796d33c9-bf00-4dfd-bb2b-b0bac2966deb"
      },
      "source": [
        "corr = df.corr()\n",
        "corr"
      ],
      "execution_count": 23,
      "outputs": [
        {
          "output_type": "execute_result",
          "data": {
            "text/html": [
              "<div>\n",
              "<style scoped>\n",
              "    .dataframe tbody tr th:only-of-type {\n",
              "        vertical-align: middle;\n",
              "    }\n",
              "\n",
              "    .dataframe tbody tr th {\n",
              "        vertical-align: top;\n",
              "    }\n",
              "\n",
              "    .dataframe thead th {\n",
              "        text-align: right;\n",
              "    }\n",
              "</style>\n",
              "<table border=\"1\" class=\"dataframe\">\n",
              "  <thead>\n",
              "    <tr style=\"text-align: right;\">\n",
              "      <th></th>\n",
              "      <th>fixed acidity</th>\n",
              "      <th>volatile acidity</th>\n",
              "      <th>citric acid</th>\n",
              "      <th>residual sugar</th>\n",
              "      <th>chlorides</th>\n",
              "      <th>free sulfur dioxide</th>\n",
              "      <th>total sulfur dioxide</th>\n",
              "      <th>density</th>\n",
              "      <th>pH</th>\n",
              "      <th>sulphates</th>\n",
              "      <th>alcohol</th>\n",
              "      <th>quality</th>\n",
              "    </tr>\n",
              "  </thead>\n",
              "  <tbody>\n",
              "    <tr>\n",
              "      <th>fixed acidity</th>\n",
              "      <td>1.000000</td>\n",
              "      <td>-0.256131</td>\n",
              "      <td>0.671703</td>\n",
              "      <td>0.114777</td>\n",
              "      <td>0.093705</td>\n",
              "      <td>-0.153794</td>\n",
              "      <td>-0.113181</td>\n",
              "      <td>0.668047</td>\n",
              "      <td>-0.682978</td>\n",
              "      <td>0.183006</td>\n",
              "      <td>-0.061668</td>\n",
              "      <td>0.124052</td>\n",
              "    </tr>\n",
              "    <tr>\n",
              "      <th>volatile acidity</th>\n",
              "      <td>-0.256131</td>\n",
              "      <td>1.000000</td>\n",
              "      <td>-0.552496</td>\n",
              "      <td>0.001918</td>\n",
              "      <td>0.061298</td>\n",
              "      <td>-0.010504</td>\n",
              "      <td>0.076470</td>\n",
              "      <td>0.022026</td>\n",
              "      <td>0.234937</td>\n",
              "      <td>-0.260987</td>\n",
              "      <td>-0.202288</td>\n",
              "      <td>-0.390558</td>\n",
              "    </tr>\n",
              "    <tr>\n",
              "      <th>citric acid</th>\n",
              "      <td>0.671703</td>\n",
              "      <td>-0.552496</td>\n",
              "      <td>1.000000</td>\n",
              "      <td>0.143577</td>\n",
              "      <td>0.203823</td>\n",
              "      <td>-0.060978</td>\n",
              "      <td>0.035533</td>\n",
              "      <td>0.364947</td>\n",
              "      <td>-0.541904</td>\n",
              "      <td>0.312770</td>\n",
              "      <td>0.109903</td>\n",
              "      <td>0.226373</td>\n",
              "    </tr>\n",
              "    <tr>\n",
              "      <th>residual sugar</th>\n",
              "      <td>0.114777</td>\n",
              "      <td>0.001918</td>\n",
              "      <td>0.143577</td>\n",
              "      <td>1.000000</td>\n",
              "      <td>0.055610</td>\n",
              "      <td>0.187049</td>\n",
              "      <td>0.203028</td>\n",
              "      <td>0.355283</td>\n",
              "      <td>-0.085652</td>\n",
              "      <td>0.005527</td>\n",
              "      <td>0.042075</td>\n",
              "      <td>0.013732</td>\n",
              "    </tr>\n",
              "    <tr>\n",
              "      <th>chlorides</th>\n",
              "      <td>0.093705</td>\n",
              "      <td>0.061298</td>\n",
              "      <td>0.203823</td>\n",
              "      <td>0.055610</td>\n",
              "      <td>1.000000</td>\n",
              "      <td>0.005562</td>\n",
              "      <td>0.047400</td>\n",
              "      <td>0.200632</td>\n",
              "      <td>-0.265026</td>\n",
              "      <td>0.371260</td>\n",
              "      <td>-0.221141</td>\n",
              "      <td>-0.128907</td>\n",
              "    </tr>\n",
              "    <tr>\n",
              "      <th>free sulfur dioxide</th>\n",
              "      <td>-0.153794</td>\n",
              "      <td>-0.010504</td>\n",
              "      <td>-0.060978</td>\n",
              "      <td>0.187049</td>\n",
              "      <td>0.005562</td>\n",
              "      <td>1.000000</td>\n",
              "      <td>0.667666</td>\n",
              "      <td>-0.021946</td>\n",
              "      <td>0.070377</td>\n",
              "      <td>0.051658</td>\n",
              "      <td>-0.069408</td>\n",
              "      <td>-0.050656</td>\n",
              "    </tr>\n",
              "    <tr>\n",
              "      <th>total sulfur dioxide</th>\n",
              "      <td>-0.113181</td>\n",
              "      <td>0.076470</td>\n",
              "      <td>0.035533</td>\n",
              "      <td>0.203028</td>\n",
              "      <td>0.047400</td>\n",
              "      <td>0.667666</td>\n",
              "      <td>1.000000</td>\n",
              "      <td>0.071269</td>\n",
              "      <td>-0.066495</td>\n",
              "      <td>0.042947</td>\n",
              "      <td>-0.205654</td>\n",
              "      <td>-0.185100</td>\n",
              "    </tr>\n",
              "    <tr>\n",
              "      <th>density</th>\n",
              "      <td>0.668047</td>\n",
              "      <td>0.022026</td>\n",
              "      <td>0.364947</td>\n",
              "      <td>0.355283</td>\n",
              "      <td>0.200632</td>\n",
              "      <td>-0.021946</td>\n",
              "      <td>0.071269</td>\n",
              "      <td>1.000000</td>\n",
              "      <td>-0.341699</td>\n",
              "      <td>0.148506</td>\n",
              "      <td>-0.496180</td>\n",
              "      <td>-0.174919</td>\n",
              "    </tr>\n",
              "    <tr>\n",
              "      <th>pH</th>\n",
              "      <td>-0.682978</td>\n",
              "      <td>0.234937</td>\n",
              "      <td>-0.541904</td>\n",
              "      <td>-0.085652</td>\n",
              "      <td>-0.265026</td>\n",
              "      <td>0.070377</td>\n",
              "      <td>-0.066495</td>\n",
              "      <td>-0.341699</td>\n",
              "      <td>1.000000</td>\n",
              "      <td>-0.196648</td>\n",
              "      <td>0.205633</td>\n",
              "      <td>-0.057731</td>\n",
              "    </tr>\n",
              "    <tr>\n",
              "      <th>sulphates</th>\n",
              "      <td>0.183006</td>\n",
              "      <td>-0.260987</td>\n",
              "      <td>0.312770</td>\n",
              "      <td>0.005527</td>\n",
              "      <td>0.371260</td>\n",
              "      <td>0.051658</td>\n",
              "      <td>0.042947</td>\n",
              "      <td>0.148506</td>\n",
              "      <td>-0.196648</td>\n",
              "      <td>1.000000</td>\n",
              "      <td>0.093595</td>\n",
              "      <td>0.251397</td>\n",
              "    </tr>\n",
              "    <tr>\n",
              "      <th>alcohol</th>\n",
              "      <td>-0.061668</td>\n",
              "      <td>-0.202288</td>\n",
              "      <td>0.109903</td>\n",
              "      <td>0.042075</td>\n",
              "      <td>-0.221141</td>\n",
              "      <td>-0.069408</td>\n",
              "      <td>-0.205654</td>\n",
              "      <td>-0.496180</td>\n",
              "      <td>0.205633</td>\n",
              "      <td>0.093595</td>\n",
              "      <td>1.000000</td>\n",
              "      <td>0.476166</td>\n",
              "    </tr>\n",
              "    <tr>\n",
              "      <th>quality</th>\n",
              "      <td>0.124052</td>\n",
              "      <td>-0.390558</td>\n",
              "      <td>0.226373</td>\n",
              "      <td>0.013732</td>\n",
              "      <td>-0.128907</td>\n",
              "      <td>-0.050656</td>\n",
              "      <td>-0.185100</td>\n",
              "      <td>-0.174919</td>\n",
              "      <td>-0.057731</td>\n",
              "      <td>0.251397</td>\n",
              "      <td>0.476166</td>\n",
              "      <td>1.000000</td>\n",
              "    </tr>\n",
              "  </tbody>\n",
              "</table>\n",
              "</div>"
            ],
            "text/plain": [
              "                      fixed acidity  volatile acidity  ...   alcohol   quality\n",
              "fixed acidity              1.000000         -0.256131  ... -0.061668  0.124052\n",
              "volatile acidity          -0.256131          1.000000  ... -0.202288 -0.390558\n",
              "citric acid                0.671703         -0.552496  ...  0.109903  0.226373\n",
              "residual sugar             0.114777          0.001918  ...  0.042075  0.013732\n",
              "chlorides                  0.093705          0.061298  ... -0.221141 -0.128907\n",
              "free sulfur dioxide       -0.153794         -0.010504  ... -0.069408 -0.050656\n",
              "total sulfur dioxide      -0.113181          0.076470  ... -0.205654 -0.185100\n",
              "density                    0.668047          0.022026  ... -0.496180 -0.174919\n",
              "pH                        -0.682978          0.234937  ...  0.205633 -0.057731\n",
              "sulphates                  0.183006         -0.260987  ...  0.093595  0.251397\n",
              "alcohol                   -0.061668         -0.202288  ...  1.000000  0.476166\n",
              "quality                    0.124052         -0.390558  ...  0.476166  1.000000\n",
              "\n",
              "[12 rows x 12 columns]"
            ]
          },
          "metadata": {
            "tags": []
          },
          "execution_count": 23
        }
      ]
    },
    {
      "cell_type": "code",
      "metadata": {
        "colab": {
          "base_uri": "https://localhost:8080/",
          "height": 805
        },
        "id": "ymORI_0qzNDy",
        "outputId": "c4cba59d-b6dd-46bf-a0a4-97c80162b985"
      },
      "source": [
        "plt.figure(figsize=(10,12))\n",
        "sns.heatmap(df.corr())"
      ],
      "execution_count": 24,
      "outputs": [
        {
          "output_type": "execute_result",
          "data": {
            "text/plain": [
              "<matplotlib.axes._subplots.AxesSubplot at 0x7fca0cfe5110>"
            ]
          },
          "metadata": {
            "tags": []
          },
          "execution_count": 24
        },
        {
          "output_type": "display_data",
          "data": {
            "image/png": "[encoded data removed]",
            "text/plain": [
              "<Figure size 720x864 with 2 Axes>"
            ]
          },
          "metadata": {
            "tags": [],
            "needs_background": "light"
          }
        }
      ]
    },
    {
      "cell_type": "code",
      "metadata": {
        "id": "KLoZQTv5zN1B"
      },
      "source": [
        "def correlation(dataset, threshold):\n",
        "    col_corr = set()  # Set of all the names of correlated columns\n",
        "    corr_matrix = dataset.corr()\n",
        "    for i in range(len(corr_matrix.columns)):\n",
        "        for j in range(i):\n",
        "            if abs(corr_matrix.iloc[i, j]) > threshold: # we are interested in absolute coeff value\n",
        "                colname = corr_matrix.columns[i]  # getting the name of column\n",
        "                col_corr.add(colname)\n",
        "    return col_corr"
      ],
      "execution_count": 25,
      "outputs": []
    },
    {
      "cell_type": "code",
      "metadata": {
        "colab": {
          "base_uri": "https://localhost:8080/"
        },
        "id": "liuC65RH0iKl",
        "outputId": "a4f98b65-7463-4724-c04a-c446cec2a9be"
      },
      "source": [
        "correlation(df,0.7)  ##There is collinearity between multiple independent variable"
      ],
      "execution_count": 36,
      "outputs": [
        {
          "output_type": "execute_result",
          "data": {
            "text/plain": [
              "set()"
            ]
          },
          "metadata": {
            "tags": []
          },
          "execution_count": 36
        }
      ]
    },
    {
      "cell_type": "code",
      "metadata": {
        "colab": {
          "base_uri": "https://localhost:8080/",
          "height": 204
        },
        "id": "FGtqMUT40lUk",
        "outputId": "1f4b82fd-eed9-4634-a5df-d662b0774b27"
      },
      "source": [
        "sc = StandardScaler()\n",
        "df_scaled = pd.DataFrame(sc.fit_transform(df.drop('quality',axis=1)),columns=df.columns[:-1])\n",
        "df_scaled.head()"
      ],
      "execution_count": 37,
      "outputs": [
        {
          "output_type": "execute_result",
          "data": {
            "text/html": [
              "<div>\n",
              "<style scoped>\n",
              "    .dataframe tbody tr th:only-of-type {\n",
              "        vertical-align: middle;\n",
              "    }\n",
              "\n",
              "    .dataframe tbody tr th {\n",
              "        vertical-align: top;\n",
              "    }\n",
              "\n",
              "    .dataframe thead th {\n",
              "        text-align: right;\n",
              "    }\n",
              "</style>\n",
              "<table border=\"1\" class=\"dataframe\">\n",
              "  <thead>\n",
              "    <tr style=\"text-align: right;\">\n",
              "      <th></th>\n",
              "      <th>fixed acidity</th>\n",
              "      <th>volatile acidity</th>\n",
              "      <th>citric acid</th>\n",
              "      <th>residual sugar</th>\n",
              "      <th>chlorides</th>\n",
              "      <th>free sulfur dioxide</th>\n",
              "      <th>total sulfur dioxide</th>\n",
              "      <th>density</th>\n",
              "      <th>pH</th>\n",
              "      <th>sulphates</th>\n",
              "      <th>alcohol</th>\n",
              "    </tr>\n",
              "  </thead>\n",
              "  <tbody>\n",
              "    <tr>\n",
              "      <th>0</th>\n",
              "      <td>-0.528360</td>\n",
              "      <td>0.961877</td>\n",
              "      <td>-1.391472</td>\n",
              "      <td>-0.453218</td>\n",
              "      <td>-0.243707</td>\n",
              "      <td>-0.466193</td>\n",
              "      <td>-0.379133</td>\n",
              "      <td>0.558274</td>\n",
              "      <td>1.288643</td>\n",
              "      <td>-0.579207</td>\n",
              "      <td>-0.960246</td>\n",
              "    </tr>\n",
              "    <tr>\n",
              "      <th>1</th>\n",
              "      <td>-0.298547</td>\n",
              "      <td>1.967442</td>\n",
              "      <td>-1.391472</td>\n",
              "      <td>0.043416</td>\n",
              "      <td>0.223875</td>\n",
              "      <td>0.872638</td>\n",
              "      <td>0.624363</td>\n",
              "      <td>0.028261</td>\n",
              "      <td>-0.719933</td>\n",
              "      <td>0.128950</td>\n",
              "      <td>-0.584777</td>\n",
              "    </tr>\n",
              "    <tr>\n",
              "      <th>2</th>\n",
              "      <td>-0.298547</td>\n",
              "      <td>1.297065</td>\n",
              "      <td>-1.186070</td>\n",
              "      <td>-0.169427</td>\n",
              "      <td>0.096353</td>\n",
              "      <td>-0.083669</td>\n",
              "      <td>0.229047</td>\n",
              "      <td>0.134264</td>\n",
              "      <td>-0.331177</td>\n",
              "      <td>-0.048089</td>\n",
              "      <td>-0.584777</td>\n",
              "    </tr>\n",
              "    <tr>\n",
              "      <th>3</th>\n",
              "      <td>1.654856</td>\n",
              "      <td>-1.384443</td>\n",
              "      <td>1.484154</td>\n",
              "      <td>-0.453218</td>\n",
              "      <td>-0.264960</td>\n",
              "      <td>0.107592</td>\n",
              "      <td>0.411500</td>\n",
              "      <td>0.664277</td>\n",
              "      <td>-0.979104</td>\n",
              "      <td>-0.461180</td>\n",
              "      <td>-0.584777</td>\n",
              "    </tr>\n",
              "    <tr>\n",
              "      <th>4</th>\n",
              "      <td>-0.528360</td>\n",
              "      <td>0.961877</td>\n",
              "      <td>-1.391472</td>\n",
              "      <td>-0.453218</td>\n",
              "      <td>-0.243707</td>\n",
              "      <td>-0.466193</td>\n",
              "      <td>-0.379133</td>\n",
              "      <td>0.558274</td>\n",
              "      <td>1.288643</td>\n",
              "      <td>-0.579207</td>\n",
              "      <td>-0.960246</td>\n",
              "    </tr>\n",
              "  </tbody>\n",
              "</table>\n",
              "</div>"
            ],
            "text/plain": [
              "   fixed acidity  volatile acidity  citric acid  ...        pH  sulphates   alcohol\n",
              "0      -0.528360          0.961877    -1.391472  ...  1.288643  -0.579207 -0.960246\n",
              "1      -0.298547          1.967442    -1.391472  ... -0.719933   0.128950 -0.584777\n",
              "2      -0.298547          1.297065    -1.186070  ... -0.331177  -0.048089 -0.584777\n",
              "3       1.654856         -1.384443     1.484154  ... -0.979104  -0.461180 -0.584777\n",
              "4      -0.528360          0.961877    -1.391472  ...  1.288643  -0.579207 -0.960246\n",
              "\n",
              "[5 rows x 11 columns]"
            ]
          },
          "metadata": {
            "tags": []
          },
          "execution_count": 37
        }
      ]
    },
    {
      "cell_type": "code",
      "metadata": {
        "id": "0rZXeynK2X1D"
      },
      "source": [
        "## modelling"
      ],
      "execution_count": 38,
      "outputs": []
    },
    {
      "cell_type": "code",
      "metadata": {
        "id": "yOgyZIIp2tKT"
      },
      "source": [
        "x_train, x_test, y_train, y_test = train_test_split(df_scaled, df['quality'], test_size=0.3, random_state=100)"
      ],
      "execution_count": 40,
      "outputs": []
    },
    {
      "cell_type": "code",
      "metadata": {
        "id": "rwwaLv4S2t7X"
      },
      "source": [
        "def metrics(y_true, y_pred):\n",
        "    print('Confusion Matrix:\\n', confusion_matrix(y_true, y_pred))\n",
        "    print('\\n\\nAccuracy Score:\\n', accuracy_score(y_true, y_pred))\n",
        "    print('\\n\\nClassification Report: \\n', classification_report(y_true, y_pred))\n",
        "\n",
        "\n",
        "def predictions(model,x_train=x_train, x_test=x_test, y_train=y_train, y_test=y_test):\n",
        "        model.fit(x_train, y_train)\n",
        "        #predictions\n",
        "        train_pred = model.predict(x_train)\n",
        "        test_pred = model.predict(x_test)\n",
        "        actual = [y_train, y_test]\n",
        "        pred = [train_pred, test_pred]\n",
        "        for i in range(0,2):\n",
        "            if i==0:\n",
        "                print('----Train Metrics----')\n",
        "            else:\n",
        "                print('----Test Metrics----')\n",
        "            metrics(actual[i], pred[i])"
      ],
      "execution_count": 45,
      "outputs": []
    },
    {
      "cell_type": "code",
      "metadata": {
        "id": "LVcauwym3gzb"
      },
      "source": [
        "## logistic regression"
      ],
      "execution_count": 46,
      "outputs": []
    },
    {
      "cell_type": "code",
      "metadata": {
        "id": "x6ca_x5Q3l2N"
      },
      "source": [
        "lg = LogisticRegression(multi_class='ovr')"
      ],
      "execution_count": 49,
      "outputs": []
    },
    {
      "cell_type": "code",
      "metadata": {
        "colab": {
          "base_uri": "https://localhost:8080/"
        },
        "id": "BO8FxuS43tVk",
        "outputId": "39744cb3-d5aa-4a5d-8071-4f3bdadf9b73"
      },
      "source": [
        "predictions(lg)"
      ],
      "execution_count": 50,
      "outputs": [
        {
          "output_type": "stream",
          "text": [
            "----Train Metrics----\n",
            "Confusion Matrix:\n",
            " [[  1   1   4   1   0   0]\n",
            " [  0   1  21  14   0   0]\n",
            " [  0   0 377 100   0   0]\n",
            " [  0   0 164 268  13   0]\n",
            " [  0   0  10  96  34   0]\n",
            " [  0   0   0   8   6   0]]\n",
            "\n",
            "\n",
            "Accuracy Score:\n",
            " 0.6085790884718498\n",
            "\n",
            "\n",
            "Classification Report: \n",
            "               precision    recall  f1-score   support\n",
            "\n",
            "           3       1.00      0.14      0.25         7\n",
            "           4       0.50      0.03      0.05        36\n",
            "           5       0.65      0.79      0.72       477\n",
            "           6       0.55      0.60      0.58       445\n",
            "           7       0.64      0.24      0.35       140\n",
            "           8       0.00      0.00      0.00        14\n",
            "\n",
            "    accuracy                           0.61      1119\n",
            "   macro avg       0.56      0.30      0.32      1119\n",
            "weighted avg       0.60      0.61      0.58      1119\n",
            "\n",
            "----Test Metrics----\n",
            "Confusion Matrix:\n",
            " [[  0   0   3   0   0   0]\n",
            " [  0   0  10   5   2   0]\n",
            " [  0   0 151  51   2   0]\n",
            " [  0   0  58 125  10   0]\n",
            " [  0   0   3  43  13   0]\n",
            " [  0   0   0   3   1   0]]\n",
            "\n",
            "\n",
            "Accuracy Score:\n",
            " 0.6020833333333333\n",
            "\n",
            "\n",
            "Classification Report: \n",
            "               precision    recall  f1-score   support\n",
            "\n",
            "           3       0.00      0.00      0.00         3\n",
            "           4       0.00      0.00      0.00        17\n",
            "           5       0.67      0.74      0.70       204\n",
            "           6       0.55      0.65      0.60       193\n",
            "           7       0.46      0.22      0.30        59\n",
            "           8       0.00      0.00      0.00         4\n",
            "\n",
            "    accuracy                           0.60       480\n",
            "   macro avg       0.28      0.27      0.27       480\n",
            "weighted avg       0.56      0.60      0.58       480\n",
            "\n"
          ],
          "name": "stdout"
        }
      ]
    },
    {
      "cell_type": "code",
      "metadata": {
        "id": "CgLw-ISS3yX8"
      },
      "source": [
        "knn = KNeighborsClassifier()"
      ],
      "execution_count": 51,
      "outputs": []
    },
    {
      "cell_type": "code",
      "metadata": {
        "colab": {
          "base_uri": "https://localhost:8080/"
        },
        "id": "98cYelBW40v0",
        "outputId": "fbbeb439-a37c-4cfd-f022-0eb68a3e6e69"
      },
      "source": [
        "predictions(knn)"
      ],
      "execution_count": 53,
      "outputs": [
        {
          "output_type": "stream",
          "text": [
            "----Train Metrics----\n",
            "Confusion Matrix:\n",
            " [[  3   0   2   2   0   0]\n",
            " [  0   2  22  12   0   0]\n",
            " [  2   3 386  80   5   1]\n",
            " [  0   2 126 293  23   1]\n",
            " [  0   0  18  52  69   1]\n",
            " [  0   0   0   8   4   2]]\n",
            "\n",
            "\n",
            "Accuracy Score:\n",
            " 0.6747095621090259\n",
            "\n",
            "\n",
            "Classification Report: \n",
            "               precision    recall  f1-score   support\n",
            "\n",
            "           3       0.60      0.43      0.50         7\n",
            "           4       0.29      0.06      0.09        36\n",
            "           5       0.70      0.81      0.75       477\n",
            "           6       0.66      0.66      0.66       445\n",
            "           7       0.68      0.49      0.57       140\n",
            "           8       0.40      0.14      0.21        14\n",
            "\n",
            "    accuracy                           0.67      1119\n",
            "   macro avg       0.55      0.43      0.46      1119\n",
            "weighted avg       0.66      0.67      0.66      1119\n",
            "\n",
            "----Test Metrics----\n",
            "Confusion Matrix:\n",
            " [[  0   0   2   1   0   0]\n",
            " [  0   1  10   5   1   0]\n",
            " [  0   2 143  52   7   0]\n",
            " [  0   2  61 106  24   0]\n",
            " [  0   2   8  24  25   0]\n",
            " [  0   0   1   0   3   0]]\n",
            "\n",
            "\n",
            "Accuracy Score:\n",
            " 0.5729166666666666\n",
            "\n",
            "\n",
            "Classification Report: \n",
            "               precision    recall  f1-score   support\n",
            "\n",
            "           3       0.00      0.00      0.00         3\n",
            "           4       0.14      0.06      0.08        17\n",
            "           5       0.64      0.70      0.67       204\n",
            "           6       0.56      0.55      0.56       193\n",
            "           7       0.42      0.42      0.42        59\n",
            "           8       0.00      0.00      0.00         4\n",
            "\n",
            "    accuracy                           0.57       480\n",
            "   macro avg       0.29      0.29      0.29       480\n",
            "weighted avg       0.55      0.57      0.56       480\n",
            "\n"
          ],
          "name": "stdout"
        }
      ]
    },
    {
      "cell_type": "code",
      "metadata": {
        "colab": {
          "base_uri": "https://localhost:8080/"
        },
        "id": "dpC9hdGyA4Xr",
        "outputId": "7f9a2f1b-c09c-4b31-cd47-dc9b27713ca6"
      },
      "source": [
        "nb = GaussianNB()\n",
        "predictions(nb)"
      ],
      "execution_count": 98,
      "outputs": [
        {
          "output_type": "stream",
          "text": [
            "----Train Metrics----\n",
            "Confusion Matrix:\n",
            " [[  3   1   2   1   0   0]\n",
            " [  1   6  19  10   0   0]\n",
            " [  3  20 322 113  19   0]\n",
            " [  0  12 135 216  77   5]\n",
            " [  0   1   8  44  82   5]\n",
            " [  0   0   0   1  10   3]]\n",
            "\n",
            "\n",
            "Accuracy Score:\n",
            " 0.5647899910634495\n",
            "\n",
            "\n",
            "Classification Report: \n",
            "               precision    recall  f1-score   support\n",
            "\n",
            "           3       0.43      0.43      0.43         7\n",
            "           4       0.15      0.17      0.16        36\n",
            "           5       0.66      0.68      0.67       477\n",
            "           6       0.56      0.49      0.52       445\n",
            "           7       0.44      0.59      0.50       140\n",
            "           8       0.23      0.21      0.22        14\n",
            "\n",
            "    accuracy                           0.56      1119\n",
            "   macro avg       0.41      0.43      0.42      1119\n",
            "weighted avg       0.57      0.56      0.57      1119\n",
            "\n",
            "----Test Metrics----\n",
            "Confusion Matrix:\n",
            " [[  0   0   3   0   0   0]\n",
            " [  0   1   8   8   0   0]\n",
            " [  1   5 140  49   9   0]\n",
            " [  0   4  55  80  51   3]\n",
            " [  0   0   3  21  33   2]\n",
            " [  0   0   0   2   2   0]]\n",
            "\n",
            "\n",
            "Accuracy Score:\n",
            " 0.5291666666666667\n",
            "\n",
            "\n",
            "Classification Report: \n",
            "               precision    recall  f1-score   support\n",
            "\n",
            "           3       0.00      0.00      0.00         3\n",
            "           4       0.10      0.06      0.07        17\n",
            "           5       0.67      0.69      0.68       204\n",
            "           6       0.50      0.41      0.45       193\n",
            "           7       0.35      0.56      0.43        59\n",
            "           8       0.00      0.00      0.00         4\n",
            "\n",
            "    accuracy                           0.53       480\n",
            "   macro avg       0.27      0.29      0.27       480\n",
            "weighted avg       0.53      0.53      0.53       480\n",
            "\n"
          ],
          "name": "stdout"
        }
      ]
    },
    {
      "cell_type": "code",
      "metadata": {
        "colab": {
          "base_uri": "https://localhost:8080/"
        },
        "id": "USD3oKFnA5dV",
        "outputId": "7bd70ba7-60c9-4065-c9bd-66f45abff58a"
      },
      "source": [
        "dtree = DecisionTreeClassifier()\n",
        "predictions(dtree)\n"
      ],
      "execution_count": 99,
      "outputs": [
        {
          "output_type": "stream",
          "text": [
            "----Train Metrics----\n",
            "Confusion Matrix:\n",
            " [[  7   0   0   0   0   0]\n",
            " [  0  36   0   0   0   0]\n",
            " [  0   0 477   0   0   0]\n",
            " [  0   0   0 445   0   0]\n",
            " [  0   0   0   0 140   0]\n",
            " [  0   0   0   0   0  14]]\n",
            "\n",
            "\n",
            "Accuracy Score:\n",
            " 1.0\n",
            "\n",
            "\n",
            "Classification Report: \n",
            "               precision    recall  f1-score   support\n",
            "\n",
            "           3       1.00      1.00      1.00         7\n",
            "           4       1.00      1.00      1.00        36\n",
            "           5       1.00      1.00      1.00       477\n",
            "           6       1.00      1.00      1.00       445\n",
            "           7       1.00      1.00      1.00       140\n",
            "           8       1.00      1.00      1.00        14\n",
            "\n",
            "    accuracy                           1.00      1119\n",
            "   macro avg       1.00      1.00      1.00      1119\n",
            "weighted avg       1.00      1.00      1.00      1119\n",
            "\n",
            "----Test Metrics----\n",
            "Confusion Matrix:\n",
            " [[  0   1   1   1   0   0]\n",
            " [  1   2   9   4   1   0]\n",
            " [  0   7 141  41  15   0]\n",
            " [  0   4  47 120  17   5]\n",
            " [  0   4   6  20  29   0]\n",
            " [  0   0   0   2   2   0]]\n",
            "\n",
            "\n",
            "Accuracy Score:\n",
            " 0.6083333333333333\n",
            "\n",
            "\n",
            "Classification Report: \n",
            "               precision    recall  f1-score   support\n",
            "\n",
            "           3       0.00      0.00      0.00         3\n",
            "           4       0.11      0.12      0.11        17\n",
            "           5       0.69      0.69      0.69       204\n",
            "           6       0.64      0.62      0.63       193\n",
            "           7       0.45      0.49      0.47        59\n",
            "           8       0.00      0.00      0.00         4\n",
            "\n",
            "    accuracy                           0.61       480\n",
            "   macro avg       0.32      0.32      0.32       480\n",
            "weighted avg       0.61      0.61      0.61       480\n",
            "\n"
          ],
          "name": "stdout"
        }
      ]
    },
    {
      "cell_type": "code",
      "metadata": {
        "colab": {
          "base_uri": "https://localhost:8080/"
        },
        "id": "s1oyaNpgA6XX",
        "outputId": "7391ef72-271c-47df-97e6-c6b0ec11e0d8"
      },
      "source": [
        "bag = BaggingClassifier()\n",
        "predictions(bag)"
      ],
      "execution_count": 100,
      "outputs": [
        {
          "output_type": "stream",
          "text": [
            "----Train Metrics----\n",
            "Confusion Matrix:\n",
            " [[  7   0   0   0   0   0]\n",
            " [  0  32   2   2   0   0]\n",
            " [  0   0 477   0   0   0]\n",
            " [  0   0  12 433   0   0]\n",
            " [  0   0   0   2 138   0]\n",
            " [  0   0   0   0   1  13]]\n",
            "\n",
            "\n",
            "Accuracy Score:\n",
            " 0.9830205540661304\n",
            "\n",
            "\n",
            "Classification Report: \n",
            "               precision    recall  f1-score   support\n",
            "\n",
            "           3       1.00      1.00      1.00         7\n",
            "           4       1.00      0.89      0.94        36\n",
            "           5       0.97      1.00      0.99       477\n",
            "           6       0.99      0.97      0.98       445\n",
            "           7       0.99      0.99      0.99       140\n",
            "           8       1.00      0.93      0.96        14\n",
            "\n",
            "    accuracy                           0.98      1119\n",
            "   macro avg       0.99      0.96      0.98      1119\n",
            "weighted avg       0.98      0.98      0.98      1119\n",
            "\n",
            "----Test Metrics----\n",
            "Confusion Matrix:\n",
            " [[  0   0   2   1   0   0]\n",
            " [  0   0  13   3   1   0]\n",
            " [  0   0 161  40   3   0]\n",
            " [  0   2  52 113  26   0]\n",
            " [  0   0   2  24  33   0]\n",
            " [  0   0   0   2   2   0]]\n",
            "\n",
            "\n",
            "Accuracy Score:\n",
            " 0.6395833333333333\n",
            "\n",
            "\n",
            "Classification Report: \n",
            "               precision    recall  f1-score   support\n",
            "\n",
            "           3       0.00      0.00      0.00         3\n",
            "           4       0.00      0.00      0.00        17\n",
            "           5       0.70      0.79      0.74       204\n",
            "           6       0.62      0.59      0.60       193\n",
            "           7       0.51      0.56      0.53        59\n",
            "           8       0.00      0.00      0.00         4\n",
            "\n",
            "    accuracy                           0.64       480\n",
            "   macro avg       0.30      0.32      0.31       480\n",
            "weighted avg       0.61      0.64      0.62       480\n",
            "\n"
          ],
          "name": "stdout"
        }
      ]
    },
    {
      "cell_type": "code",
      "metadata": {
        "colab": {
          "base_uri": "https://localhost:8080/"
        },
        "id": "7gJyMwzBBO6X",
        "outputId": "02e60207-07ee-4056-d667-144049e8ca55"
      },
      "source": [
        "rf = RandomForestClassifier()\n",
        "predictions(rf)"
      ],
      "execution_count": 101,
      "outputs": [
        {
          "output_type": "stream",
          "text": [
            "----Train Metrics----\n",
            "Confusion Matrix:\n",
            " [[  7   0   0   0   0   0]\n",
            " [  0  36   0   0   0   0]\n",
            " [  0   0 477   0   0   0]\n",
            " [  0   0   0 445   0   0]\n",
            " [  0   0   0   0 140   0]\n",
            " [  0   0   0   0   0  14]]\n",
            "\n",
            "\n",
            "Accuracy Score:\n",
            " 1.0\n",
            "\n",
            "\n",
            "Classification Report: \n",
            "               precision    recall  f1-score   support\n",
            "\n",
            "           3       1.00      1.00      1.00         7\n",
            "           4       1.00      1.00      1.00        36\n",
            "           5       1.00      1.00      1.00       477\n",
            "           6       1.00      1.00      1.00       445\n",
            "           7       1.00      1.00      1.00       140\n",
            "           8       1.00      1.00      1.00        14\n",
            "\n",
            "    accuracy                           1.00      1119\n",
            "   macro avg       1.00      1.00      1.00      1119\n",
            "weighted avg       1.00      1.00      1.00      1119\n",
            "\n",
            "----Test Metrics----\n",
            "Confusion Matrix:\n",
            " [[  0   0   2   1   0   0]\n",
            " [  0   0  11   5   1   0]\n",
            " [  0   0 162  38   4   0]\n",
            " [  0   0  39 140  14   0]\n",
            " [  0   0   1  27  31   0]\n",
            " [  0   0   0   1   3   0]]\n",
            "\n",
            "\n",
            "Accuracy Score:\n",
            " 0.69375\n",
            "\n",
            "\n",
            "Classification Report: \n",
            "               precision    recall  f1-score   support\n",
            "\n",
            "           3       0.00      0.00      0.00         3\n",
            "           4       0.00      0.00      0.00        17\n",
            "           5       0.75      0.79      0.77       204\n",
            "           6       0.66      0.73      0.69       193\n",
            "           7       0.58      0.53      0.55        59\n",
            "           8       0.00      0.00      0.00         4\n",
            "\n",
            "    accuracy                           0.69       480\n",
            "   macro avg       0.33      0.34      0.34       480\n",
            "weighted avg       0.66      0.69      0.67       480\n",
            "\n"
          ],
          "name": "stdout"
        }
      ]
    },
    {
      "cell_type": "code",
      "metadata": {
        "colab": {
          "base_uri": "https://localhost:8080/"
        },
        "id": "hrKanE8GBdFV",
        "outputId": "d95947ae-266f-460f-d49f-a67365e03fe2"
      },
      "source": [
        "gb = GradientBoostingClassifier()\n",
        "predictions(gb)"
      ],
      "execution_count": 102,
      "outputs": [
        {
          "output_type": "stream",
          "text": [
            "----Train Metrics----\n",
            "Confusion Matrix:\n",
            " [[  7   0   0   0   0   0]\n",
            " [  0  31   3   2   0   0]\n",
            " [  0   0 441  35   1   0]\n",
            " [  0   0  40 405   0   0]\n",
            " [  0   0   3  15 122   0]\n",
            " [  0   0   0   0   0  14]]\n",
            "\n",
            "\n",
            "Accuracy Score:\n",
            " 0.9115281501340483\n",
            "\n",
            "\n",
            "Classification Report: \n",
            "               precision    recall  f1-score   support\n",
            "\n",
            "           3       1.00      1.00      1.00         7\n",
            "           4       1.00      0.86      0.93        36\n",
            "           5       0.91      0.92      0.91       477\n",
            "           6       0.89      0.91      0.90       445\n",
            "           7       0.99      0.87      0.93       140\n",
            "           8       1.00      1.00      1.00        14\n",
            "\n",
            "    accuracy                           0.91      1119\n",
            "   macro avg       0.96      0.93      0.94      1119\n",
            "weighted avg       0.91      0.91      0.91      1119\n",
            "\n",
            "----Test Metrics----\n",
            "Confusion Matrix:\n",
            " [[  0   0   2   1   0   0]\n",
            " [  1   0   8   7   1   0]\n",
            " [  0   1 159  40   3   1]\n",
            " [  0   1  46 127  18   1]\n",
            " [  1   0   3  21  34   0]\n",
            " [  0   0   0   1   3   0]]\n",
            "\n",
            "\n",
            "Accuracy Score:\n",
            " 0.6666666666666666\n",
            "\n",
            "\n",
            "Classification Report: \n",
            "               precision    recall  f1-score   support\n",
            "\n",
            "           3       0.00      0.00      0.00         3\n",
            "           4       0.00      0.00      0.00        17\n",
            "           5       0.73      0.78      0.75       204\n",
            "           6       0.64      0.66      0.65       193\n",
            "           7       0.58      0.58      0.58        59\n",
            "           8       0.00      0.00      0.00         4\n",
            "\n",
            "    accuracy                           0.67       480\n",
            "   macro avg       0.33      0.34      0.33       480\n",
            "weighted avg       0.64      0.67      0.65       480\n",
            "\n"
          ],
          "name": "stdout"
        }
      ]
    },
    {
      "cell_type": "code",
      "metadata": {
        "colab": {
          "base_uri": "https://localhost:8080/"
        },
        "id": "JOhgj_wOBkJM",
        "outputId": "7c2af933-ae6c-4631-8bf9-6644114858e0"
      },
      "source": [
        "xgb = XGBClassifier()\n",
        "predictions(xgb)"
      ],
      "execution_count": 103,
      "outputs": [
        {
          "output_type": "stream",
          "text": [
            "----Train Metrics----\n",
            "Confusion Matrix:\n",
            " [[  7   0   0   0   0   0]\n",
            " [  0  14  15   7   0   0]\n",
            " [  0   0 423  53   1   0]\n",
            " [  0   0  67 367  11   0]\n",
            " [  0   0   6  27 107   0]\n",
            " [  0   0   0   1   3  10]]\n",
            "\n",
            "\n",
            "Accuracy Score:\n",
            " 0.8293118856121537\n",
            "\n",
            "\n",
            "Classification Report: \n",
            "               precision    recall  f1-score   support\n",
            "\n",
            "           3       1.00      1.00      1.00         7\n",
            "           4       1.00      0.39      0.56        36\n",
            "           5       0.83      0.89      0.86       477\n",
            "           6       0.81      0.82      0.82       445\n",
            "           7       0.88      0.76      0.82       140\n",
            "           8       1.00      0.71      0.83        14\n",
            "\n",
            "    accuracy                           0.83      1119\n",
            "   macro avg       0.92      0.76      0.81      1119\n",
            "weighted avg       0.83      0.83      0.83      1119\n",
            "\n",
            "----Test Metrics----\n",
            "Confusion Matrix:\n",
            " [[  0   0   2   1   0   0]\n",
            " [  0   0   9   7   1   0]\n",
            " [  1   1 157  42   3   0]\n",
            " [  1   0  43 129  20   0]\n",
            " [  0   0   2  26  31   0]\n",
            " [  0   0   0   1   3   0]]\n",
            "\n",
            "\n",
            "Accuracy Score:\n",
            " 0.6604166666666667\n",
            "\n",
            "\n",
            "Classification Report: \n",
            "               precision    recall  f1-score   support\n",
            "\n",
            "           3       0.00      0.00      0.00         3\n",
            "           4       0.00      0.00      0.00        17\n",
            "           5       0.74      0.77      0.75       204\n",
            "           6       0.63      0.67      0.65       193\n",
            "           7       0.53      0.53      0.53        59\n",
            "           8       0.00      0.00      0.00         4\n",
            "\n",
            "    accuracy                           0.66       480\n",
            "   macro avg       0.32      0.33      0.32       480\n",
            "weighted avg       0.63      0.66      0.65       480\n",
            "\n"
          ],
          "name": "stdout"
        }
      ]
    },
    {
      "cell_type": "code",
      "metadata": {
        "colab": {
          "base_uri": "https://localhost:8080/"
        },
        "id": "5kuDKuz7Bkad",
        "outputId": "d9837e12-d3e5-4850-b919-595cdff7756b"
      },
      "source": [
        "lgbm = LGBMClassifier()\n",
        "predictions(lgbm)"
      ],
      "execution_count": 104,
      "outputs": [
        {
          "output_type": "stream",
          "text": [
            "----Train Metrics----\n",
            "Confusion Matrix:\n",
            " [[  7   0   0   0   0   0]\n",
            " [  0  36   0   0   0   0]\n",
            " [  0   0 477   0   0   0]\n",
            " [  0   0   0 445   0   0]\n",
            " [  0   0   0   0 140   0]\n",
            " [  0   0   0   0   0  14]]\n",
            "\n",
            "\n",
            "Accuracy Score:\n",
            " 1.0\n",
            "\n",
            "\n",
            "Classification Report: \n",
            "               precision    recall  f1-score   support\n",
            "\n",
            "           3       1.00      1.00      1.00         7\n",
            "           4       1.00      1.00      1.00        36\n",
            "           5       1.00      1.00      1.00       477\n",
            "           6       1.00      1.00      1.00       445\n",
            "           7       1.00      1.00      1.00       140\n",
            "           8       1.00      1.00      1.00        14\n",
            "\n",
            "    accuracy                           1.00      1119\n",
            "   macro avg       1.00      1.00      1.00      1119\n",
            "weighted avg       1.00      1.00      1.00      1119\n",
            "\n",
            "----Test Metrics----\n",
            "Confusion Matrix:\n",
            " [[  0   0   2   1   0   0]\n",
            " [  0   0  11   5   1   0]\n",
            " [  0   0 156  45   3   0]\n",
            " [  0   1  50 126  15   1]\n",
            " [  0   0   2  21  36   0]\n",
            " [  0   0   0   1   3   0]]\n",
            "\n",
            "\n",
            "Accuracy Score:\n",
            " 0.6625\n",
            "\n",
            "\n",
            "Classification Report: \n",
            "               precision    recall  f1-score   support\n",
            "\n",
            "           3       0.00      0.00      0.00         3\n",
            "           4       0.00      0.00      0.00        17\n",
            "           5       0.71      0.76      0.73       204\n",
            "           6       0.63      0.65      0.64       193\n",
            "           7       0.62      0.61      0.62        59\n",
            "           8       0.00      0.00      0.00         4\n",
            "\n",
            "    accuracy                           0.66       480\n",
            "   macro avg       0.33      0.34      0.33       480\n",
            "weighted avg       0.63      0.66      0.65       480\n",
            "\n"
          ],
          "name": "stdout"
        }
      ]
    },
    {
      "cell_type": "code",
      "metadata": {
        "id": "YTNLTtLPEXOo"
      },
      "source": [
        "params = {'n_estimators':np.arange(80,120,2),\n",
        "          'criterion' : [\"gini\", \"entropy\"],\n",
        "          'min_samples_split': np.arange(1,10,2),\n",
        "          'min_samples_leaf':np.arange(1,10,2)}"
      ],
      "execution_count": 105,
      "outputs": []
    },
    {
      "cell_type": "code",
      "metadata": {
        "colab": {
          "base_uri": "https://localhost:8080/"
        },
        "id": "IOaABc6XBkr_",
        "outputId": "0a965bc7-081f-4c08-a4cd-6efd81da77db"
      },
      "source": [
        "from sklearn.model_selection import GridSearchCV\n",
        "gcv = GridSearchCV(estimator=rf,param_grid=params , n_jobs=-1)\n",
        "gcv.fit(x_train,y_train)"
      ],
      "execution_count": 106,
      "outputs": [
        {
          "output_type": "execute_result",
          "data": {
            "text/plain": [
              "GridSearchCV(cv=None, error_score=nan,\n",
              "             estimator=RandomForestClassifier(bootstrap=True, ccp_alpha=0.0,\n",
              "                                              class_weight=None,\n",
              "                                              criterion='gini', max_depth=None,\n",
              "                                              max_features='auto',\n",
              "                                              max_leaf_nodes=None,\n",
              "                                              max_samples=None,\n",
              "                                              min_impurity_decrease=0.0,\n",
              "                                              min_impurity_split=None,\n",
              "                                              min_samples_leaf=1,\n",
              "                                              min_samples_split=2,\n",
              "                                              min_weight_fraction_leaf=0.0,\n",
              "                                              n_estimators=100, n_jobs=No...\n",
              "                                              random_state=None, verbose=0,\n",
              "                                              warm_start=False),\n",
              "             iid='deprecated', n_jobs=-1,\n",
              "             param_grid={'criterion': ['gini', 'entropy'],\n",
              "                         'min_samples_leaf': array([1, 3, 5, 7, 9]),\n",
              "                         'min_samples_split': array([1, 3, 5, 7, 9]),\n",
              "                         'n_estimators': array([ 80,  82,  84,  86,  88,  90,  92,  94,  96,  98, 100, 102, 104,\n",
              "       106, 108, 110, 112, 114, 116, 118])},\n",
              "             pre_dispatch='2*n_jobs', refit=True, return_train_score=False,\n",
              "             scoring=None, verbose=0)"
            ]
          },
          "metadata": {
            "tags": []
          },
          "execution_count": 106
        }
      ]
    },
    {
      "cell_type": "code",
      "metadata": {
        "colab": {
          "base_uri": "https://localhost:8080/"
        },
        "id": "BVNzgNdVBk2U",
        "outputId": "7901196f-5951-4121-e602-7029338f7fd0"
      },
      "source": [
        "gcv.best_params_"
      ],
      "execution_count": 107,
      "outputs": [
        {
          "output_type": "execute_result",
          "data": {
            "text/plain": [
              "{'criterion': 'entropy',\n",
              " 'min_samples_leaf': 3,\n",
              " 'min_samples_split': 5,\n",
              " 'n_estimators': 84}"
            ]
          },
          "metadata": {
            "tags": []
          },
          "execution_count": 107
        }
      ]
    },
    {
      "cell_type": "code",
      "metadata": {
        "id": "OMTQ2_dXBlAM"
      },
      "source": [
        "rfc_tuned_model = RandomForestClassifier(criterion='entropy',min_samples_leaf= 3,min_samples_split= 5,n_estimators= 84)  "
      ],
      "execution_count": 108,
      "outputs": []
    },
    {
      "cell_type": "code",
      "metadata": {
        "colab": {
          "base_uri": "https://localhost:8080/"
        },
        "id": "_b1nrhhwBlKl",
        "outputId": "ece1ec26-2951-43ec-abb7-11f76d5ef22d"
      },
      "source": [
        "rfc_tuned_model.fit(x_train,y_train)"
      ],
      "execution_count": 109,
      "outputs": [
        {
          "output_type": "execute_result",
          "data": {
            "text/plain": [
              "RandomForestClassifier(bootstrap=True, ccp_alpha=0.0, class_weight=None,\n",
              "                       criterion='entropy', max_depth=None, max_features='auto',\n",
              "                       max_leaf_nodes=None, max_samples=None,\n",
              "                       min_impurity_decrease=0.0, min_impurity_split=None,\n",
              "                       min_samples_leaf=3, min_samples_split=5,\n",
              "                       min_weight_fraction_leaf=0.0, n_estimators=84,\n",
              "                       n_jobs=None, oob_score=False, random_state=None,\n",
              "                       verbose=0, warm_start=False)"
            ]
          },
          "metadata": {
            "tags": []
          },
          "execution_count": 109
        }
      ]
    },
    {
      "cell_type": "code",
      "metadata": {
        "id": "u5SIDNpKBlVV"
      },
      "source": [
        "y_pred = rfc_tuned_model.predict(x_test)"
      ],
      "execution_count": 115,
      "outputs": []
    },
    {
      "cell_type": "code",
      "metadata": {
        "colab": {
          "base_uri": "https://localhost:8080/"
        },
        "id": "-lpje0vIM-VK",
        "outputId": "3128da35-e4cf-42c3-bb73-77296572c1da"
      },
      "source": [
        "print(accuracy_score(y_test,y_pred))"
      ],
      "execution_count": 116,
      "outputs": [
        {
          "output_type": "stream",
          "text": [
            "0.6708333333333333\n"
          ],
          "name": "stdout"
        }
      ]
    },
    {
      "cell_type": "code",
      "metadata": {
        "id": "__NcLhgJ6IbA"
      },
      "source": [
        "df2 = df.copy()"
      ],
      "execution_count": 139,
      "outputs": []
    },
    {
      "cell_type": "code",
      "metadata": {
        "id": "rm2TkpFU_JhX"
      },
      "source": [
        "##df2.quality.value_counts()"
      ],
      "execution_count": 140,
      "outputs": []
    },
    {
      "cell_type": "code",
      "metadata": {
        "id": "BQLKO-X3_vnJ"
      },
      "source": [
        "#df2.quality.replace(3,'bad',inplace=True)\n",
        "#df2.quality.replace(4,'bad',inplace=True)\n",
        "#df2.quality.replace(5,'bad',inplace=True)\n",
        "#df2.quality.replace(6,'bad',inplace=True)\n",
        "#df2.quality.replace(7,'good',inplace=True)\n",
        "#df2.quality.replace(8,'good',inplace=True)\n",
        "\n",
        "\n"
      ],
      "execution_count": 141,
      "outputs": []
    },
    {
      "cell_type": "code",
      "metadata": {
        "colab": {
          "base_uri": "https://localhost:8080/"
        },
        "id": "ajph1R5kAEJT",
        "outputId": "761d791f-6643-40fb-a09a-2f8fea48818f"
      },
      "source": [
        "df2['quality'].value_counts()"
      ],
      "execution_count": 142,
      "outputs": [
        {
          "output_type": "execute_result",
          "data": {
            "text/plain": [
              "5    681\n",
              "6    638\n",
              "7    199\n",
              "4     53\n",
              "8     18\n",
              "3     10\n",
              "Name: quality, dtype: int64"
            ]
          },
          "metadata": {
            "tags": []
          },
          "execution_count": 142
        }
      ]
    },
    {
      "cell_type": "code",
      "metadata": {
        "colab": {
          "base_uri": "https://localhost:8080/"
        },
        "id": "afpP1lr3PM_K",
        "outputId": "92c17f83-39fc-4ab7-fad1-b40d24fd57af"
      },
      "source": [
        "df2.skew()"
      ],
      "execution_count": 143,
      "outputs": [
        {
          "output_type": "execute_result",
          "data": {
            "text/plain": [
              "fixed acidity           0.982751\n",
              "volatile acidity        0.671593\n",
              "citric acid             0.318337\n",
              "residual sugar          4.540655\n",
              "chlorides               5.680347\n",
              "free sulfur dioxide     1.250567\n",
              "total sulfur dioxide    1.515531\n",
              "density                 0.071288\n",
              "pH                      0.193683\n",
              "sulphates               2.428672\n",
              "alcohol                 0.860829\n",
              "quality                 0.217802\n",
              "dtype: float64"
            ]
          },
          "metadata": {
            "tags": []
          },
          "execution_count": 143
        }
      ]
    },
    {
      "cell_type": "code",
      "metadata": {
        "id": "x88_L2bePhQG"
      },
      "source": [
        "col = df2.columns.values"
      ],
      "execution_count": 144,
      "outputs": []
    },
    {
      "cell_type": "code",
      "metadata": {
        "id": "5ggmkPATPO50"
      },
      "source": [
        "for i in range(len(col)-1):\n",
        "    df2[col[i]]=np.log1p(df2[col[i]])"
      ],
      "execution_count": 145,
      "outputs": []
    },
    {
      "cell_type": "code",
      "metadata": {
        "colab": {
          "base_uri": "https://localhost:8080/"
        },
        "id": "5M8dtv7NPact",
        "outputId": "0d73d923-a86c-45be-d72b-ca1df3238731"
      },
      "source": [
        "df2.skew()"
      ],
      "execution_count": 146,
      "outputs": [
        {
          "output_type": "execute_result",
          "data": {
            "text/plain": [
              "fixed acidity           0.455743\n",
              "volatile acidity        0.270168\n",
              "citric acid             0.087506\n",
              "residual sugar          2.255076\n",
              "chlorides               5.071476\n",
              "free sulfur dioxide    -0.097399\n",
              "total sulfur dioxide   -0.035746\n",
              "density                 0.067142\n",
              "pH                      0.048331\n",
              "sulphates               1.610497\n",
              "alcohol                 0.677798\n",
              "quality                 0.217802\n",
              "dtype: float64"
            ]
          },
          "metadata": {
            "tags": []
          },
          "execution_count": 146
        }
      ]
    },
    {
      "cell_type": "code",
      "metadata": {
        "id": "BnlsNP9ePyk1"
      },
      "source": [
        "df2['residual sugar'] = np.sqrt(df2['residual sugar'])\n",
        "df2['chlorides'] = np.sqrt(df2['chlorides'])\n",
        "df2['sulphates'] = np.sqrt(df2['sulphates'])\n"
      ],
      "execution_count": 147,
      "outputs": []
    },
    {
      "cell_type": "code",
      "metadata": {
        "colab": {
          "base_uri": "https://localhost:8080/"
        },
        "id": "UHqJ2mu7Qmfv",
        "outputId": "d251c3f7-419c-4e9c-d9bd-484e618cd423"
      },
      "source": [
        "df2.skew()"
      ],
      "execution_count": 148,
      "outputs": [
        {
          "output_type": "execute_result",
          "data": {
            "text/plain": [
              "fixed acidity           0.455743\n",
              "volatile acidity        0.270168\n",
              "citric acid             0.087506\n",
              "residual sugar          1.748459\n",
              "chlorides               3.332369\n",
              "free sulfur dioxide    -0.097399\n",
              "total sulfur dioxide   -0.035746\n",
              "density                 0.067142\n",
              "pH                      0.048331\n",
              "sulphates               1.122806\n",
              "alcohol                 0.677798\n",
              "quality                 0.217802\n",
              "dtype: float64"
            ]
          },
          "metadata": {
            "tags": []
          },
          "execution_count": 148
        }
      ]
    },
    {
      "cell_type": "code",
      "metadata": {
        "id": "s2WLcUMPQowP"
      },
      "source": [
        "df2['residual sugar']=np.cbrt(df2['residual sugar'])\n",
        "df2['chlorides']=np.cbrt(df2['chlorides'])\n",
        "df2['sulphates']=np.cbrt(df2['sulphates'])"
      ],
      "execution_count": 149,
      "outputs": []
    },
    {
      "cell_type": "code",
      "metadata": {
        "colab": {
          "base_uri": "https://localhost:8080/"
        },
        "id": "xmuQUkVeQ-kr",
        "outputId": "09e31321-5900-42c1-b7f0-9b091a335567"
      },
      "source": [
        "df2.skew()"
      ],
      "execution_count": 150,
      "outputs": [
        {
          "output_type": "execute_result",
          "data": {
            "text/plain": [
              "fixed acidity           0.455743\n",
              "volatile acidity        0.270168\n",
              "citric acid             0.087506\n",
              "residual sugar          1.433026\n",
              "chlorides               2.157831\n",
              "free sulfur dioxide    -0.097399\n",
              "total sulfur dioxide   -0.035746\n",
              "density                 0.067142\n",
              "pH                      0.048331\n",
              "sulphates               0.845788\n",
              "alcohol                 0.677798\n",
              "quality                 0.217802\n",
              "dtype: float64"
            ]
          },
          "metadata": {
            "tags": []
          },
          "execution_count": 150
        }
      ]
    },
    {
      "cell_type": "code",
      "metadata": {
        "id": "p0boICDkRAUo"
      },
      "source": [
        "# exp=(1/10)\n",
        "# wine['residual sugar']=np.power(wine['residual sugar'], exp)\n",
        "# wine['chlorides']=np.power(wine['chlorides'], exp)\n",
        "# wine['alcohol']=np.power(wine['alcohol'], exp)\n",
        "# wine['sulphates']=np.power(wine['sulphates'], exp)\n",
        "\n",
        "#exp can be used further to remove skewness"
      ],
      "execution_count": 151,
      "outputs": []
    },
    {
      "cell_type": "code",
      "metadata": {
        "colab": {
          "base_uri": "https://localhost:8080/"
        },
        "id": "hYfVXpjnRMj6",
        "outputId": "09752851-98b2-4151-be67-a7c5d3bf71a9"
      },
      "source": [
        "from scipy.stats import zscore\n",
        "z=np.abs(zscore(df2))\n",
        "df3=df2[(z<3).all(axis=1)]\n",
        "print(df2.shape)\n",
        "print(df3.shape)"
      ],
      "execution_count": 152,
      "outputs": [
        {
          "output_type": "stream",
          "text": [
            "(1599, 12)\n",
            "(1483, 12)\n"
          ],
          "name": "stdout"
        }
      ]
    },
    {
      "cell_type": "code",
      "metadata": {
        "id": "1i_rMChtRvBE"
      },
      "source": [
        "##outliers are removed"
      ],
      "execution_count": 153,
      "outputs": []
    },
    {
      "cell_type": "code",
      "metadata": {
        "colab": {
          "base_uri": "https://localhost:8080/",
          "height": 204
        },
        "id": "RuxGXgpISBJJ",
        "outputId": "d3414248-8712-4ac5-dd66-c60f5ecad8b3"
      },
      "source": [
        "sc = StandardScaler()\n",
        "df2_scaled = pd.DataFrame(sc.fit_transform(df2.drop('quality',axis=1)),columns=df2.columns[:-1])\n",
        "df2_scaled.head()"
      ],
      "execution_count": 154,
      "outputs": [
        {
          "output_type": "execute_result",
          "data": {
            "text/html": [
              "<div>\n",
              "<style scoped>\n",
              "    .dataframe tbody tr th:only-of-type {\n",
              "        vertical-align: middle;\n",
              "    }\n",
              "\n",
              "    .dataframe tbody tr th {\n",
              "        vertical-align: top;\n",
              "    }\n",
              "\n",
              "    .dataframe thead th {\n",
              "        text-align: right;\n",
              "    }\n",
              "</style>\n",
              "<table border=\"1\" class=\"dataframe\">\n",
              "  <thead>\n",
              "    <tr style=\"text-align: right;\">\n",
              "      <th></th>\n",
              "      <th>fixed acidity</th>\n",
              "      <th>volatile acidity</th>\n",
              "      <th>citric acid</th>\n",
              "      <th>residual sugar</th>\n",
              "      <th>chlorides</th>\n",
              "      <th>free sulfur dioxide</th>\n",
              "      <th>total sulfur dioxide</th>\n",
              "      <th>density</th>\n",
              "      <th>pH</th>\n",
              "      <th>sulphates</th>\n",
              "      <th>alcohol</th>\n",
              "    </tr>\n",
              "  </thead>\n",
              "  <tbody>\n",
              "    <tr>\n",
              "      <th>0</th>\n",
              "      <td>-0.492070</td>\n",
              "      <td>0.987514</td>\n",
              "      <td>-1.497274</td>\n",
              "      <td>-0.596380</td>\n",
              "      <td>-0.229911</td>\n",
              "      <td>-0.247127</td>\n",
              "      <td>-0.116363</td>\n",
              "      <td>0.558618</td>\n",
              "      <td>1.279504</td>\n",
              "      <td>-0.603391</td>\n",
              "      <td>-0.991666</td>\n",
              "    </tr>\n",
              "    <tr>\n",
              "      <th>1</th>\n",
              "      <td>-0.230786</td>\n",
              "      <td>1.863512</td>\n",
              "      <td>-1.497274</td>\n",
              "      <td>0.345438</td>\n",
              "      <td>0.531683</td>\n",
              "      <td>0.992765</td>\n",
              "      <td>0.856963</td>\n",
              "      <td>0.028734</td>\n",
              "      <td>-0.712539</td>\n",
              "      <td>0.275091</td>\n",
              "      <td>-0.574211</td>\n",
              "    </tr>\n",
              "    <tr>\n",
              "      <th>2</th>\n",
              "      <td>-0.230786</td>\n",
              "      <td>1.289416</td>\n",
              "      <td>-1.239878</td>\n",
              "      <td>-0.016328</td>\n",
              "      <td>0.340250</td>\n",
              "      <td>0.214202</td>\n",
              "      <td>0.546021</td>\n",
              "      <td>0.134732</td>\n",
              "      <td>-0.315750</td>\n",
              "      <td>0.071627</td>\n",
              "      <td>-0.574211</td>\n",
              "    </tr>\n",
              "    <tr>\n",
              "      <th>3</th>\n",
              "      <td>1.604062</td>\n",
              "      <td>-1.482395</td>\n",
              "      <td>1.421087</td>\n",
              "      <td>-0.596380</td>\n",
              "      <td>-0.268942</td>\n",
              "      <td>0.403079</td>\n",
              "      <td>0.697760</td>\n",
              "      <td>0.664563</td>\n",
              "      <td>-0.980227</td>\n",
              "      <td>-0.444101</td>\n",
              "      <td>-0.574211</td>\n",
              "    </tr>\n",
              "    <tr>\n",
              "      <th>4</th>\n",
              "      <td>-0.492070</td>\n",
              "      <td>0.987514</td>\n",
              "      <td>-1.497274</td>\n",
              "      <td>-0.596380</td>\n",
              "      <td>-0.229911</td>\n",
              "      <td>-0.247127</td>\n",
              "      <td>-0.116363</td>\n",
              "      <td>0.558618</td>\n",
              "      <td>1.279504</td>\n",
              "      <td>-0.603391</td>\n",
              "      <td>-0.991666</td>\n",
              "    </tr>\n",
              "  </tbody>\n",
              "</table>\n",
              "</div>"
            ],
            "text/plain": [
              "   fixed acidity  volatile acidity  citric acid  ...        pH  sulphates   alcohol\n",
              "0      -0.492070          0.987514    -1.497274  ...  1.279504  -0.603391 -0.991666\n",
              "1      -0.230786          1.863512    -1.497274  ... -0.712539   0.275091 -0.574211\n",
              "2      -0.230786          1.289416    -1.239878  ... -0.315750   0.071627 -0.574211\n",
              "3       1.604062         -1.482395     1.421087  ... -0.980227  -0.444101 -0.574211\n",
              "4      -0.492070          0.987514    -1.497274  ...  1.279504  -0.603391 -0.991666\n",
              "\n",
              "[5 rows x 11 columns]"
            ]
          },
          "metadata": {
            "tags": []
          },
          "execution_count": 154
        }
      ]
    },
    {
      "cell_type": "code",
      "metadata": {
        "id": "7ziC10mnSYhI"
      },
      "source": [
        "x2 = df2_scaled\n",
        "y2 = df2['quality']"
      ],
      "execution_count": 156,
      "outputs": []
    },
    {
      "cell_type": "code",
      "metadata": {
        "id": "I2lQ_8mzSg00"
      },
      "source": [
        "x2_train, x2_test, y2_train, y2_test = train_test_split(x2,y2, test_size=0.3, random_state=100)"
      ],
      "execution_count": 157,
      "outputs": []
    },
    {
      "cell_type": "code",
      "metadata": {
        "id": "74mSeWytS5ZE"
      },
      "source": [
        "def metrics(y_true, y_pred):\n",
        "    print('Confusion Matrix:\\n', confusion_matrix(y_true, y_pred))\n",
        "    print('\\n\\nAccuracy Score:\\n', accuracy_score(y_true, y_pred))\n",
        "    print('\\n\\nClassification Report: \\n', classification_report(y_true, y_pred))\n",
        "\n",
        "\n",
        "def predictions(model,x_train=x2_train, x_test=x2_test, y_train=y2_train, y_test=y2_test):\n",
        "        model.fit(x_train, y_train)\n",
        "        #predictions\n",
        "        train_pred = model.predict(x_train)\n",
        "        test_pred = model.predict(x_test)\n",
        "        actual = [y_train, y_test]\n",
        "        pred = [train_pred, test_pred]\n",
        "        for i in range(0,2):\n",
        "            if i==0:\n",
        "                print('----Train Metrics----')\n",
        "            else:\n",
        "                print('----Test Metrics----')\n",
        "            metrics(actual[i], pred[i])"
      ],
      "execution_count": 158,
      "outputs": []
    },
    {
      "cell_type": "code",
      "metadata": {
        "colab": {
          "base_uri": "https://localhost:8080/"
        },
        "id": "ERUzIphyTKKu",
        "outputId": "e2419989-d1cd-48de-cc8f-844f77461c6a"
      },
      "source": [
        "predictions(lg)"
      ],
      "execution_count": 159,
      "outputs": [
        {
          "output_type": "stream",
          "text": [
            "----Train Metrics----\n",
            "Confusion Matrix:\n",
            " [[  1   1   3   2   0   0]\n",
            " [  0   1  22  13   0   0]\n",
            " [  0   0 382  94   1   0]\n",
            " [  0   0 161 268  16   0]\n",
            " [  0   0   9  97  34   0]\n",
            " [  0   0   0  10   4   0]]\n",
            "\n",
            "\n",
            "Accuracy Score:\n",
            " 0.613047363717605\n",
            "\n",
            "\n",
            "Classification Report: \n",
            "               precision    recall  f1-score   support\n",
            "\n",
            "           3       1.00      0.14      0.25         7\n",
            "           4       0.50      0.03      0.05        36\n",
            "           5       0.66      0.80      0.72       477\n",
            "           6       0.55      0.60      0.58       445\n",
            "           7       0.62      0.24      0.35       140\n",
            "           8       0.00      0.00      0.00        14\n",
            "\n",
            "    accuracy                           0.61      1119\n",
            "   macro avg       0.56      0.30      0.33      1119\n",
            "weighted avg       0.60      0.61      0.59      1119\n",
            "\n",
            "----Test Metrics----\n",
            "Confusion Matrix:\n",
            " [[  0   0   2   1   0   0]\n",
            " [  0   0  12   4   1   0]\n",
            " [  0   0 154  49   1   0]\n",
            " [  0   0  62 120  11   0]\n",
            " [  0   0   2  45  12   0]\n",
            " [  0   0   0   3   1   0]]\n",
            "\n",
            "\n",
            "Accuracy Score:\n",
            " 0.5958333333333333\n",
            "\n",
            "\n",
            "Classification Report: \n",
            "               precision    recall  f1-score   support\n",
            "\n",
            "           3       0.00      0.00      0.00         3\n",
            "           4       0.00      0.00      0.00        17\n",
            "           5       0.66      0.75      0.71       204\n",
            "           6       0.54      0.62      0.58       193\n",
            "           7       0.46      0.20      0.28        59\n",
            "           8       0.00      0.00      0.00         4\n",
            "\n",
            "    accuracy                           0.60       480\n",
            "   macro avg       0.28      0.26      0.26       480\n",
            "weighted avg       0.56      0.60      0.57       480\n",
            "\n"
          ],
          "name": "stdout"
        }
      ]
    },
    {
      "cell_type": "code",
      "metadata": {
        "colab": {
          "base_uri": "https://localhost:8080/"
        },
        "id": "qFoaknClTNkB",
        "outputId": "36c81629-c9c2-49eb-b1e6-af529dc56139"
      },
      "source": [
        "predictions(knn)"
      ],
      "execution_count": 160,
      "outputs": [
        {
          "output_type": "stream",
          "text": [
            "----Train Metrics----\n",
            "Confusion Matrix:\n",
            " [[  2   0   5   0   0   0]\n",
            " [  0   5  22   9   0   0]\n",
            " [  0   4 399  70   4   0]\n",
            " [  0   4 115 305  21   0]\n",
            " [  0   0  15  46  79   0]\n",
            " [  0   0   0   8   6   0]]\n",
            "\n",
            "\n",
            "Accuracy Score:\n",
            " 0.7059874888293118\n",
            "\n",
            "\n",
            "Classification Report: \n",
            "               precision    recall  f1-score   support\n",
            "\n",
            "           3       1.00      0.29      0.44         7\n",
            "           4       0.38      0.14      0.20        36\n",
            "           5       0.72      0.84      0.77       477\n",
            "           6       0.70      0.69      0.69       445\n",
            "           7       0.72      0.56      0.63       140\n",
            "           8       0.00      0.00      0.00        14\n",
            "\n",
            "    accuracy                           0.71      1119\n",
            "   macro avg       0.59      0.42      0.46      1119\n",
            "weighted avg       0.69      0.71      0.69      1119\n",
            "\n",
            "----Test Metrics----\n",
            "Confusion Matrix:\n",
            " [[  0   1   1   1   0   0]\n",
            " [  0   0  12   4   1   0]\n",
            " [  0   2 143  51   8   0]\n",
            " [  0   2  62 106  23   0]\n",
            " [  0   0  10  20  29   0]\n",
            " [  0   0   0   1   3   0]]\n",
            "\n",
            "\n",
            "Accuracy Score:\n",
            " 0.5791666666666667\n",
            "\n",
            "\n",
            "Classification Report: \n",
            "               precision    recall  f1-score   support\n",
            "\n",
            "           3       0.00      0.00      0.00         3\n",
            "           4       0.00      0.00      0.00        17\n",
            "           5       0.63      0.70      0.66       204\n",
            "           6       0.58      0.55      0.56       193\n",
            "           7       0.45      0.49      0.47        59\n",
            "           8       0.00      0.00      0.00         4\n",
            "\n",
            "    accuracy                           0.58       480\n",
            "   macro avg       0.28      0.29      0.28       480\n",
            "weighted avg       0.56      0.58      0.57       480\n",
            "\n"
          ],
          "name": "stdout"
        }
      ]
    },
    {
      "cell_type": "code",
      "metadata": {
        "colab": {
          "base_uri": "https://localhost:8080/"
        },
        "id": "xh6XD586TT3O",
        "outputId": "e2622c09-2eca-43c3-add8-7ab4eff8a425"
      },
      "source": [
        "predictions(nb)"
      ],
      "execution_count": 161,
      "outputs": [
        {
          "output_type": "stream",
          "text": [
            "----Train Metrics----\n",
            "Confusion Matrix:\n",
            " [[  3   1   2   1   0   0]\n",
            " [  1   7  19   9   0   0]\n",
            " [  3  13 358  86  17   0]\n",
            " [  0  10 155 210  67   3]\n",
            " [  0   2   9  42  87   0]\n",
            " [  0   0   0   2  10   2]]\n",
            "\n",
            "\n",
            "Accuracy Score:\n",
            " 0.5960679177837355\n",
            "\n",
            "\n",
            "Classification Report: \n",
            "               precision    recall  f1-score   support\n",
            "\n",
            "           3       0.43      0.43      0.43         7\n",
            "           4       0.21      0.19      0.20        36\n",
            "           5       0.66      0.75      0.70       477\n",
            "           6       0.60      0.47      0.53       445\n",
            "           7       0.48      0.62      0.54       140\n",
            "           8       0.40      0.14      0.21        14\n",
            "\n",
            "    accuracy                           0.60      1119\n",
            "   macro avg       0.46      0.43      0.44      1119\n",
            "weighted avg       0.59      0.60      0.59      1119\n",
            "\n",
            "----Test Metrics----\n",
            "Confusion Matrix:\n",
            " [[  0   0   3   0   0   0]\n",
            " [  0   3   8   4   2   0]\n",
            " [  0   6 141  49   8   0]\n",
            " [  0   1  70  76  45   1]\n",
            " [  0   1   2  21  34   1]\n",
            " [  0   0   0   1   3   0]]\n",
            "\n",
            "\n",
            "Accuracy Score:\n",
            " 0.5291666666666667\n",
            "\n",
            "\n",
            "Classification Report: \n",
            "               precision    recall  f1-score   support\n",
            "\n",
            "           3       0.00      0.00      0.00         3\n",
            "           4       0.27      0.18      0.21        17\n",
            "           5       0.63      0.69      0.66       204\n",
            "           6       0.50      0.39      0.44       193\n",
            "           7       0.37      0.58      0.45        59\n",
            "           8       0.00      0.00      0.00         4\n",
            "\n",
            "    accuracy                           0.53       480\n",
            "   macro avg       0.30      0.31      0.29       480\n",
            "weighted avg       0.52      0.53      0.52       480\n",
            "\n"
          ],
          "name": "stdout"
        }
      ]
    },
    {
      "cell_type": "code",
      "metadata": {
        "colab": {
          "base_uri": "https://localhost:8080/"
        },
        "id": "ELQ3csueTh98",
        "outputId": "006575aa-a056-4c3f-9b95-4580e0b89f36"
      },
      "source": [
        "predictions(dtree)"
      ],
      "execution_count": 162,
      "outputs": [
        {
          "output_type": "stream",
          "text": [
            "----Train Metrics----\n",
            "Confusion Matrix:\n",
            " [[  7   0   0   0   0   0]\n",
            " [  0  36   0   0   0   0]\n",
            " [  0   0 477   0   0   0]\n",
            " [  0   0   0 445   0   0]\n",
            " [  0   0   0   0 140   0]\n",
            " [  0   0   0   0   0  14]]\n",
            "\n",
            "\n",
            "Accuracy Score:\n",
            " 1.0\n",
            "\n",
            "\n",
            "Classification Report: \n",
            "               precision    recall  f1-score   support\n",
            "\n",
            "           3       1.00      1.00      1.00         7\n",
            "           4       1.00      1.00      1.00        36\n",
            "           5       1.00      1.00      1.00       477\n",
            "           6       1.00      1.00      1.00       445\n",
            "           7       1.00      1.00      1.00       140\n",
            "           8       1.00      1.00      1.00        14\n",
            "\n",
            "    accuracy                           1.00      1119\n",
            "   macro avg       1.00      1.00      1.00      1119\n",
            "weighted avg       1.00      1.00      1.00      1119\n",
            "\n",
            "----Test Metrics----\n",
            "Confusion Matrix:\n",
            " [[  0   1   1   1   0   0]\n",
            " [  1   1   9   4   2   0]\n",
            " [  0   9 135  41  19   0]\n",
            " [  0   3  55 113  21   1]\n",
            " [  0   4   4  18  32   1]\n",
            " [  0   0   0   2   2   0]]\n",
            "\n",
            "\n",
            "Accuracy Score:\n",
            " 0.5854166666666667\n",
            "\n",
            "\n",
            "Classification Report: \n",
            "               precision    recall  f1-score   support\n",
            "\n",
            "           3       0.00      0.00      0.00         3\n",
            "           4       0.06      0.06      0.06        17\n",
            "           5       0.66      0.66      0.66       204\n",
            "           6       0.63      0.59      0.61       193\n",
            "           7       0.42      0.54      0.47        59\n",
            "           8       0.00      0.00      0.00         4\n",
            "\n",
            "    accuracy                           0.59       480\n",
            "   macro avg       0.29      0.31      0.30       480\n",
            "weighted avg       0.59      0.59      0.59       480\n",
            "\n"
          ],
          "name": "stdout"
        }
      ]
    },
    {
      "cell_type": "code",
      "metadata": {
        "colab": {
          "base_uri": "https://localhost:8080/"
        },
        "id": "6awVY5sCTl00",
        "outputId": "6168e7ec-3d9b-4737-ec26-4132eff2a290"
      },
      "source": [
        "predictions(bag)"
      ],
      "execution_count": 163,
      "outputs": [
        {
          "output_type": "stream",
          "text": [
            "----Train Metrics----\n",
            "Confusion Matrix:\n",
            " [[  6   0   1   0   0   0]\n",
            " [  0  33   1   2   0   0]\n",
            " [  0   0 475   2   0   0]\n",
            " [  0   0   6 439   0   0]\n",
            " [  0   0   0   4 136   0]\n",
            " [  0   0   0   0   0  14]]\n",
            "\n",
            "\n",
            "Accuracy Score:\n",
            " 0.9857015192135835\n",
            "\n",
            "\n",
            "Classification Report: \n",
            "               precision    recall  f1-score   support\n",
            "\n",
            "           3       1.00      0.86      0.92         7\n",
            "           4       1.00      0.92      0.96        36\n",
            "           5       0.98      1.00      0.99       477\n",
            "           6       0.98      0.99      0.98       445\n",
            "           7       1.00      0.97      0.99       140\n",
            "           8       1.00      1.00      1.00        14\n",
            "\n",
            "    accuracy                           0.99      1119\n",
            "   macro avg       0.99      0.95      0.97      1119\n",
            "weighted avg       0.99      0.99      0.99      1119\n",
            "\n",
            "----Test Metrics----\n",
            "Confusion Matrix:\n",
            " [[  0   0   2   1   0   0]\n",
            " [  0   2  12   2   1   0]\n",
            " [  0   1 163  37   3   0]\n",
            " [  0   1  57 117  17   1]\n",
            " [  0   1   2  23  33   0]\n",
            " [  0   0   0   2   2   0]]\n",
            "\n",
            "\n",
            "Accuracy Score:\n",
            " 0.65625\n",
            "\n",
            "\n",
            "Classification Report: \n",
            "               precision    recall  f1-score   support\n",
            "\n",
            "           3       0.00      0.00      0.00         3\n",
            "           4       0.40      0.12      0.18        17\n",
            "           5       0.69      0.80      0.74       204\n",
            "           6       0.64      0.61      0.62       193\n",
            "           7       0.59      0.56      0.57        59\n",
            "           8       0.00      0.00      0.00         4\n",
            "\n",
            "    accuracy                           0.66       480\n",
            "   macro avg       0.39      0.35      0.35       480\n",
            "weighted avg       0.64      0.66      0.64       480\n",
            "\n"
          ],
          "name": "stdout"
        }
      ]
    },
    {
      "cell_type": "code",
      "metadata": {
        "colab": {
          "base_uri": "https://localhost:8080/"
        },
        "id": "CsPi5oigUAE5",
        "outputId": "128ac239-450a-460b-e1b3-8240af0a617d"
      },
      "source": [
        "predictions(rf)"
      ],
      "execution_count": 164,
      "outputs": [
        {
          "output_type": "stream",
          "text": [
            "----Train Metrics----\n",
            "Confusion Matrix:\n",
            " [[  7   0   0   0   0   0]\n",
            " [  0  36   0   0   0   0]\n",
            " [  0   0 477   0   0   0]\n",
            " [  0   0   0 445   0   0]\n",
            " [  0   0   0   0 140   0]\n",
            " [  0   0   0   0   0  14]]\n",
            "\n",
            "\n",
            "Accuracy Score:\n",
            " 1.0\n",
            "\n",
            "\n",
            "Classification Report: \n",
            "               precision    recall  f1-score   support\n",
            "\n",
            "           3       1.00      1.00      1.00         7\n",
            "           4       1.00      1.00      1.00        36\n",
            "           5       1.00      1.00      1.00       477\n",
            "           6       1.00      1.00      1.00       445\n",
            "           7       1.00      1.00      1.00       140\n",
            "           8       1.00      1.00      1.00        14\n",
            "\n",
            "    accuracy                           1.00      1119\n",
            "   macro avg       1.00      1.00      1.00      1119\n",
            "weighted avg       1.00      1.00      1.00      1119\n",
            "\n",
            "----Test Metrics----\n",
            "Confusion Matrix:\n",
            " [[  0   0   2   1   0   0]\n",
            " [  0   0  11   5   1   0]\n",
            " [  0   0 159  42   3   0]\n",
            " [  0   0  45 132  16   0]\n",
            " [  0   0   1  26  32   0]\n",
            " [  0   0   0   1   3   0]]\n",
            "\n",
            "\n",
            "Accuracy Score:\n",
            " 0.6729166666666667\n",
            "\n",
            "\n",
            "Classification Report: \n",
            "               precision    recall  f1-score   support\n",
            "\n",
            "           3       0.00      0.00      0.00         3\n",
            "           4       0.00      0.00      0.00        17\n",
            "           5       0.73      0.78      0.75       204\n",
            "           6       0.64      0.68      0.66       193\n",
            "           7       0.58      0.54      0.56        59\n",
            "           8       0.00      0.00      0.00         4\n",
            "\n",
            "    accuracy                           0.67       480\n",
            "   macro avg       0.32      0.33      0.33       480\n",
            "weighted avg       0.64      0.67      0.65       480\n",
            "\n"
          ],
          "name": "stdout"
        }
      ]
    },
    {
      "cell_type": "code",
      "metadata": {
        "colab": {
          "base_uri": "https://localhost:8080/"
        },
        "id": "jwvyxjMWURau",
        "outputId": "0b41e481-eb2e-4dcc-f745-121a547e5ea5"
      },
      "source": [
        "predictions(gb)"
      ],
      "execution_count": 165,
      "outputs": [
        {
          "output_type": "stream",
          "text": [
            "----Train Metrics----\n",
            "Confusion Matrix:\n",
            " [[  7   0   0   0   0   0]\n",
            " [  0  31   3   2   0   0]\n",
            " [  0   0 441  35   1   0]\n",
            " [  0   0  40 405   0   0]\n",
            " [  0   0   3  15 122   0]\n",
            " [  0   0   0   0   0  14]]\n",
            "\n",
            "\n",
            "Accuracy Score:\n",
            " 0.9115281501340483\n",
            "\n",
            "\n",
            "Classification Report: \n",
            "               precision    recall  f1-score   support\n",
            "\n",
            "           3       1.00      1.00      1.00         7\n",
            "           4       1.00      0.86      0.93        36\n",
            "           5       0.91      0.92      0.91       477\n",
            "           6       0.89      0.91      0.90       445\n",
            "           7       0.99      0.87      0.93       140\n",
            "           8       1.00      1.00      1.00        14\n",
            "\n",
            "    accuracy                           0.91      1119\n",
            "   macro avg       0.96      0.93      0.94      1119\n",
            "weighted avg       0.91      0.91      0.91      1119\n",
            "\n",
            "----Test Metrics----\n",
            "Confusion Matrix:\n",
            " [[  0   0   2   1   0   0]\n",
            " [  1   0   9   6   1   0]\n",
            " [  0   1 159  40   3   1]\n",
            " [  0   1  45 127  18   2]\n",
            " [  1   0   3  20  35   0]\n",
            " [  0   0   0   1   3   0]]\n",
            "\n",
            "\n",
            "Accuracy Score:\n",
            " 0.66875\n",
            "\n",
            "\n",
            "Classification Report: \n",
            "               precision    recall  f1-score   support\n",
            "\n",
            "           3       0.00      0.00      0.00         3\n",
            "           4       0.00      0.00      0.00        17\n",
            "           5       0.73      0.78      0.75       204\n",
            "           6       0.65      0.66      0.65       193\n",
            "           7       0.58      0.59      0.59        59\n",
            "           8       0.00      0.00      0.00         4\n",
            "\n",
            "    accuracy                           0.67       480\n",
            "   macro avg       0.33      0.34      0.33       480\n",
            "weighted avg       0.64      0.67      0.66       480\n",
            "\n"
          ],
          "name": "stdout"
        }
      ]
    },
    {
      "cell_type": "code",
      "metadata": {
        "colab": {
          "base_uri": "https://localhost:8080/"
        },
        "id": "WlpwL01iUcg4",
        "outputId": "0e815b40-cae3-4ee4-9773-49675b4fb77f"
      },
      "source": [
        "predictions(xgb)"
      ],
      "execution_count": 166,
      "outputs": [
        {
          "output_type": "stream",
          "text": [
            "----Train Metrics----\n",
            "Confusion Matrix:\n",
            " [[  7   0   0   0   0   0]\n",
            " [  0  14  15   7   0   0]\n",
            " [  0   0 423  53   1   0]\n",
            " [  0   0  67 367  11   0]\n",
            " [  0   0   6  27 107   0]\n",
            " [  0   0   0   1   3  10]]\n",
            "\n",
            "\n",
            "Accuracy Score:\n",
            " 0.8293118856121537\n",
            "\n",
            "\n",
            "Classification Report: \n",
            "               precision    recall  f1-score   support\n",
            "\n",
            "           3       1.00      1.00      1.00         7\n",
            "           4       1.00      0.39      0.56        36\n",
            "           5       0.83      0.89      0.86       477\n",
            "           6       0.81      0.82      0.82       445\n",
            "           7       0.88      0.76      0.82       140\n",
            "           8       1.00      0.71      0.83        14\n",
            "\n",
            "    accuracy                           0.83      1119\n",
            "   macro avg       0.92      0.76      0.81      1119\n",
            "weighted avg       0.83      0.83      0.83      1119\n",
            "\n",
            "----Test Metrics----\n",
            "Confusion Matrix:\n",
            " [[  0   0   2   1   0   0]\n",
            " [  0   0   9   7   1   0]\n",
            " [  1   1 157  42   3   0]\n",
            " [  1   0  43 129  20   0]\n",
            " [  0   0   2  26  31   0]\n",
            " [  0   0   0   1   3   0]]\n",
            "\n",
            "\n",
            "Accuracy Score:\n",
            " 0.6604166666666667\n",
            "\n",
            "\n",
            "Classification Report: \n",
            "               precision    recall  f1-score   support\n",
            "\n",
            "           3       0.00      0.00      0.00         3\n",
            "           4       0.00      0.00      0.00        17\n",
            "           5       0.74      0.77      0.75       204\n",
            "           6       0.63      0.67      0.65       193\n",
            "           7       0.53      0.53      0.53        59\n",
            "           8       0.00      0.00      0.00         4\n",
            "\n",
            "    accuracy                           0.66       480\n",
            "   macro avg       0.32      0.33      0.32       480\n",
            "weighted avg       0.63      0.66      0.65       480\n",
            "\n"
          ],
          "name": "stdout"
        }
      ]
    },
    {
      "cell_type": "code",
      "metadata": {
        "colab": {
          "base_uri": "https://localhost:8080/"
        },
        "id": "Uqc0NQpkUold",
        "outputId": "35b75969-49f7-4c50-d339-c74369e0f0dc"
      },
      "source": [
        "predictions(lgbm)"
      ],
      "execution_count": 168,
      "outputs": [
        {
          "output_type": "stream",
          "text": [
            "----Train Metrics----\n",
            "Confusion Matrix:\n",
            " [[  7   0   0   0   0   0]\n",
            " [  0  36   0   0   0   0]\n",
            " [  0   0 477   0   0   0]\n",
            " [  0   0   0 445   0   0]\n",
            " [  0   0   0   0 140   0]\n",
            " [  0   0   0   0   0  14]]\n",
            "\n",
            "\n",
            "Accuracy Score:\n",
            " 1.0\n",
            "\n",
            "\n",
            "Classification Report: \n",
            "               precision    recall  f1-score   support\n",
            "\n",
            "           3       1.00      1.00      1.00         7\n",
            "           4       1.00      1.00      1.00        36\n",
            "           5       1.00      1.00      1.00       477\n",
            "           6       1.00      1.00      1.00       445\n",
            "           7       1.00      1.00      1.00       140\n",
            "           8       1.00      1.00      1.00        14\n",
            "\n",
            "    accuracy                           1.00      1119\n",
            "   macro avg       1.00      1.00      1.00      1119\n",
            "weighted avg       1.00      1.00      1.00      1119\n",
            "\n",
            "----Test Metrics----\n",
            "Confusion Matrix:\n",
            " [[  0   0   2   1   0   0]\n",
            " [  0   0  11   5   1   0]\n",
            " [  0   0 156  45   3   0]\n",
            " [  0   1  50 126  15   1]\n",
            " [  0   0   2  21  36   0]\n",
            " [  0   0   0   1   3   0]]\n",
            "\n",
            "\n",
            "Accuracy Score:\n",
            " 0.6625\n",
            "\n",
            "\n",
            "Classification Report: \n",
            "               precision    recall  f1-score   support\n",
            "\n",
            "           3       0.00      0.00      0.00         3\n",
            "           4       0.00      0.00      0.00        17\n",
            "           5       0.71      0.76      0.73       204\n",
            "           6       0.63      0.65      0.64       193\n",
            "           7       0.62      0.61      0.62        59\n",
            "           8       0.00      0.00      0.00         4\n",
            "\n",
            "    accuracy                           0.66       480\n",
            "   macro avg       0.33      0.34      0.33       480\n",
            "weighted avg       0.63      0.66      0.65       480\n",
            "\n"
          ],
          "name": "stdout"
        }
      ]
    },
    {
      "cell_type": "code",
      "metadata": {
        "id": "7ZHdaT_YUyjI"
      },
      "source": [
        "## from the above observations removing skewness and outliers is not affecting much on accuracy"
      ],
      "execution_count": 169,
      "outputs": []
    },
    {
      "cell_type": "code",
      "metadata": {
        "id": "scq305H4VFFY"
      },
      "source": [
        "## the best model from the observations is xgb with less overfitting than other models "
      ],
      "execution_count": 172,
      "outputs": []
    },
    {
      "cell_type": "code",
      "metadata": {
        "id": "axcco6j8Vg2V"
      },
      "source": [
        "import joblib"
      ],
      "execution_count": 170,
      "outputs": []
    },
    {
      "cell_type": "code",
      "metadata": {
        "colab": {
          "base_uri": "https://localhost:8080/"
        },
        "id": "RU1lJDrPVi-S",
        "outputId": "fb63976c-bdac-40e8-af98-43d680046954"
      },
      "source": [
        "joblib.dump(xgb,'wine quality.pkl')"
      ],
      "execution_count": 171,
      "outputs": [
        {
          "output_type": "execute_result",
          "data": {
            "text/plain": [
              "['wine quality.pkl']"
            ]
          },
          "metadata": {
            "tags": []
          },
          "execution_count": 171
        }
      ]
    },
    {
      "cell_type": "code",
      "metadata": {
        "id": "VhPK12YvVsLZ"
      },
      "source": [
        ""
      ],
      "execution_count": null,
      "outputs": []
    }
  ]
}